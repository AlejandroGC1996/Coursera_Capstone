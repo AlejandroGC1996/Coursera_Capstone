{
 "cells": [
  {
   "cell_type": "markdown",
   "metadata": {},
   "source": [
    "# Coursera Capstone Project Final Assignment"
   ]
  },
  {
   "cell_type": "markdown",
   "metadata": {},
   "source": [
    "## Alejandro González Casal 05/03/2021"
   ]
  },
  {
   "cell_type": "markdown",
   "metadata": {},
   "source": [
    "## 1 - Prepare the enviroment installation and import"
   ]
  },
  {
   "cell_type": "markdown",
   "metadata": {},
   "source": [
    "### 1.1 - Install the BeautifulSoup and Geopy libraries"
   ]
  },
  {
   "cell_type": "code",
   "execution_count": 94,
   "metadata": {},
   "outputs": [
    {
     "name": "stdout",
     "output_type": "stream",
     "text": [
      "Requirement already satisfied: bs4 in /home/jupyterlab/conda/envs/python/lib/python3.6/site-packages (0.0.1)\n",
      "Requirement already satisfied: beautifulsoup4 in /home/jupyterlab/conda/envs/python/lib/python3.6/site-packages (from bs4) (4.9.3)\n",
      "Requirement already satisfied: soupsieve>1.2; python_version >= \"3.0\" in /home/jupyterlab/conda/envs/python/lib/python3.6/site-packages (from beautifulsoup4->bs4) (2.2)\n"
     ]
    }
   ],
   "source": [
    "!pip install bs4"
   ]
  },
  {
   "cell_type": "code",
   "execution_count": 95,
   "metadata": {},
   "outputs": [
    {
     "name": "stdout",
     "output_type": "stream",
     "text": [
      "Requirement already satisfied: geopy in /home/jupyterlab/conda/envs/python/lib/python3.6/site-packages (2.1.0)\n",
      "Requirement already satisfied: geographiclib<2,>=1.49 in /home/jupyterlab/conda/envs/python/lib/python3.6/site-packages (from geopy) (1.50)\n"
     ]
    }
   ],
   "source": [
    "!pip install geopy"
   ]
  },
  {
   "cell_type": "markdown",
   "metadata": {},
   "source": [
    "### 1.2 - Import libraries"
   ]
  },
  {
   "cell_type": "code",
   "execution_count": 96,
   "metadata": {},
   "outputs": [],
   "source": [
    "import pandas as pd\n",
    "import requests\n",
    "from bs4 import BeautifulSoup\n",
    "import numpy as np\n",
    "import math\n",
    "from geopy.geocoders import Nominatim\n",
    "import seaborn as sns\n",
    "from sklearn.cluster import KMeans\n",
    "from sklearn.preprocessing import StandardScaler\n"
   ]
  },
  {
   "cell_type": "markdown",
   "metadata": {},
   "source": [
    "## 2 - Import and preapration of datasets"
   ]
  },
  {
   "cell_type": "markdown",
   "metadata": {},
   "source": [
    "### 2.1 - Download the first web, saving text response and parsing with BeautifulSoup"
   ]
  },
  {
   "cell_type": "code",
   "execution_count": 97,
   "metadata": {},
   "outputs": [],
   "source": [
    "html_data = requests.get('https://es.wikipedia.org/wiki/Anexo:Provincias_de_Espa%C3%B1a_por_PIB')\n",
    "html_data_text = html_data.text"
   ]
  },
  {
   "cell_type": "code",
   "execution_count": 98,
   "metadata": {},
   "outputs": [],
   "source": [
    "soup = BeautifulSoup(html_data_text, 'html.parser')"
   ]
  },
  {
   "cell_type": "code",
   "execution_count": 99,
   "metadata": {
    "scrolled": true
   },
   "outputs": [],
   "source": [
    "#soup.prettify()"
   ]
  },
  {
   "cell_type": "markdown",
   "metadata": {},
   "source": [
    "### 2.2 - Extract the table row by row using BeautifulSoup"
   ]
  },
  {
   "cell_type": "markdown",
   "metadata": {},
   "source": [
    "* Firstly, the canada_data dataframe is created with the required columns.\n",
    "* Then, a loop iterates through the table's rows, the first row with the headers is avoided because it has a different tag (th) and doesn't return anything in: col = row.find_all(\"td\")\n",
    "* The data of each column is saved in different variables and then appended into the dataframe.\n",
    "* After appending the line breaking token are deleted."
   ]
  },
  {
   "cell_type": "code",
   "execution_count": 100,
   "metadata": {
    "scrolled": true
   },
   "outputs": [],
   "source": [
    "#soup.find_all(\"tbody\")[0].find_all(\"tr\")"
   ]
  },
  {
   "cell_type": "code",
   "execution_count": 101,
   "metadata": {},
   "outputs": [
    {
     "data": {
      "text/html": [
       "<div>\n",
       "<style scoped>\n",
       "    .dataframe tbody tr th:only-of-type {\n",
       "        vertical-align: middle;\n",
       "    }\n",
       "\n",
       "    .dataframe tbody tr th {\n",
       "        vertical-align: top;\n",
       "    }\n",
       "\n",
       "    .dataframe thead th {\n",
       "        text-align: right;\n",
       "    }\n",
       "</style>\n",
       "<table border=\"1\" class=\"dataframe\">\n",
       "  <thead>\n",
       "    <tr style=\"text-align: right;\">\n",
       "      <th></th>\n",
       "      <th>Province</th>\n",
       "      <th>Autonomous community</th>\n",
       "      <th>GDP (thousands €)</th>\n",
       "      <th>GDP/capita (€)</th>\n",
       "    </tr>\n",
       "  </thead>\n",
       "  <tbody>\n",
       "    <tr>\n",
       "      <th>1</th>\n",
       "      <td>Madrid</td>\n",
       "      <td>Madrid</td>\n",
       "      <td>231133592</td>\n",
       "      <td>35913</td>\n",
       "    </tr>\n",
       "    <tr>\n",
       "      <th>2</th>\n",
       "      <td>Barcelona</td>\n",
       "      <td>Cataluña</td>\n",
       "      <td>171350447</td>\n",
       "      <td>30947</td>\n",
       "    </tr>\n",
       "    <tr>\n",
       "      <th>3</th>\n",
       "      <td>Valencia</td>\n",
       "      <td>Comunidad Valenciana</td>\n",
       "      <td>59123107</td>\n",
       "      <td>23363</td>\n",
       "    </tr>\n",
       "    <tr>\n",
       "      <th>4</th>\n",
       "      <td>Sevilla</td>\n",
       "      <td>Andalucía</td>\n",
       "      <td>39535345</td>\n",
       "      <td>20314</td>\n",
       "    </tr>\n",
       "    <tr>\n",
       "      <th>5</th>\n",
       "      <td>Alicante</td>\n",
       "      <td>Comunidad Valenciana</td>\n",
       "      <td>36521398</td>\n",
       "      <td>19757</td>\n",
       "    </tr>\n",
       "  </tbody>\n",
       "</table>\n",
       "</div>"
      ],
      "text/plain": [
       "    Province  Autonomous community GDP (thousands €) GDP/capita (€)\n",
       "1     Madrid                Madrid         231133592          35913\n",
       "2  Barcelona              Cataluña         171350447          30947\n",
       "3   Valencia  Comunidad Valenciana          59123107          23363\n",
       "4    Sevilla             Andalucía          39535345          20314\n",
       "5   Alicante  Comunidad Valenciana          36521398          19757"
      ]
     },
     "execution_count": 101,
     "metadata": {},
     "output_type": "execute_result"
    }
   ],
   "source": [
    "spain_data_1 = pd.DataFrame(columns=[\"Province\", \"Autonomous community\", \"GDP (thousands €)\", \"GDP/capita (€)\"])\n",
    "\n",
    "for row in soup.find_all(\"tbody\")[1].find_all(\"tr\"):\n",
    "    col = row.find_all(\"td\")\n",
    "    if len(col) != 0:\n",
    "        province = col[1].text.replace(\"\\n\",\"\")\n",
    "        CA = col[2].text.replace(\"\\n\",\"\").replace(\"€\",\"\")\n",
    "        GDP = col[3].text.replace(\"\\n\",\"\").replace(\".\",\"\")\n",
    "        GDPpc = col[4].text.replace(\"\\n\",\"\").replace(\".\",\"\")\n",
    "        spain_data_1 = spain_data_1.append({\"Province\":province, \"Autonomous community\":CA, \"GDP (thousands €)\": GDP, \"GDP/capita (€)\":GDPpc}, ignore_index=True)\n",
    "\n",
    "spain_data_1 = spain_data_1.drop(0,axis=0)\n",
    "spain_data_1.at[7,'Province'] = 'Baleares' #to make it match with the one in the second dataset\n",
    "spain_data_1.head()"
   ]
  },
  {
   "cell_type": "markdown",
   "metadata": {},
   "source": [
    "### 2.3 - Repeat 2.1+2.2 to the second web"
   ]
  },
  {
   "cell_type": "code",
   "execution_count": 102,
   "metadata": {},
   "outputs": [],
   "source": [
    "html_data = requests.get('https://es.wikipedia.org/wiki/Anexo:Provincias_y_ciudades_aut%C3%B3nomas_de_Espa%C3%B1a')\n",
    "html_data_text = html_data.text\n",
    "html_data.headers\n",
    "soup = BeautifulSoup(html_data_text, 'html.parser')"
   ]
  },
  {
   "cell_type": "code",
   "execution_count": 103,
   "metadata": {},
   "outputs": [],
   "source": [
    "#soup.find_all(\"tbody\")[0].find_all(\"tr\")"
   ]
  },
  {
   "cell_type": "code",
   "execution_count": 104,
   "metadata": {},
   "outputs": [
    {
     "data": {
      "text/html": [
       "<div>\n",
       "<style scoped>\n",
       "    .dataframe tbody tr th:only-of-type {\n",
       "        vertical-align: middle;\n",
       "    }\n",
       "\n",
       "    .dataframe tbody tr th {\n",
       "        vertical-align: top;\n",
       "    }\n",
       "\n",
       "    .dataframe thead th {\n",
       "        text-align: right;\n",
       "    }\n",
       "</style>\n",
       "<table border=\"1\" class=\"dataframe\">\n",
       "  <thead>\n",
       "    <tr style=\"text-align: right;\">\n",
       "      <th></th>\n",
       "      <th>Province</th>\n",
       "      <th>Population</th>\n",
       "      <th>Area(km2)</th>\n",
       "    </tr>\n",
       "  </thead>\n",
       "  <tbody>\n",
       "    <tr>\n",
       "      <th>0</th>\n",
       "      <td>Madrid</td>\n",
       "      <td>6779888</td>\n",
       "      <td>8027</td>\n",
       "    </tr>\n",
       "    <tr>\n",
       "      <th>1</th>\n",
       "      <td>Barcelona</td>\n",
       "      <td>5743402</td>\n",
       "      <td>7733</td>\n",
       "    </tr>\n",
       "    <tr>\n",
       "      <th>2</th>\n",
       "      <td>Valencia</td>\n",
       "      <td>2591875</td>\n",
       "      <td>10807</td>\n",
       "    </tr>\n",
       "    <tr>\n",
       "      <th>3</th>\n",
       "      <td>Sevilla</td>\n",
       "      <td>1950219</td>\n",
       "      <td>14036</td>\n",
       "    </tr>\n",
       "    <tr>\n",
       "      <th>4</th>\n",
       "      <td>Alicante</td>\n",
       "      <td>1879888</td>\n",
       "      <td>5817</td>\n",
       "    </tr>\n",
       "  </tbody>\n",
       "</table>\n",
       "</div>"
      ],
      "text/plain": [
       "    Province Population Area(km2)\n",
       "0     Madrid    6779888      8027\n",
       "1  Barcelona    5743402      7733\n",
       "2   Valencia    2591875     10807\n",
       "3    Sevilla    1950219     14036\n",
       "4   Alicante    1879888      5817"
      ]
     },
     "execution_count": 104,
     "metadata": {},
     "output_type": "execute_result"
    }
   ],
   "source": [
    "spain_data_2 = pd.DataFrame(columns=[\"Province\", \"Population\", \"Area(km2)\"])\n",
    "\n",
    "for row in soup.find_all(\"tbody\")[0].find_all(\"tr\"):\n",
    "    col = row.find_all(\"td\")\n",
    "    if len(col) != 0:\n",
    "        province = col[2].text.replace(\"\\n\",\"\")\n",
    "        pob = col[3].text.replace(\"\\n\",\"\").replace(\"\\xa0\",\"\")\n",
    "        sup = col[6].text.replace(\"\\n\",\"\").replace(\"&0\",\"\").replace(\"&\",\"\").split(\".\")[0]\n",
    "        spain_data_2 = spain_data_2.append({\"Province\":province, \"Population\": pob, \"Area(km2)\":sup}, ignore_index=True)\n",
    "spain_data_2.head()"
   ]
  },
  {
   "cell_type": "markdown",
   "metadata": {},
   "source": [
    "### 2.4 - Merge both datasets using the province name"
   ]
  },
  {
   "cell_type": "code",
   "execution_count": 105,
   "metadata": {},
   "outputs": [
    {
     "data": {
      "text/html": [
       "<div>\n",
       "<style scoped>\n",
       "    .dataframe tbody tr th:only-of-type {\n",
       "        vertical-align: middle;\n",
       "    }\n",
       "\n",
       "    .dataframe tbody tr th {\n",
       "        vertical-align: top;\n",
       "    }\n",
       "\n",
       "    .dataframe thead th {\n",
       "        text-align: right;\n",
       "    }\n",
       "</style>\n",
       "<table border=\"1\" class=\"dataframe\">\n",
       "  <thead>\n",
       "    <tr style=\"text-align: right;\">\n",
       "      <th></th>\n",
       "      <th>Province</th>\n",
       "      <th>Autonomous community</th>\n",
       "      <th>GDP (thousands €)</th>\n",
       "      <th>GDP/capita (€)</th>\n",
       "      <th>Population</th>\n",
       "      <th>Area(km2)</th>\n",
       "    </tr>\n",
       "  </thead>\n",
       "  <tbody>\n",
       "    <tr>\n",
       "      <th>0</th>\n",
       "      <td>Madrid</td>\n",
       "      <td>Madrid</td>\n",
       "      <td>231133592</td>\n",
       "      <td>35913</td>\n",
       "      <td>6779888</td>\n",
       "      <td>8027</td>\n",
       "    </tr>\n",
       "    <tr>\n",
       "      <th>1</th>\n",
       "      <td>Barcelona</td>\n",
       "      <td>Cataluña</td>\n",
       "      <td>171350447</td>\n",
       "      <td>30947</td>\n",
       "      <td>5743402</td>\n",
       "      <td>7733</td>\n",
       "    </tr>\n",
       "    <tr>\n",
       "      <th>2</th>\n",
       "      <td>Valencia</td>\n",
       "      <td>Comunidad Valenciana</td>\n",
       "      <td>59123107</td>\n",
       "      <td>23363</td>\n",
       "      <td>2591875</td>\n",
       "      <td>10807</td>\n",
       "    </tr>\n",
       "    <tr>\n",
       "      <th>3</th>\n",
       "      <td>Sevilla</td>\n",
       "      <td>Andalucía</td>\n",
       "      <td>39535345</td>\n",
       "      <td>20314</td>\n",
       "      <td>1950219</td>\n",
       "      <td>14036</td>\n",
       "    </tr>\n",
       "    <tr>\n",
       "      <th>4</th>\n",
       "      <td>Alicante</td>\n",
       "      <td>Comunidad Valenciana</td>\n",
       "      <td>36521398</td>\n",
       "      <td>19757</td>\n",
       "      <td>1879888</td>\n",
       "      <td>5817</td>\n",
       "    </tr>\n",
       "  </tbody>\n",
       "</table>\n",
       "</div>"
      ],
      "text/plain": [
       "    Province  Autonomous community GDP (thousands €) GDP/capita (€)  \\\n",
       "0     Madrid                Madrid         231133592          35913   \n",
       "1  Barcelona              Cataluña         171350447          30947   \n",
       "2   Valencia  Comunidad Valenciana          59123107          23363   \n",
       "3    Sevilla             Andalucía          39535345          20314   \n",
       "4   Alicante  Comunidad Valenciana          36521398          19757   \n",
       "\n",
       "  Population Area(km2)  \n",
       "0    6779888      8027  \n",
       "1    5743402      7733  \n",
       "2    2591875     10807  \n",
       "3    1950219     14036  \n",
       "4    1879888      5817  "
      ]
     },
     "execution_count": 105,
     "metadata": {},
     "output_type": "execute_result"
    }
   ],
   "source": [
    "spain_data = pd.merge(spain_data_1, spain_data_2, on='Province')\n",
    "spain_data.head()"
   ]
  },
  {
   "cell_type": "markdown",
   "metadata": {},
   "source": [
    "### 2.5 - Extract geographical coordinates and inserting them into the dataset"
   ]
  },
  {
   "cell_type": "code",
   "execution_count": 106,
   "metadata": {},
   "outputs": [
    {
     "name": "stdout",
     "output_type": "stream",
     "text": [
      "Madrid,Barcelona,Valencia,Sevilla,Alicante,Vizcaya,Baleares,Murcia,Málaga,La Coruña,Zaragoza,Tarragona,Guipúzcoa,Las Palmas,Asturias,Santa Cruz de Tenerife,Cádiz,Gerona,Pontevedra,Navarra,Granada,Castellón,Almería,Córdoba,Valladolid,Cantabria,Lérida,Toledo,Álava,Badajoz,Jaén,Ciudad Real,Huelva,Burgos,León,La Rioja,Albacete,Lugo,Cáceres,Salamanca,Orense,Huesca,Guadalajara,Cuenca,Palencia,Zamora,Segovia,Teruel,Ávila,Soria,Ceuta,Melilla,"
     ]
    },
    {
     "data": {
      "text/html": [
       "<div>\n",
       "<style scoped>\n",
       "    .dataframe tbody tr th:only-of-type {\n",
       "        vertical-align: middle;\n",
       "    }\n",
       "\n",
       "    .dataframe tbody tr th {\n",
       "        vertical-align: top;\n",
       "    }\n",
       "\n",
       "    .dataframe thead th {\n",
       "        text-align: right;\n",
       "    }\n",
       "</style>\n",
       "<table border=\"1\" class=\"dataframe\">\n",
       "  <thead>\n",
       "    <tr style=\"text-align: right;\">\n",
       "      <th></th>\n",
       "      <th>Province</th>\n",
       "      <th>Autonomous community</th>\n",
       "      <th>GDP (thousands €)</th>\n",
       "      <th>GDP/capita (€)</th>\n",
       "      <th>Population</th>\n",
       "      <th>Area(km2)</th>\n",
       "      <th>Latitude</th>\n",
       "      <th>Longitude</th>\n",
       "    </tr>\n",
       "  </thead>\n",
       "  <tbody>\n",
       "    <tr>\n",
       "      <th>0</th>\n",
       "      <td>Madrid</td>\n",
       "      <td>Madrid</td>\n",
       "      <td>231133592</td>\n",
       "      <td>35913</td>\n",
       "      <td>6779888</td>\n",
       "      <td>8027</td>\n",
       "      <td>40.416705</td>\n",
       "      <td>-3.703582</td>\n",
       "    </tr>\n",
       "    <tr>\n",
       "      <th>1</th>\n",
       "      <td>Barcelona</td>\n",
       "      <td>Cataluña</td>\n",
       "      <td>171350447</td>\n",
       "      <td>30947</td>\n",
       "      <td>5743402</td>\n",
       "      <td>7733</td>\n",
       "      <td>41.382894</td>\n",
       "      <td>2.177432</td>\n",
       "    </tr>\n",
       "    <tr>\n",
       "      <th>2</th>\n",
       "      <td>Valencia</td>\n",
       "      <td>Comunidad Valenciana</td>\n",
       "      <td>59123107</td>\n",
       "      <td>23363</td>\n",
       "      <td>2591875</td>\n",
       "      <td>10807</td>\n",
       "      <td>39.469707</td>\n",
       "      <td>-0.376335</td>\n",
       "    </tr>\n",
       "    <tr>\n",
       "      <th>3</th>\n",
       "      <td>Sevilla</td>\n",
       "      <td>Andalucía</td>\n",
       "      <td>39535345</td>\n",
       "      <td>20314</td>\n",
       "      <td>1950219</td>\n",
       "      <td>14036</td>\n",
       "      <td>37.388630</td>\n",
       "      <td>-5.995340</td>\n",
       "    </tr>\n",
       "    <tr>\n",
       "      <th>4</th>\n",
       "      <td>Alicante</td>\n",
       "      <td>Comunidad Valenciana</td>\n",
       "      <td>36521398</td>\n",
       "      <td>19757</td>\n",
       "      <td>1879888</td>\n",
       "      <td>5817</td>\n",
       "      <td>38.353738</td>\n",
       "      <td>-0.490185</td>\n",
       "    </tr>\n",
       "  </tbody>\n",
       "</table>\n",
       "</div>"
      ],
      "text/plain": [
       "    Province  Autonomous community GDP (thousands €) GDP/capita (€)  \\\n",
       "0     Madrid                Madrid         231133592          35913   \n",
       "1  Barcelona              Cataluña         171350447          30947   \n",
       "2   Valencia  Comunidad Valenciana          59123107          23363   \n",
       "3    Sevilla             Andalucía          39535345          20314   \n",
       "4   Alicante  Comunidad Valenciana          36521398          19757   \n",
       "\n",
       "  Population Area(km2)   Latitude  Longitude  \n",
       "0    6779888      8027  40.416705  -3.703582  \n",
       "1    5743402      7733  41.382894   2.177432  \n",
       "2    2591875     10807  39.469707  -0.376335  \n",
       "3    1950219     14036  37.388630  -5.995340  \n",
       "4    1879888      5817  38.353738  -0.490185  "
      ]
     },
     "execution_count": 106,
     "metadata": {},
     "output_type": "execute_result"
    }
   ],
   "source": [
    "#get the latitude and longitude coordinates of each spanish province.\n",
    "for i in spain_data.index:\n",
    "    prov = spain_data.loc[i,'Province']\n",
    "    print(f'{prov},', end='')\n",
    "    address = f'{prov}, ES'\n",
    "    geolocator = Nominatim(user_agent=\"es_explorer\")\n",
    "    location = geolocator.geocode(address)\n",
    "    spain_data.at[i,'Latitude'] = location.latitude\n",
    "    spain_data.at[i,'Longitude'] = location.longitude\n",
    "    #print('The geograpical coordinate of {} are {}, {}.'.format(prov,spain_data.at[i,'Latitude'], spain_data.at[i,'Longitude']))\n",
    "spain_data.head()"
   ]
  },
  {
   "cell_type": "markdown",
   "metadata": {},
   "source": [
    "#### Detecting some missing values in the area colunm and replacing them with the actual values."
   ]
  },
  {
   "cell_type": "code",
   "execution_count": 107,
   "metadata": {},
   "outputs": [
    {
     "data": {
      "text/html": [
       "<div>\n",
       "<style scoped>\n",
       "    .dataframe tbody tr th:only-of-type {\n",
       "        vertical-align: middle;\n",
       "    }\n",
       "\n",
       "    .dataframe tbody tr th {\n",
       "        vertical-align: top;\n",
       "    }\n",
       "\n",
       "    .dataframe thead th {\n",
       "        text-align: right;\n",
       "    }\n",
       "</style>\n",
       "<table border=\"1\" class=\"dataframe\">\n",
       "  <thead>\n",
       "    <tr style=\"text-align: right;\">\n",
       "      <th></th>\n",
       "      <th>Province</th>\n",
       "      <th>Autonomous community</th>\n",
       "      <th>GDP (thousands €)</th>\n",
       "      <th>GDP/capita (€)</th>\n",
       "      <th>Population</th>\n",
       "      <th>Area(km2)</th>\n",
       "      <th>Latitude</th>\n",
       "      <th>Longitude</th>\n",
       "    </tr>\n",
       "  </thead>\n",
       "  <tbody>\n",
       "    <tr>\n",
       "      <th>11</th>\n",
       "      <td>Tarragona</td>\n",
       "      <td>Cataluña</td>\n",
       "      <td>24567640</td>\n",
       "      <td>30810</td>\n",
       "      <td>804664</td>\n",
       "      <td>TBD</td>\n",
       "      <td>41.117236</td>\n",
       "      <td>1.254606</td>\n",
       "    </tr>\n",
       "    <tr>\n",
       "      <th>17</th>\n",
       "      <td>Gerona</td>\n",
       "      <td>Cataluña</td>\n",
       "      <td>21208782</td>\n",
       "      <td>28184</td>\n",
       "      <td>761947</td>\n",
       "      <td>TBD</td>\n",
       "      <td>41.979301</td>\n",
       "      <td>2.819944</td>\n",
       "    </tr>\n",
       "  </tbody>\n",
       "</table>\n",
       "</div>"
      ],
      "text/plain": [
       "     Province Autonomous community GDP (thousands €) GDP/capita (€)  \\\n",
       "11  Tarragona             Cataluña          24567640          30810   \n",
       "17     Gerona             Cataluña          21208782          28184   \n",
       "\n",
       "   Population Area(km2)   Latitude  Longitude  \n",
       "11     804664       TBD  41.117236   1.254606  \n",
       "17     761947       TBD  41.979301   2.819944  "
      ]
     },
     "execution_count": 107,
     "metadata": {},
     "output_type": "execute_result"
    }
   ],
   "source": [
    "# In the area column there are missing values ('TBD')\n",
    "spain_data[spain_data['Area(km2)'] == 'TBD']"
   ]
  },
  {
   "cell_type": "code",
   "execution_count": 108,
   "metadata": {},
   "outputs": [],
   "source": [
    "#In that case, as it is easy to find information we can google it and complete the dataset.\n",
    "spain_data.loc[11,'Area(km2)'] = 6303\n",
    "spain_data.loc[17,'Area(km2)'] = 5905"
   ]
  },
  {
   "cell_type": "markdown",
   "metadata": {},
   "source": [
    "### 2.6 - Change numerical values datatype from object to float."
   ]
  },
  {
   "cell_type": "code",
   "execution_count": 109,
   "metadata": {},
   "outputs": [
    {
     "data": {
      "text/plain": [
       "Province                 object\n",
       "Autonomous community     object\n",
       "GDP (thousands €)       float64\n",
       "GDP/capita (€)          float64\n",
       "Population              float64\n",
       "Area(km2)               float64\n",
       "Latitude                float64\n",
       "Longitude               float64\n",
       "dtype: object"
      ]
     },
     "execution_count": 109,
     "metadata": {},
     "output_type": "execute_result"
    }
   ],
   "source": [
    "spain_data [['GDP (thousands €)','GDP/capita (€)','Population','Area(km2)']] = spain_data[['GDP (thousands €)','GDP/capita (€)','Population','Area(km2)']].astype(float)\n",
    "spain_data.dtypes"
   ]
  },
  {
   "cell_type": "markdown",
   "metadata": {},
   "source": [
    "### 2.7 - Calculate province equivalent radius "
   ]
  },
  {
   "cell_type": "markdown",
   "metadata": {},
   "source": [
    "In order to use the radius search provided by Foursquare is needed some aproximation of whether a venue (in this case industrail states or power plants) is within a province. To do so, we will aproximate this radius assuming the provinces as circles (which is quite accurate in the case of Spain)."
   ]
  },
  {
   "cell_type": "code",
   "execution_count": 110,
   "metadata": {},
   "outputs": [
    {
     "data": {
      "text/html": [
       "<div>\n",
       "<style scoped>\n",
       "    .dataframe tbody tr th:only-of-type {\n",
       "        vertical-align: middle;\n",
       "    }\n",
       "\n",
       "    .dataframe tbody tr th {\n",
       "        vertical-align: top;\n",
       "    }\n",
       "\n",
       "    .dataframe thead th {\n",
       "        text-align: right;\n",
       "    }\n",
       "</style>\n",
       "<table border=\"1\" class=\"dataframe\">\n",
       "  <thead>\n",
       "    <tr style=\"text-align: right;\">\n",
       "      <th></th>\n",
       "      <th>Province</th>\n",
       "      <th>Autonomous community</th>\n",
       "      <th>GDP (thousands €)</th>\n",
       "      <th>GDP/capita (€)</th>\n",
       "      <th>Population</th>\n",
       "      <th>Area(km2)</th>\n",
       "      <th>Latitude</th>\n",
       "      <th>Longitude</th>\n",
       "      <th>Equivalent radius</th>\n",
       "    </tr>\n",
       "  </thead>\n",
       "  <tbody>\n",
       "    <tr>\n",
       "      <th>0</th>\n",
       "      <td>Madrid</td>\n",
       "      <td>Madrid</td>\n",
       "      <td>231133592.0</td>\n",
       "      <td>35913.0</td>\n",
       "      <td>6779888.0</td>\n",
       "      <td>8027.0</td>\n",
       "      <td>40.416705</td>\n",
       "      <td>-3.703582</td>\n",
       "      <td>50.547734</td>\n",
       "    </tr>\n",
       "    <tr>\n",
       "      <th>1</th>\n",
       "      <td>Barcelona</td>\n",
       "      <td>Cataluña</td>\n",
       "      <td>171350447.0</td>\n",
       "      <td>30947.0</td>\n",
       "      <td>5743402.0</td>\n",
       "      <td>7733.0</td>\n",
       "      <td>41.382894</td>\n",
       "      <td>2.177432</td>\n",
       "      <td>49.613409</td>\n",
       "    </tr>\n",
       "    <tr>\n",
       "      <th>2</th>\n",
       "      <td>Valencia</td>\n",
       "      <td>Comunidad Valenciana</td>\n",
       "      <td>59123107.0</td>\n",
       "      <td>23363.0</td>\n",
       "      <td>2591875.0</td>\n",
       "      <td>10807.0</td>\n",
       "      <td>39.469707</td>\n",
       "      <td>-0.376335</td>\n",
       "      <td>58.651300</td>\n",
       "    </tr>\n",
       "    <tr>\n",
       "      <th>3</th>\n",
       "      <td>Sevilla</td>\n",
       "      <td>Andalucía</td>\n",
       "      <td>39535345.0</td>\n",
       "      <td>20314.0</td>\n",
       "      <td>1950219.0</td>\n",
       "      <td>14036.0</td>\n",
       "      <td>37.388630</td>\n",
       "      <td>-5.995340</td>\n",
       "      <td>66.841586</td>\n",
       "    </tr>\n",
       "    <tr>\n",
       "      <th>4</th>\n",
       "      <td>Alicante</td>\n",
       "      <td>Comunidad Valenciana</td>\n",
       "      <td>36521398.0</td>\n",
       "      <td>19757.0</td>\n",
       "      <td>1879888.0</td>\n",
       "      <td>5817.0</td>\n",
       "      <td>38.353738</td>\n",
       "      <td>-0.490185</td>\n",
       "      <td>43.030322</td>\n",
       "    </tr>\n",
       "  </tbody>\n",
       "</table>\n",
       "</div>"
      ],
      "text/plain": [
       "    Province  Autonomous community  GDP (thousands €)  GDP/capita (€)  \\\n",
       "0     Madrid                Madrid        231133592.0         35913.0   \n",
       "1  Barcelona              Cataluña        171350447.0         30947.0   \n",
       "2   Valencia  Comunidad Valenciana         59123107.0         23363.0   \n",
       "3    Sevilla             Andalucía         39535345.0         20314.0   \n",
       "4   Alicante  Comunidad Valenciana         36521398.0         19757.0   \n",
       "\n",
       "   Population  Area(km2)   Latitude  Longitude  Equivalent radius  \n",
       "0   6779888.0     8027.0  40.416705  -3.703582          50.547734  \n",
       "1   5743402.0     7733.0  41.382894   2.177432          49.613409  \n",
       "2   2591875.0    10807.0  39.469707  -0.376335          58.651300  \n",
       "3   1950219.0    14036.0  37.388630  -5.995340          66.841586  \n",
       "4   1879888.0     5817.0  38.353738  -0.490185          43.030322  "
      ]
     },
     "execution_count": 110,
     "metadata": {},
     "output_type": "execute_result"
    }
   ],
   "source": [
    "spain_data['Equivalent radius'] = spain_data['Area(km2)']/math.pi\n",
    "spain_data['Equivalent radius'] = spain_data['Equivalent radius'].apply(np.sqrt)\n",
    "spain_data.head()"
   ]
  },
  {
   "cell_type": "markdown",
   "metadata": {},
   "source": [
    "## 3 - Use Foursquare to extract industrial states and powerplants within a province"
   ]
  },
  {
   "cell_type": "markdown",
   "metadata": {},
   "source": [
    "### 3.1 Declare FourSquare credentials"
   ]
  },
  {
   "cell_type": "code",
   "execution_count": 111,
   "metadata": {},
   "outputs": [
    {
     "name": "stdout",
     "output_type": "stream",
     "text": [
      "Your credentails:\n",
      "CLIENT_ID: RDDJKPLXN3F2Z3LVPMIIHN044HZAANGR0IU20Z3IQMRIDQBN\n",
      "CLIENT_SECRET:Z5UKFZCR5LCCGNBFT5YII22T3IEN0FX1WKTRJNJ0P1COKBY2\n"
     ]
    }
   ],
   "source": [
    "CLIENT_ID = 'RDDJKPLXN3F2Z3LVPMIIHN044HZAANGR0IU20Z3IQMRIDQBN' # your Foursquare ID\n",
    "CLIENT_SECRET = 'Z5UKFZCR5LCCGNBFT5YII22T3IEN0FX1WKTRJNJ0P1COKBY2' # your Foursquare Secret\n",
    "VERSION = '20180605' # Foursquare API version\n",
    "LIMIT = 100 # A default Foursquare API limit value\n",
    "\n",
    "print('Your credentails:')\n",
    "print('CLIENT_ID: ' + CLIENT_ID)\n",
    "print('CLIENT_SECRET:' + CLIENT_SECRET)"
   ]
  },
  {
   "cell_type": "markdown",
   "metadata": {},
   "source": [
    "### 3.2 Function to iteratively extract the venues of a given type within the equivalent radius of a province."
   ]
  },
  {
   "cell_type": "code",
   "execution_count": 112,
   "metadata": {},
   "outputs": [],
   "source": [
    "def getNearbyVenues(names, latitudes, longitudes, radius, category):\n",
    "    \n",
    "    venues_list=[]\n",
    "    for name, lat, lng, rad in zip(names, latitudes, longitudes, radius):\n",
    "        print(name, lat, lng, rad)\n",
    "            \n",
    "        # create the API request URL\n",
    "        url = 'https://api.foursquare.com/v2/venues/explore?&client_id={}&client_secret={}&v={}&ll={},{}&radius={}&limit={}&categoryId={}'.format(\n",
    "            CLIENT_ID, \n",
    "            CLIENT_SECRET, \n",
    "            VERSION, \n",
    "            lat, \n",
    "            lng, \n",
    "            rad, \n",
    "            LIMIT,\n",
    "            category)\n",
    "        \n",
    "        # make the GET request\n",
    "        results = requests.get(url).json()['response']['groups'][0]['items']\n",
    "        \n",
    "        \n",
    "        # return only relevant information for each nearby venue\n",
    "        venues_list.append([(\n",
    "            name, \n",
    "            lat, \n",
    "            lng, \n",
    "            v['venue']['name'], \n",
    "            v['venue']['location']['lat'], \n",
    "            v['venue']['location']['lng'],  \n",
    "            v['venue']['categories'][0]['name']) for v in results])\n",
    "\n",
    "    nearby_venues = pd.DataFrame([item for venue_list in venues_list for item in venue_list])\n",
    "    nearby_venues.columns = ['Province', \n",
    "                  'Province Latitude', \n",
    "                  'Province Longitude', \n",
    "                  'Venue', \n",
    "                  'Venue Latitude', \n",
    "                  'Venue Longitude', \n",
    "                  'Venue Category']\n",
    "    \n",
    "    return(nearby_venues)"
   ]
  },
  {
   "cell_type": "markdown",
   "metadata": {},
   "source": [
    "### 3.2 - Extract Industrial States"
   ]
  },
  {
   "cell_type": "markdown",
   "metadata": {},
   "source": [
    "As Foursquare only allows the search within a given radius, we will use the equivalent radius of the province (that has been obteined previously by the area of each of them). Firstly we will extract the Industrial states within the provinces using the categoryId = '56aa371be4b08b9a8d5734d7'."
   ]
  },
  {
   "cell_type": "code",
   "execution_count": 113,
   "metadata": {},
   "outputs": [
    {
     "name": "stdout",
     "output_type": "stream",
     "text": [
      "Madrid 40.4167047 -3.7035825 50547.734433872385\n",
      "Barcelona 41.3828939 2.1774322 49613.408972366065\n",
      "Valencia 39.4697065 -0.3763353 58651.29955924443\n",
      "Sevilla 37.3886303 -5.9953403 66841.58557721149\n",
      "Alicante 38.353738 -0.4901846 43030.32195941729\n",
      "Vizcaya 43.238482000000005 -2.85163163999482 26564.883166870208\n",
      "Baleares 39.6134018 2.8804305326400756 39858.307063186956\n",
      "Murcia 37.9923795 -1.1305431 60008.66389445131\n",
      "Málaga 36.7213028 -4.4216366 48224.185098960195\n",
      "La Coruña 43.3712091 -8.3958768 50304.707485096624\n",
      "Zaragoza 41.6521342 -0.8809428 74151.76986383265\n",
      "Tarragona 41.1172364 1.2546057 44791.820822739865\n",
      "Guipúzcoa 43.144527800000006 -2.2037955488327494 25212.394624649005\n",
      "Las Palmas 28.128874 -15.4349448 36187.385533637476\n",
      "Asturias 43.271087800000004 -5.854145744587305 58095.09207503447\n",
      "Santa Cruz de Tenerife 28.469648 -16.2540884 32805.57460535322\n",
      "Cádiz 36.5297438 -6.2928976 48664.41773213158\n",
      "Gerona 41.9793006 2.8199439 43354.58312468573\n",
      "Pontevedra 42.6075172 -8.4714942 37821.74808902882\n",
      "Navarra 42.61254875 -1.830787673361753 57511.37302600042\n",
      "Granada 37.183054 -3.6021928 63445.620973241465\n",
      "Castellón 40.25185675 -0.061505110105748245 45959.81293168669\n",
      "Almería 36.8414197 -2.4628135 52850.44229959446\n",
      "Córdoba 37.8845813 -4.7760138 66207.593542108\n",
      "Valladolid 41.6521328 -4.728562 50808.3967169851\n",
      "Cantabria 43.1595664 -4.0878382 41154.91349017697\n",
      "Lérida 41.6147605 0.6267842 62245.22419133134\n",
      "Toledo 39.8560679 -4.0239568 69943.58184107159\n",
      "Álava 42.844072249999996 -2.6820829322126283 31091.914131171987\n",
      "Badajoz 38.8780585 -6.9702048 83236.60842848169\n",
      "Jaén 37.9557275 -3.492055612037218 65543.19357443944\n",
      "Ciudad Real 38.95975095 -3.88284645910809 79414.5690346516\n",
      "Huelva 37.2575874 -6.9484945 56776.08842975402\n",
      "Burgos 42.343926 -3.696977 66808.24218664276\n",
      "León 42.63414505 -5.971415104539984 70422.07059397969\n",
      "La Rioja 42.2814642 -2.482804975070473 40073.3499447853\n",
      "Albacete 38.9950921 -1.8559154 68928.17537973322\n",
      "Lugo 43.0462247 -7.4739921 56011.268850361186\n",
      "Cáceres 39.4745175 -6.3716761 79524.71828745797\n",
      "Salamanca 40.9651572 -5.6640182 62696.1624382516\n",
      "Orense 42.1968459 -7.6114105 48115.151482819936\n",
      "Huesca 42.13606145 -0.029802662719165485 70548.51791759874\n",
      "Guadalajara 40.7399963 -2.505930025884726 62352.521599762265\n",
      "Cuenca 40.0681156 -2.1348241 73863.60029940438\n",
      "Palencia 42.409632200000004 -4.616100410293067 50626.38841110319\n",
      "Zamora 41.6857693 -5.942315018340977 57979.91641928275\n",
      "Segovia 40.9502159 -4.1241494 46932.97787688133\n",
      "Teruel 40.6005259 -0.9229281754890265 68657.49124819343\n",
      "Ávila 40.656478 -4.7002172 50620.10059037333\n",
      "Soria 41.60125045 -2.721938035449954 57275.66400322346\n",
      "Ceuta 35.888361 -5.304138 2393.653682408596\n",
      "Melilla 35.292906 -2.9507198551536247 1954.4100476116796\n"
     ]
    }
   ],
   "source": [
    "LIMIT = 100\n",
    "spain_industrial_states = getNearbyVenues(names=spain_data['Province'],\n",
    "                                   latitudes=spain_data['Latitude'],\n",
    "                                   longitudes=spain_data['Longitude'],\n",
    "                                   radius=spain_data['Equivalent radius']*1000,\n",
    "                                   category = '56aa371be4b08b9a8d5734d7'\n",
    "                                  )"
   ]
  },
  {
   "cell_type": "code",
   "execution_count": 114,
   "metadata": {},
   "outputs": [
    {
     "data": {
      "text/html": [
       "<div>\n",
       "<style scoped>\n",
       "    .dataframe tbody tr th:only-of-type {\n",
       "        vertical-align: middle;\n",
       "    }\n",
       "\n",
       "    .dataframe tbody tr th {\n",
       "        vertical-align: top;\n",
       "    }\n",
       "\n",
       "    .dataframe thead th {\n",
       "        text-align: right;\n",
       "    }\n",
       "</style>\n",
       "<table border=\"1\" class=\"dataframe\">\n",
       "  <thead>\n",
       "    <tr style=\"text-align: right;\">\n",
       "      <th></th>\n",
       "      <th>Province</th>\n",
       "      <th>Province Latitude</th>\n",
       "      <th>Province Longitude</th>\n",
       "      <th>Venue</th>\n",
       "      <th>Latitude</th>\n",
       "      <th>Longitude</th>\n",
       "      <th>Category</th>\n",
       "    </tr>\n",
       "  </thead>\n",
       "  <tbody>\n",
       "    <tr>\n",
       "      <th>0</th>\n",
       "      <td>Madrid</td>\n",
       "      <td>40.416705</td>\n",
       "      <td>-3.703582</td>\n",
       "      <td>Poligono Cardenal Herrera Oria</td>\n",
       "      <td>40.488331</td>\n",
       "      <td>-3.692706</td>\n",
       "      <td>Industrial Estate</td>\n",
       "    </tr>\n",
       "    <tr>\n",
       "      <th>1</th>\n",
       "      <td>Madrid</td>\n",
       "      <td>40.416705</td>\n",
       "      <td>-3.703582</td>\n",
       "      <td>MAFRI SL</td>\n",
       "      <td>40.392677</td>\n",
       "      <td>-3.710872</td>\n",
       "      <td>Industrial Estate</td>\n",
       "    </tr>\n",
       "    <tr>\n",
       "      <th>2</th>\n",
       "      <td>Madrid</td>\n",
       "      <td>40.416705</td>\n",
       "      <td>-3.703582</td>\n",
       "      <td>Aitec</td>\n",
       "      <td>40.360112</td>\n",
       "      <td>-3.682312</td>\n",
       "      <td>Home Service</td>\n",
       "    </tr>\n",
       "    <tr>\n",
       "      <th>3</th>\n",
       "      <td>Madrid</td>\n",
       "      <td>40.416705</td>\n",
       "      <td>-3.703582</td>\n",
       "      <td>Acciona Industrial</td>\n",
       "      <td>40.533073</td>\n",
       "      <td>-3.626126</td>\n",
       "      <td>Industrial Estate</td>\n",
       "    </tr>\n",
       "    <tr>\n",
       "      <th>4</th>\n",
       "      <td>Madrid</td>\n",
       "      <td>40.416705</td>\n",
       "      <td>-3.703582</td>\n",
       "      <td>Poligono Industrial Las Nieves</td>\n",
       "      <td>40.349619</td>\n",
       "      <td>-3.878603</td>\n",
       "      <td>Industrial Estate</td>\n",
       "    </tr>\n",
       "  </tbody>\n",
       "</table>\n",
       "</div>"
      ],
      "text/plain": [
       "  Province  Province Latitude  Province Longitude  \\\n",
       "0   Madrid          40.416705           -3.703582   \n",
       "1   Madrid          40.416705           -3.703582   \n",
       "2   Madrid          40.416705           -3.703582   \n",
       "3   Madrid          40.416705           -3.703582   \n",
       "4   Madrid          40.416705           -3.703582   \n",
       "\n",
       "                            Venue   Latitude  Longitude           Category  \n",
       "0  Poligono Cardenal Herrera Oria  40.488331  -3.692706  Industrial Estate  \n",
       "1                        MAFRI SL  40.392677  -3.710872  Industrial Estate  \n",
       "2                           Aitec  40.360112  -3.682312       Home Service  \n",
       "3              Acciona Industrial  40.533073  -3.626126  Industrial Estate  \n",
       "4  Poligono Industrial Las Nieves  40.349619  -3.878603  Industrial Estate  "
      ]
     },
     "execution_count": 114,
     "metadata": {},
     "output_type": "execute_result"
    }
   ],
   "source": [
    "spain_industrial_states = spain_industrial_states.rename(columns = {'Venue Latitude':'Latitude','Venue Longitude':'Longitude','Venue Category':'Category'})\n",
    "spain_industrial_states.head()"
   ]
  },
  {
   "cell_type": "markdown",
   "metadata": {},
   "source": [
    "Count the number of industrail states within each province"
   ]
  },
  {
   "cell_type": "code",
   "execution_count": 115,
   "metadata": {},
   "outputs": [],
   "source": [
    "spain_industrial_states_edit = spain_industrial_states.groupby('Province').count()"
   ]
  },
  {
   "cell_type": "markdown",
   "metadata": {},
   "source": [
    "As every column displays the same value we can retrieve only one and change its name to 'Industrial States'"
   ]
  },
  {
   "cell_type": "code",
   "execution_count": 116,
   "metadata": {},
   "outputs": [],
   "source": [
    "spain_industrial_states_edit = spain_industrial_states_edit['Venue'].to_frame().rename(columns = {'Venue':'Industrial States'})"
   ]
  },
  {
   "cell_type": "code",
   "execution_count": 117,
   "metadata": {},
   "outputs": [
    {
     "data": {
      "text/html": [
       "<div>\n",
       "<style scoped>\n",
       "    .dataframe tbody tr th:only-of-type {\n",
       "        vertical-align: middle;\n",
       "    }\n",
       "\n",
       "    .dataframe tbody tr th {\n",
       "        vertical-align: top;\n",
       "    }\n",
       "\n",
       "    .dataframe thead th {\n",
       "        text-align: right;\n",
       "    }\n",
       "</style>\n",
       "<table border=\"1\" class=\"dataframe\">\n",
       "  <thead>\n",
       "    <tr style=\"text-align: right;\">\n",
       "      <th></th>\n",
       "      <th>Industrial States</th>\n",
       "    </tr>\n",
       "    <tr>\n",
       "      <th>Province</th>\n",
       "      <th></th>\n",
       "    </tr>\n",
       "  </thead>\n",
       "  <tbody>\n",
       "    <tr>\n",
       "      <th>Albacete</th>\n",
       "      <td>2</td>\n",
       "    </tr>\n",
       "    <tr>\n",
       "      <th>Alicante</th>\n",
       "      <td>5</td>\n",
       "    </tr>\n",
       "    <tr>\n",
       "      <th>Almería</th>\n",
       "      <td>5</td>\n",
       "    </tr>\n",
       "    <tr>\n",
       "      <th>Asturias</th>\n",
       "      <td>7</td>\n",
       "    </tr>\n",
       "    <tr>\n",
       "      <th>Baleares</th>\n",
       "      <td>3</td>\n",
       "    </tr>\n",
       "  </tbody>\n",
       "</table>\n",
       "</div>"
      ],
      "text/plain": [
       "          Industrial States\n",
       "Province                   \n",
       "Albacete                  2\n",
       "Alicante                  5\n",
       "Almería                   5\n",
       "Asturias                  7\n",
       "Baleares                  3"
      ]
     },
     "execution_count": 117,
     "metadata": {},
     "output_type": "execute_result"
    }
   ],
   "source": [
    "spain_industrial_states_edit.head()"
   ]
  },
  {
   "cell_type": "markdown",
   "metadata": {},
   "source": [
    "### 3.3 - Merge the new data with the previous dataset"
   ]
  },
  {
   "cell_type": "markdown",
   "metadata": {},
   "source": [
    "Outer merge is needed to avoid losing entries without venues of a given type"
   ]
  },
  {
   "cell_type": "code",
   "execution_count": 118,
   "metadata": {},
   "outputs": [
    {
     "data": {
      "text/html": [
       "<div>\n",
       "<style scoped>\n",
       "    .dataframe tbody tr th:only-of-type {\n",
       "        vertical-align: middle;\n",
       "    }\n",
       "\n",
       "    .dataframe tbody tr th {\n",
       "        vertical-align: top;\n",
       "    }\n",
       "\n",
       "    .dataframe thead th {\n",
       "        text-align: right;\n",
       "    }\n",
       "</style>\n",
       "<table border=\"1\" class=\"dataframe\">\n",
       "  <thead>\n",
       "    <tr style=\"text-align: right;\">\n",
       "      <th></th>\n",
       "      <th>Province</th>\n",
       "      <th>Autonomous community</th>\n",
       "      <th>GDP (thousands €)</th>\n",
       "      <th>GDP/capita (€)</th>\n",
       "      <th>Population</th>\n",
       "      <th>Area(km2)</th>\n",
       "      <th>Latitude</th>\n",
       "      <th>Longitude</th>\n",
       "      <th>Equivalent radius</th>\n",
       "      <th>Industrial States</th>\n",
       "    </tr>\n",
       "  </thead>\n",
       "  <tbody>\n",
       "    <tr>\n",
       "      <th>0</th>\n",
       "      <td>Madrid</td>\n",
       "      <td>Madrid</td>\n",
       "      <td>231133592.0</td>\n",
       "      <td>35913.0</td>\n",
       "      <td>6779888.0</td>\n",
       "      <td>8027.0</td>\n",
       "      <td>40.416705</td>\n",
       "      <td>-3.703582</td>\n",
       "      <td>50.547734</td>\n",
       "      <td>12.0</td>\n",
       "    </tr>\n",
       "    <tr>\n",
       "      <th>1</th>\n",
       "      <td>Barcelona</td>\n",
       "      <td>Cataluña</td>\n",
       "      <td>171350447.0</td>\n",
       "      <td>30947.0</td>\n",
       "      <td>5743402.0</td>\n",
       "      <td>7733.0</td>\n",
       "      <td>41.382894</td>\n",
       "      <td>2.177432</td>\n",
       "      <td>49.613409</td>\n",
       "      <td>19.0</td>\n",
       "    </tr>\n",
       "    <tr>\n",
       "      <th>2</th>\n",
       "      <td>Valencia</td>\n",
       "      <td>Comunidad Valenciana</td>\n",
       "      <td>59123107.0</td>\n",
       "      <td>23363.0</td>\n",
       "      <td>2591875.0</td>\n",
       "      <td>10807.0</td>\n",
       "      <td>39.469707</td>\n",
       "      <td>-0.376335</td>\n",
       "      <td>58.651300</td>\n",
       "      <td>19.0</td>\n",
       "    </tr>\n",
       "    <tr>\n",
       "      <th>3</th>\n",
       "      <td>Sevilla</td>\n",
       "      <td>Andalucía</td>\n",
       "      <td>39535345.0</td>\n",
       "      <td>20314.0</td>\n",
       "      <td>1950219.0</td>\n",
       "      <td>14036.0</td>\n",
       "      <td>37.388630</td>\n",
       "      <td>-5.995340</td>\n",
       "      <td>66.841586</td>\n",
       "      <td>4.0</td>\n",
       "    </tr>\n",
       "    <tr>\n",
       "      <th>4</th>\n",
       "      <td>Alicante</td>\n",
       "      <td>Comunidad Valenciana</td>\n",
       "      <td>36521398.0</td>\n",
       "      <td>19757.0</td>\n",
       "      <td>1879888.0</td>\n",
       "      <td>5817.0</td>\n",
       "      <td>38.353738</td>\n",
       "      <td>-0.490185</td>\n",
       "      <td>43.030322</td>\n",
       "      <td>5.0</td>\n",
       "    </tr>\n",
       "  </tbody>\n",
       "</table>\n",
       "</div>"
      ],
      "text/plain": [
       "    Province  Autonomous community  GDP (thousands €)  GDP/capita (€)  \\\n",
       "0     Madrid                Madrid        231133592.0         35913.0   \n",
       "1  Barcelona              Cataluña        171350447.0         30947.0   \n",
       "2   Valencia  Comunidad Valenciana         59123107.0         23363.0   \n",
       "3    Sevilla             Andalucía         39535345.0         20314.0   \n",
       "4   Alicante  Comunidad Valenciana         36521398.0         19757.0   \n",
       "\n",
       "   Population  Area(km2)   Latitude  Longitude  Equivalent radius  \\\n",
       "0   6779888.0     8027.0  40.416705  -3.703582          50.547734   \n",
       "1   5743402.0     7733.0  41.382894   2.177432          49.613409   \n",
       "2   2591875.0    10807.0  39.469707  -0.376335          58.651300   \n",
       "3   1950219.0    14036.0  37.388630  -5.995340          66.841586   \n",
       "4   1879888.0     5817.0  38.353738  -0.490185          43.030322   \n",
       "\n",
       "   Industrial States  \n",
       "0               12.0  \n",
       "1               19.0  \n",
       "2               19.0  \n",
       "3                4.0  \n",
       "4                5.0  "
      ]
     },
     "execution_count": 118,
     "metadata": {},
     "output_type": "execute_result"
    }
   ],
   "source": [
    "spain_data = pd.merge(spain_data, spain_industrial_states_edit, on='Province', how = 'outer')\n",
    "spain_data.head()"
   ]
  },
  {
   "cell_type": "markdown",
   "metadata": {},
   "source": [
    "### 3.4 - Extract Power Plants"
   ]
  },
  {
   "cell_type": "markdown",
   "metadata": {},
   "source": [
    "In that case the proccess is exactly the same excepting the categoryId = '58daa1548bbb0b01f18ec1a9'"
   ]
  },
  {
   "cell_type": "code",
   "execution_count": 119,
   "metadata": {},
   "outputs": [
    {
     "name": "stdout",
     "output_type": "stream",
     "text": [
      "Madrid 40.4167047 -3.7035825 50547.734433872385\n",
      "Barcelona 41.3828939 2.1774322 49613.408972366065\n",
      "Valencia 39.4697065 -0.3763353 58651.29955924443\n",
      "Sevilla 37.3886303 -5.9953403 66841.58557721149\n",
      "Alicante 38.353738 -0.4901846 43030.32195941729\n",
      "Vizcaya 43.238482000000005 -2.85163163999482 26564.883166870208\n",
      "Baleares 39.6134018 2.8804305326400756 39858.307063186956\n",
      "Murcia 37.9923795 -1.1305431 60008.66389445131\n",
      "Málaga 36.7213028 -4.4216366 48224.185098960195\n",
      "La Coruña 43.3712091 -8.3958768 50304.707485096624\n",
      "Zaragoza 41.6521342 -0.8809428 74151.76986383265\n",
      "Tarragona 41.1172364 1.2546057 44791.820822739865\n",
      "Guipúzcoa 43.144527800000006 -2.2037955488327494 25212.394624649005\n",
      "Las Palmas 28.128874 -15.4349448 36187.385533637476\n",
      "Asturias 43.271087800000004 -5.854145744587305 58095.09207503447\n",
      "Santa Cruz de Tenerife 28.469648 -16.2540884 32805.57460535322\n",
      "Cádiz 36.5297438 -6.2928976 48664.41773213158\n",
      "Gerona 41.9793006 2.8199439 43354.58312468573\n",
      "Pontevedra 42.6075172 -8.4714942 37821.74808902882\n",
      "Navarra 42.61254875 -1.830787673361753 57511.37302600042\n",
      "Granada 37.183054 -3.6021928 63445.620973241465\n",
      "Castellón 40.25185675 -0.061505110105748245 45959.81293168669\n",
      "Almería 36.8414197 -2.4628135 52850.44229959446\n",
      "Córdoba 37.8845813 -4.7760138 66207.593542108\n",
      "Valladolid 41.6521328 -4.728562 50808.3967169851\n",
      "Cantabria 43.1595664 -4.0878382 41154.91349017697\n",
      "Lérida 41.6147605 0.6267842 62245.22419133134\n",
      "Toledo 39.8560679 -4.0239568 69943.58184107159\n",
      "Álava 42.844072249999996 -2.6820829322126283 31091.914131171987\n",
      "Badajoz 38.8780585 -6.9702048 83236.60842848169\n",
      "Jaén 37.9557275 -3.492055612037218 65543.19357443944\n",
      "Ciudad Real 38.95975095 -3.88284645910809 79414.5690346516\n",
      "Huelva 37.2575874 -6.9484945 56776.08842975402\n",
      "Burgos 42.343926 -3.696977 66808.24218664276\n",
      "León 42.63414505 -5.971415104539984 70422.07059397969\n",
      "La Rioja 42.2814642 -2.482804975070473 40073.3499447853\n",
      "Albacete 38.9950921 -1.8559154 68928.17537973322\n",
      "Lugo 43.0462247 -7.4739921 56011.268850361186\n",
      "Cáceres 39.4745175 -6.3716761 79524.71828745797\n",
      "Salamanca 40.9651572 -5.6640182 62696.1624382516\n",
      "Orense 42.1968459 -7.6114105 48115.151482819936\n",
      "Huesca 42.13606145 -0.029802662719165485 70548.51791759874\n",
      "Guadalajara 40.7399963 -2.505930025884726 62352.521599762265\n",
      "Cuenca 40.0681156 -2.1348241 73863.60029940438\n",
      "Palencia 42.409632200000004 -4.616100410293067 50626.38841110319\n",
      "Zamora 41.6857693 -5.942315018340977 57979.91641928275\n",
      "Segovia 40.9502159 -4.1241494 46932.97787688133\n",
      "Teruel 40.6005259 -0.9229281754890265 68657.49124819343\n",
      "Ávila 40.656478 -4.7002172 50620.10059037333\n",
      "Soria 41.60125045 -2.721938035449954 57275.66400322346\n",
      "Ceuta 35.888361 -5.304138 2393.653682408596\n",
      "Melilla 35.292906 -2.9507198551536247 1954.4100476116796\n"
     ]
    }
   ],
   "source": [
    "LIMIT = 100\n",
    "spain_powerplants = getNearbyVenues(names=spain_data['Province'],\n",
    "                                   latitudes=spain_data['Latitude'],\n",
    "                                   longitudes=spain_data['Longitude'],\n",
    "                                   radius=spain_data['Equivalent radius']*1000,\n",
    "                                   category = '58daa1548bbb0b01f18ec1a9')"
   ]
  },
  {
   "cell_type": "code",
   "execution_count": 120,
   "metadata": {},
   "outputs": [
    {
     "data": {
      "text/html": [
       "<div>\n",
       "<style scoped>\n",
       "    .dataframe tbody tr th:only-of-type {\n",
       "        vertical-align: middle;\n",
       "    }\n",
       "\n",
       "    .dataframe tbody tr th {\n",
       "        vertical-align: top;\n",
       "    }\n",
       "\n",
       "    .dataframe thead th {\n",
       "        text-align: right;\n",
       "    }\n",
       "</style>\n",
       "<table border=\"1\" class=\"dataframe\">\n",
       "  <thead>\n",
       "    <tr style=\"text-align: right;\">\n",
       "      <th></th>\n",
       "      <th>Province</th>\n",
       "      <th>Province Latitude</th>\n",
       "      <th>Province Longitude</th>\n",
       "      <th>Venue</th>\n",
       "      <th>Latitude</th>\n",
       "      <th>Longitude</th>\n",
       "      <th>Category</th>\n",
       "    </tr>\n",
       "  </thead>\n",
       "  <tbody>\n",
       "    <tr>\n",
       "      <th>0</th>\n",
       "      <td>Madrid</td>\n",
       "      <td>40.416705</td>\n",
       "      <td>-3.703582</td>\n",
       "      <td>Hygienic Alcalá</td>\n",
       "      <td>40.491812</td>\n",
       "      <td>-3.351614</td>\n",
       "      <td>Power Plant</td>\n",
       "    </tr>\n",
       "    <tr>\n",
       "      <th>1</th>\n",
       "      <td>Madrid</td>\n",
       "      <td>40.416705</td>\n",
       "      <td>-3.703582</td>\n",
       "      <td>Deceuninck Spain</td>\n",
       "      <td>40.023607</td>\n",
       "      <td>-3.650286</td>\n",
       "      <td>Power Plant</td>\n",
       "    </tr>\n",
       "    <tr>\n",
       "      <th>2</th>\n",
       "      <td>Barcelona</td>\n",
       "      <td>41.382894</td>\n",
       "      <td>2.177432</td>\n",
       "      <td>IM-14</td>\n",
       "      <td>41.548061</td>\n",
       "      <td>2.202726</td>\n",
       "      <td>Home Service</td>\n",
       "    </tr>\n",
       "    <tr>\n",
       "      <th>3</th>\n",
       "      <td>Barcelona</td>\n",
       "      <td>41.382894</td>\n",
       "      <td>2.177432</td>\n",
       "      <td>Transformador De Llum</td>\n",
       "      <td>41.682818</td>\n",
       "      <td>2.252723</td>\n",
       "      <td>Power Plant</td>\n",
       "    </tr>\n",
       "    <tr>\n",
       "      <th>4</th>\n",
       "      <td>Valencia</td>\n",
       "      <td>39.469707</td>\n",
       "      <td>-0.376335</td>\n",
       "      <td>Quimfor Systems</td>\n",
       "      <td>39.486348</td>\n",
       "      <td>-0.393083</td>\n",
       "      <td>Power Plant</td>\n",
       "    </tr>\n",
       "  </tbody>\n",
       "</table>\n",
       "</div>"
      ],
      "text/plain": [
       "    Province  Province Latitude  Province Longitude                  Venue  \\\n",
       "0     Madrid          40.416705           -3.703582        Hygienic Alcalá   \n",
       "1     Madrid          40.416705           -3.703582       Deceuninck Spain   \n",
       "2  Barcelona          41.382894            2.177432                  IM-14   \n",
       "3  Barcelona          41.382894            2.177432  Transformador De Llum   \n",
       "4   Valencia          39.469707           -0.376335        Quimfor Systems   \n",
       "\n",
       "    Latitude  Longitude      Category  \n",
       "0  40.491812  -3.351614   Power Plant  \n",
       "1  40.023607  -3.650286   Power Plant  \n",
       "2  41.548061   2.202726  Home Service  \n",
       "3  41.682818   2.252723   Power Plant  \n",
       "4  39.486348  -0.393083   Power Plant  "
      ]
     },
     "execution_count": 120,
     "metadata": {},
     "output_type": "execute_result"
    }
   ],
   "source": [
    "spain_powerplants = spain_powerplants.rename(columns = {'Venue Latitude':'Latitude','Venue Longitude':'Longitude','Venue Category':'Category'})\n",
    "spain_powerplants.head()"
   ]
  },
  {
   "cell_type": "code",
   "execution_count": 121,
   "metadata": {},
   "outputs": [],
   "source": [
    "spain_powerplants_edit = spain_powerplants.groupby('Province').count()"
   ]
  },
  {
   "cell_type": "code",
   "execution_count": 122,
   "metadata": {},
   "outputs": [],
   "source": [
    "spain_powerplants_edit = spain_powerplants_edit['Venue'].to_frame().rename(columns = {'Venue':'Power Plants'})"
   ]
  },
  {
   "cell_type": "code",
   "execution_count": 123,
   "metadata": {},
   "outputs": [
    {
     "data": {
      "text/html": [
       "<div>\n",
       "<style scoped>\n",
       "    .dataframe tbody tr th:only-of-type {\n",
       "        vertical-align: middle;\n",
       "    }\n",
       "\n",
       "    .dataframe tbody tr th {\n",
       "        vertical-align: top;\n",
       "    }\n",
       "\n",
       "    .dataframe thead th {\n",
       "        text-align: right;\n",
       "    }\n",
       "</style>\n",
       "<table border=\"1\" class=\"dataframe\">\n",
       "  <thead>\n",
       "    <tr style=\"text-align: right;\">\n",
       "      <th></th>\n",
       "      <th>Province</th>\n",
       "      <th>Autonomous community</th>\n",
       "      <th>GDP (thousands €)</th>\n",
       "      <th>GDP/capita (€)</th>\n",
       "      <th>Population</th>\n",
       "      <th>Area(km2)</th>\n",
       "      <th>Latitude</th>\n",
       "      <th>Longitude</th>\n",
       "      <th>Equivalent radius</th>\n",
       "      <th>Industrial States</th>\n",
       "      <th>Power Plants</th>\n",
       "    </tr>\n",
       "  </thead>\n",
       "  <tbody>\n",
       "    <tr>\n",
       "      <th>0</th>\n",
       "      <td>Madrid</td>\n",
       "      <td>Madrid</td>\n",
       "      <td>231133592.0</td>\n",
       "      <td>35913.0</td>\n",
       "      <td>6779888.0</td>\n",
       "      <td>8027.0</td>\n",
       "      <td>40.416705</td>\n",
       "      <td>-3.703582</td>\n",
       "      <td>50.547734</td>\n",
       "      <td>12.0</td>\n",
       "      <td>2.0</td>\n",
       "    </tr>\n",
       "    <tr>\n",
       "      <th>1</th>\n",
       "      <td>Barcelona</td>\n",
       "      <td>Cataluña</td>\n",
       "      <td>171350447.0</td>\n",
       "      <td>30947.0</td>\n",
       "      <td>5743402.0</td>\n",
       "      <td>7733.0</td>\n",
       "      <td>41.382894</td>\n",
       "      <td>2.177432</td>\n",
       "      <td>49.613409</td>\n",
       "      <td>19.0</td>\n",
       "      <td>2.0</td>\n",
       "    </tr>\n",
       "    <tr>\n",
       "      <th>2</th>\n",
       "      <td>Valencia</td>\n",
       "      <td>Comunidad Valenciana</td>\n",
       "      <td>59123107.0</td>\n",
       "      <td>23363.0</td>\n",
       "      <td>2591875.0</td>\n",
       "      <td>10807.0</td>\n",
       "      <td>39.469707</td>\n",
       "      <td>-0.376335</td>\n",
       "      <td>58.651300</td>\n",
       "      <td>19.0</td>\n",
       "      <td>2.0</td>\n",
       "    </tr>\n",
       "    <tr>\n",
       "      <th>3</th>\n",
       "      <td>Sevilla</td>\n",
       "      <td>Andalucía</td>\n",
       "      <td>39535345.0</td>\n",
       "      <td>20314.0</td>\n",
       "      <td>1950219.0</td>\n",
       "      <td>14036.0</td>\n",
       "      <td>37.388630</td>\n",
       "      <td>-5.995340</td>\n",
       "      <td>66.841586</td>\n",
       "      <td>4.0</td>\n",
       "      <td>1.0</td>\n",
       "    </tr>\n",
       "    <tr>\n",
       "      <th>4</th>\n",
       "      <td>Alicante</td>\n",
       "      <td>Comunidad Valenciana</td>\n",
       "      <td>36521398.0</td>\n",
       "      <td>19757.0</td>\n",
       "      <td>1879888.0</td>\n",
       "      <td>5817.0</td>\n",
       "      <td>38.353738</td>\n",
       "      <td>-0.490185</td>\n",
       "      <td>43.030322</td>\n",
       "      <td>5.0</td>\n",
       "      <td>1.0</td>\n",
       "    </tr>\n",
       "  </tbody>\n",
       "</table>\n",
       "</div>"
      ],
      "text/plain": [
       "    Province  Autonomous community  GDP (thousands €)  GDP/capita (€)  \\\n",
       "0     Madrid                Madrid        231133592.0         35913.0   \n",
       "1  Barcelona              Cataluña        171350447.0         30947.0   \n",
       "2   Valencia  Comunidad Valenciana         59123107.0         23363.0   \n",
       "3    Sevilla             Andalucía         39535345.0         20314.0   \n",
       "4   Alicante  Comunidad Valenciana         36521398.0         19757.0   \n",
       "\n",
       "   Population  Area(km2)   Latitude  Longitude  Equivalent radius  \\\n",
       "0   6779888.0     8027.0  40.416705  -3.703582          50.547734   \n",
       "1   5743402.0     7733.0  41.382894   2.177432          49.613409   \n",
       "2   2591875.0    10807.0  39.469707  -0.376335          58.651300   \n",
       "3   1950219.0    14036.0  37.388630  -5.995340          66.841586   \n",
       "4   1879888.0     5817.0  38.353738  -0.490185          43.030322   \n",
       "\n",
       "   Industrial States  Power Plants  \n",
       "0               12.0           2.0  \n",
       "1               19.0           2.0  \n",
       "2               19.0           2.0  \n",
       "3                4.0           1.0  \n",
       "4                5.0           1.0  "
      ]
     },
     "execution_count": 123,
     "metadata": {},
     "output_type": "execute_result"
    }
   ],
   "source": [
    "spain_data = pd.merge(spain_data, spain_powerplants_edit, on='Province', how = 'outer')\n",
    "spain_data.head()"
   ]
  },
  {
   "cell_type": "markdown",
   "metadata": {},
   "source": [
    "We will save a backup dataframe to avoid repeat the previous procedure in case to make a mistake"
   ]
  },
  {
   "cell_type": "code",
   "execution_count": 124,
   "metadata": {},
   "outputs": [],
   "source": [
    "spain_data_backup = spain_data.copy()"
   ]
  },
  {
   "cell_type": "markdown",
   "metadata": {},
   "source": [
    "We also have to fill tha NaN values with 0 in the provinces without any power plant or any industrial state"
   ]
  },
  {
   "cell_type": "code",
   "execution_count": 125,
   "metadata": {},
   "outputs": [],
   "source": [
    "spain_data = spain_data.fillna(0)"
   ]
  },
  {
   "cell_type": "code",
   "execution_count": 126,
   "metadata": {},
   "outputs": [],
   "source": [
    "spain_data['Industrial States'] = spain_data['Industrial States'].astype(int)\n",
    "spain_data['Power Plants'] = spain_data['Power Plants'].astype(int)"
   ]
  },
  {
   "cell_type": "markdown",
   "metadata": {},
   "source": [
    "### 3.5 - Rearrange columns"
   ]
  },
  {
   "cell_type": "code",
   "execution_count": 127,
   "metadata": {},
   "outputs": [],
   "source": [
    "spain_data_final = spain_data[['Province','Autonomous community','GDP (thousands €)','GDP/capita (€)','Population','Area(km2)','Industrial States','Power Plants','Latitude','Longitude','Equivalent radius']]"
   ]
  },
  {
   "cell_type": "code",
   "execution_count": 128,
   "metadata": {},
   "outputs": [],
   "source": [
    "spain_data_final.loc[9,'Province'] ='A Coruña'\n",
    "spain_data_final.loc[40,'Province'] ='Ourense'\n",
    "spain_data_final.loc[26,'Province'] ='Girona'\n",
    "spain_data_final.loc[17,'Province'] ='Lleida'"
   ]
  },
  {
   "cell_type": "code",
   "execution_count": 129,
   "metadata": {},
   "outputs": [
    {
     "data": {
      "text/html": [
       "<div>\n",
       "<style scoped>\n",
       "    .dataframe tbody tr th:only-of-type {\n",
       "        vertical-align: middle;\n",
       "    }\n",
       "\n",
       "    .dataframe tbody tr th {\n",
       "        vertical-align: top;\n",
       "    }\n",
       "\n",
       "    .dataframe thead th {\n",
       "        text-align: right;\n",
       "    }\n",
       "</style>\n",
       "<table border=\"1\" class=\"dataframe\">\n",
       "  <thead>\n",
       "    <tr style=\"text-align: right;\">\n",
       "      <th></th>\n",
       "      <th>Province</th>\n",
       "      <th>Autonomous community</th>\n",
       "      <th>GDP (thousands €)</th>\n",
       "      <th>GDP/capita (€)</th>\n",
       "      <th>Population</th>\n",
       "      <th>Area(km2)</th>\n",
       "      <th>Industrial States</th>\n",
       "      <th>Power Plants</th>\n",
       "      <th>Latitude</th>\n",
       "      <th>Longitude</th>\n",
       "      <th>Equivalent radius</th>\n",
       "    </tr>\n",
       "  </thead>\n",
       "  <tbody>\n",
       "    <tr>\n",
       "      <th>0</th>\n",
       "      <td>Madrid</td>\n",
       "      <td>Madrid</td>\n",
       "      <td>231133592.0</td>\n",
       "      <td>35913.0</td>\n",
       "      <td>6779888.0</td>\n",
       "      <td>8027.0</td>\n",
       "      <td>12</td>\n",
       "      <td>2</td>\n",
       "      <td>40.416705</td>\n",
       "      <td>-3.703582</td>\n",
       "      <td>50.547734</td>\n",
       "    </tr>\n",
       "    <tr>\n",
       "      <th>1</th>\n",
       "      <td>Barcelona</td>\n",
       "      <td>Cataluña</td>\n",
       "      <td>171350447.0</td>\n",
       "      <td>30947.0</td>\n",
       "      <td>5743402.0</td>\n",
       "      <td>7733.0</td>\n",
       "      <td>19</td>\n",
       "      <td>2</td>\n",
       "      <td>41.382894</td>\n",
       "      <td>2.177432</td>\n",
       "      <td>49.613409</td>\n",
       "    </tr>\n",
       "    <tr>\n",
       "      <th>2</th>\n",
       "      <td>Valencia</td>\n",
       "      <td>Comunidad Valenciana</td>\n",
       "      <td>59123107.0</td>\n",
       "      <td>23363.0</td>\n",
       "      <td>2591875.0</td>\n",
       "      <td>10807.0</td>\n",
       "      <td>19</td>\n",
       "      <td>2</td>\n",
       "      <td>39.469707</td>\n",
       "      <td>-0.376335</td>\n",
       "      <td>58.651300</td>\n",
       "    </tr>\n",
       "    <tr>\n",
       "      <th>3</th>\n",
       "      <td>Sevilla</td>\n",
       "      <td>Andalucía</td>\n",
       "      <td>39535345.0</td>\n",
       "      <td>20314.0</td>\n",
       "      <td>1950219.0</td>\n",
       "      <td>14036.0</td>\n",
       "      <td>4</td>\n",
       "      <td>1</td>\n",
       "      <td>37.388630</td>\n",
       "      <td>-5.995340</td>\n",
       "      <td>66.841586</td>\n",
       "    </tr>\n",
       "    <tr>\n",
       "      <th>4</th>\n",
       "      <td>Alicante</td>\n",
       "      <td>Comunidad Valenciana</td>\n",
       "      <td>36521398.0</td>\n",
       "      <td>19757.0</td>\n",
       "      <td>1879888.0</td>\n",
       "      <td>5817.0</td>\n",
       "      <td>5</td>\n",
       "      <td>1</td>\n",
       "      <td>38.353738</td>\n",
       "      <td>-0.490185</td>\n",
       "      <td>43.030322</td>\n",
       "    </tr>\n",
       "  </tbody>\n",
       "</table>\n",
       "</div>"
      ],
      "text/plain": [
       "    Province  Autonomous community  GDP (thousands €)  GDP/capita (€)  \\\n",
       "0     Madrid                Madrid        231133592.0         35913.0   \n",
       "1  Barcelona              Cataluña        171350447.0         30947.0   \n",
       "2   Valencia  Comunidad Valenciana         59123107.0         23363.0   \n",
       "3    Sevilla             Andalucía         39535345.0         20314.0   \n",
       "4   Alicante  Comunidad Valenciana         36521398.0         19757.0   \n",
       "\n",
       "   Population  Area(km2)  Industrial States  Power Plants   Latitude  \\\n",
       "0   6779888.0     8027.0                 12             2  40.416705   \n",
       "1   5743402.0     7733.0                 19             2  41.382894   \n",
       "2   2591875.0    10807.0                 19             2  39.469707   \n",
       "3   1950219.0    14036.0                  4             1  37.388630   \n",
       "4   1879888.0     5817.0                  5             1  38.353738   \n",
       "\n",
       "   Longitude  Equivalent radius  \n",
       "0  -3.703582          50.547734  \n",
       "1   2.177432          49.613409  \n",
       "2  -0.376335          58.651300  \n",
       "3  -5.995340          66.841586  \n",
       "4  -0.490185          43.030322  "
      ]
     },
     "execution_count": 129,
     "metadata": {},
     "output_type": "execute_result"
    }
   ],
   "source": [
    "spain_data_final.head()"
   ]
  },
  {
   "cell_type": "markdown",
   "metadata": {},
   "source": [
    "## 4 - Export a copy of the prepared data"
   ]
  },
  {
   "cell_type": "markdown",
   "metadata": {},
   "source": [
    "Once tha data import and preparation is done, it can be exported to avoid repeating the previous process everytime that an analysis is performed in the data."
   ]
  },
  {
   "cell_type": "code",
   "execution_count": 130,
   "metadata": {},
   "outputs": [],
   "source": [
    "spain_data_final[['Province','Autonomous community','GDP (thousands €)','GDP/capita (€)','Population','Area(km2)','Industrial States','Power Plants','Latitude','Longitude','Equivalent radius']].to_csv('spain_data_final.csv')\n",
    "spain_industrial_states[['Venue','Latitude','Longitude','Category']].to_csv('spain_industrial_states.csv')\n",
    "spain_powerplants[['Venue','Latitude','Longitude','Category']].to_csv('spain_powerplants.csv')"
   ]
  },
  {
   "cell_type": "markdown",
   "metadata": {},
   "source": [
    "## 5 - Import a copy of the prepared data"
   ]
  },
  {
   "cell_type": "markdown",
   "metadata": {},
   "source": [
    "### Warning: even if the data import and preparation is skipped, the first point with installation and importation of libraries is mandatory."
   ]
  },
  {
   "cell_type": "markdown",
   "metadata": {},
   "source": [
    "The next cell only need to be run in case that the previous code was skipped previously."
   ]
  },
  {
   "cell_type": "code",
   "execution_count": 131,
   "metadata": {},
   "outputs": [],
   "source": [
    "spain_data_final = pd.read_csv('spain_data_final.csv', index_col=0)\n",
    "spain_industrial_states = pd.read_csv('spain_industrial_states.csv', index_col=0)\n",
    "spain_powerplants = pd.read_csv('spain_powerplants.csv', index_col=0)"
   ]
  },
  {
   "cell_type": "markdown",
   "metadata": {},
   "source": [
    "## 6 - Exploratory Data Analysis"
   ]
  },
  {
   "cell_type": "markdown",
   "metadata": {},
   "source": [
    "### 6.1 - Import some useful libraries"
   ]
  },
  {
   "cell_type": "code",
   "execution_count": 132,
   "metadata": {},
   "outputs": [],
   "source": [
    "%matplotlib inline \n",
    "import matplotlib as mpl\n",
    "import matplotlib.pyplot as plt\n",
    "import folium"
   ]
  },
  {
   "cell_type": "markdown",
   "metadata": {},
   "source": [
    "Also apply ggpolt style"
   ]
  },
  {
   "cell_type": "code",
   "execution_count": 133,
   "metadata": {},
   "outputs": [],
   "source": [
    "mpl.style.use(['ggplot'])"
   ]
  },
  {
   "cell_type": "markdown",
   "metadata": {},
   "source": [
    "### 6.2 - Spain's maps with some usefull data"
   ]
  },
  {
   "cell_type": "markdown",
   "metadata": {},
   "source": [
    "Firstly, the geographical coordinates of Spain are needed"
   ]
  },
  {
   "cell_type": "code",
   "execution_count": 134,
   "metadata": {},
   "outputs": [
    {
     "name": "stdout",
     "output_type": "stream",
     "text": [
      "Spain coordinates are 39.3260685,-4.8379791\n"
     ]
    }
   ],
   "source": [
    "geolocator = Nominatim(user_agent=\"es_explorer\")\n",
    "location = geolocator.geocode('Spain')\n",
    "latitude = location.latitude\n",
    "longitude = location.longitude\n",
    "print(f'Spain coordinates are {latitude},{longitude}')"
   ]
  },
  {
   "cell_type": "markdown",
   "metadata": {},
   "source": [
    "#### 6.2.1 - Per capita income in Spain (Bubble Graph)"
   ]
  },
  {
   "cell_type": "markdown",
   "metadata": {},
   "source": [
    "A Stamen Toner map is used to avoid the overload of information and make clearer the data dispalyed in it"
   ]
  },
  {
   "cell_type": "code",
   "execution_count": null,
   "metadata": {},
   "outputs": [],
   "source": [
    "spain_map_income = folium.Map(location=[latitude, longitude], zoom_start=6, tiles = 'Stamen Toner')\n",
    "# instantiate a feature group for the provinces in the dataframe\n",
    "capita_income = folium.map.FeatureGroup()\n",
    "\n",
    "# loop through the provinces and add each to the province feature group\n",
    "for lat, lng, inc in zip(spain_data_final.Latitude, spain_data_final.Longitude, spain_data_final['GDP/capita (€)']/1000):\n",
    "    capita_income.add_child(\n",
    "        folium.features.CircleMarker(\n",
    "            [lat, lng],\n",
    "            radius=inc, # define circle size equal to per capita income (thousands euros)\n",
    "            fill=True,\n",
    "            fill_color='blue',\n",
    "            fill_opacity=0.6\n",
    "        )\n",
    "    )\n",
    "\n",
    "# add pop-up text to each marker on the map\n",
    "latitudes = list(spain_data_final.Latitude)\n",
    "longitudes = list(spain_data_final.Longitude)\n",
    "labels = list(spain_data_final['Province'] + ': ' +spain_data_final['GDP/capita (€)'].astype(int).astype(str) + ' euros')\n",
    "\n",
    "for lat, lng, label in zip(latitudes, longitudes, labels):\n",
    "    folium.Marker([lat, lng], popup=label).add_to(spain_map_income)    \n",
    "    \n",
    "# add provinces to map\n",
    "spain_map_income.add_child(capita_income)"
   ]
  },
  {
   "cell_type": "markdown",
   "metadata": {},
   "source": [
    "#### 6.2.2 - Alternative visualization for the same data based on choropleth representation"
   ]
  },
  {
   "cell_type": "code",
   "execution_count": null,
   "metadata": {},
   "outputs": [],
   "source": [
    "choromap_ = folium.Map(location=[latitude, longitude], zoom_start=6)\n",
    "#Crear el listado de regiones de Italia\n",
    "communities_geo = r'spain_provinces.geojson'\n",
    "#Representar el mapa choropleth con número de casos por provincia\n",
    "choromap_.choropleth(\n",
    "    geo_data=communities_geo,\n",
    "    data=spain_data_final,\n",
    "    columns=['Province', 'GDP/capita (€)'],\n",
    "    key_on='feature.properties.name',\n",
    "    fill_color='BuPu', \n",
    "    fill_opacity=1, \n",
    "    line_opacity=1,\n",
    "    legend_name='GDP/capita (euros)',\n",
    "    smooth_factor=0)\n",
    "#Visualizar el mapa\n",
    "choromap_"
   ]
  },
  {
   "cell_type": "markdown",
   "metadata": {},
   "source": [
    "#### 6.2.3 Industrial states location"
   ]
  },
  {
   "cell_type": "code",
   "execution_count": null,
   "metadata": {},
   "outputs": [],
   "source": [
    "spain_map_facilities = folium.Map(location=[latitude, longitude], zoom_start=6, tiles = 'Stamen Toner')\n",
    "\n",
    "# instantiate a feature group for the industrial states in the dataframe\n",
    "industrial_states = folium.map.FeatureGroup()\n",
    "\n",
    "# loop through the industrial states and add each to the feature group\n",
    "for lat, lng in zip(spain_industrial_states.Latitude, spain_industrial_states.Longitude):\n",
    "    industrial_states.add_child(\n",
    "        folium.features.CircleMarker(\n",
    "            [lat, lng],\n",
    "            radius= 1, \n",
    "            fill=True,\n",
    "            fill_color='blue',\n",
    "            fill_opacity= 0.8\n",
    "        )\n",
    "    )\n",
    "\n",
    "\n",
    "# add industrial states to map\n",
    "spain_map_facilities.add_child(industrial_states)"
   ]
  },
  {
   "cell_type": "markdown",
   "metadata": {},
   "source": [
    "#### 6.2.4 Power plants location"
   ]
  },
  {
   "cell_type": "code",
   "execution_count": null,
   "metadata": {},
   "outputs": [],
   "source": [
    "spain_map_powerplants = folium.Map(location=[latitude, longitude], zoom_start=6, tiles = 'Stamen Toner')\n",
    "\n",
    "# instantiate a feature group for the power plants in the dataframe\n",
    "power_plants = folium.map.FeatureGroup()\n",
    "\n",
    "# loop through the power plants and add each to the feature group\n",
    "for lat, lng, label in zip(spain_powerplants.Latitude, spain_powerplants.Longitude, spain_powerplants.Venue):\n",
    "    power_plants.add_child(\n",
    "        folium.features.CircleMarker(\n",
    "            [lat, lng],\n",
    "            radius= 5,\n",
    "            color = None,\n",
    "            fill=True,\n",
    "            fill_color='red',\n",
    "            fill_opacity= 0.8,\n",
    "            popup = label\n",
    "        )\n",
    "    )\n",
    "# add power plants to map\n",
    "spain_map_powerplants.add_child(power_plants)    \n"
   ]
  },
  {
   "cell_type": "markdown",
   "metadata": {},
   "source": [
    "### 6.3 - Correlation analysis by regression "
   ]
  },
  {
   "cell_type": "markdown",
   "metadata": {},
   "source": [
    "#### 6.3.1 Correlation between GDP and number of industrial states"
   ]
  },
  {
   "cell_type": "code",
   "execution_count": 135,
   "metadata": {},
   "outputs": [
    {
     "data": {
      "image/png": "[encoded data removed]",
      "text/plain": [
       "<Figure size 432x288 with 1 Axes>"
      ]
     },
     "metadata": {},
     "output_type": "display_data"
    }
   ],
   "source": [
    "ax = sns.regplot(y='GDP (thousands €)', x='Industrial States', data=spain_data_final[spain_data_final['GDP (thousands €)'] < 1.5e8])"
   ]
  },
  {
   "cell_type": "markdown",
   "metadata": {},
   "source": [
    "#### 6.3.2 Correlation between GDP and number of power plants"
   ]
  },
  {
   "cell_type": "code",
   "execution_count": 136,
   "metadata": {},
   "outputs": [
    {
     "data": {
      "image/png": "[encoded data removed]",
      "text/plain": [
       "<Figure size 432x288 with 1 Axes>"
      ]
     },
     "metadata": {},
     "output_type": "display_data"
    }
   ],
   "source": [
    "ax = sns.regplot(y='GDP (thousands €)', x='Power Plants', data=spain_data_final[spain_data_final['GDP (thousands €)'] < 1.5e8])"
   ]
  },
  {
   "cell_type": "markdown",
   "metadata": {},
   "source": [
    "#### 6.3.3 Correlation between GDP per capita and the area of the province"
   ]
  },
  {
   "cell_type": "code",
   "execution_count": 137,
   "metadata": {},
   "outputs": [
    {
     "data": {
      "image/png": "[encoded data removed]",
      "text/plain": [
       "<Figure size 432x288 with 1 Axes>"
      ]
     },
     "metadata": {},
     "output_type": "display_data"
    }
   ],
   "source": [
    "ax = sns.regplot(y='GDP/capita (€)', x='Area(km2)', data=spain_data_final[spain_data_final['GDP (thousands €)'] < 1.5e8])"
   ]
  },
  {
   "cell_type": "markdown",
   "metadata": {},
   "source": [
    "#### 6.3.4 Correlation between GDP and population"
   ]
  },
  {
   "cell_type": "code",
   "execution_count": 138,
   "metadata": {},
   "outputs": [
    {
     "data": {
      "image/png": "[encoded data removed]",
      "text/plain": [
       "<Figure size 432x288 with 1 Axes>"
      ]
     },
     "metadata": {},
     "output_type": "display_data"
    }
   ],
   "source": [
    "ax = sns.regplot(y='GDP (thousands €)', x='Population', data=spain_data_final[spain_data_final['GDP (thousands €)'] < 1.5e8])"
   ]
  },
  {
   "cell_type": "markdown",
   "metadata": {},
   "source": [
    "## 7 - Clustering"
   ]
  },
  {
   "cell_type": "markdown",
   "metadata": {},
   "source": [
    "### 7.1 - Prepare data for clustering (feature selection and data normalization)"
   ]
  },
  {
   "cell_type": "code",
   "execution_count": 139,
   "metadata": {},
   "outputs": [],
   "source": [
    "spain_data_clustering = spain_data_final[['Province','GDP/capita (€)','GDP (thousands €)','Population','Area(km2)','Industrial States','Power Plants']]\n",
    "#,"
   ]
  },
  {
   "cell_type": "code",
   "execution_count": 140,
   "metadata": {},
   "outputs": [],
   "source": [
    "spain_data_clustering = spain_data_clustering.set_index(spain_data_final['Province'])"
   ]
  },
  {
   "cell_type": "code",
   "execution_count": 141,
   "metadata": {},
   "outputs": [
    {
     "name": "stderr",
     "output_type": "stream",
     "text": [
      "/home/jupyterlab/conda/envs/python/lib/python3.6/site-packages/sklearn/preprocessing/data.py:625: DataConversionWarning: Data with input dtype int64, float64 were all converted to float64 by StandardScaler.\n",
      "  return self.partial_fit(X, y)\n",
      "/home/jupyterlab/conda/envs/python/lib/python3.6/site-packages/sklearn/base.py:462: DataConversionWarning: Data with input dtype int64, float64 were all converted to float64 by StandardScaler.\n",
      "  return self.fit(X, **fit_params).transform(X)\n"
     ]
    },
    {
     "data": {
      "text/plain": [
       "array([[ 2.54600625,  5.48667521,  4.90833833, -0.33675352,  2.03997095,\n",
       "         1.65703431],\n",
       "       [ 1.49246335,  3.90967594,  4.04135904, -0.39501118,  3.79126677,\n",
       "         1.65703431],\n",
       "       [-0.11649141,  0.94926907,  1.40523213,  0.21411825,  3.79126677,\n",
       "         1.65703431],\n",
       "       [-0.76334045,  0.43257015,  0.86851242,  0.85396175,  0.03849002,\n",
       "         0.46028731],\n",
       "       [-0.88150867,  0.35306627,  0.80968334, -0.77467676,  0.28867513,\n",
       "         0.46028731]])"
      ]
     },
     "execution_count": 141,
     "metadata": {},
     "output_type": "execute_result"
    }
   ],
   "source": [
    "spain_data_clustering = spain_data_clustering.drop(['Province'], axis = 1)\n",
    "spain_data_clustering = StandardScaler().fit_transform(spain_data_clustering)\n",
    "spain_data_clustering[0:5]"
   ]
  },
  {
   "cell_type": "markdown",
   "metadata": {},
   "source": [
    "### 7.2 Create and fit kmeans model"
   ]
  },
  {
   "cell_type": "code",
   "execution_count": 142,
   "metadata": {},
   "outputs": [],
   "source": [
    "nclusters = 4\n",
    "kmeans = KMeans(n_clusters=nclusters, random_state=0).fit(spain_data_clustering)"
   ]
  },
  {
   "cell_type": "markdown",
   "metadata": {},
   "source": [
    "### 7.3 Insert labels into dataframe."
   ]
  },
  {
   "cell_type": "code",
   "execution_count": 143,
   "metadata": {},
   "outputs": [],
   "source": [
    "spain_data_clusters = spain_data_final.copy()\n",
    "spain_data_clusters.insert(0, 'Cluster Labels', kmeans.labels_)"
   ]
  },
  {
   "cell_type": "markdown",
   "metadata": {},
   "source": [
    "#### This change in the number of labels is used to make clearer the following map by putting the clusters in a most understandable order."
   ]
  },
  {
   "cell_type": "code",
   "execution_count": 144,
   "metadata": {},
   "outputs": [],
   "source": [
    "spain_data_clusters['Cluster Labels'] = spain_data_clusters['Cluster Labels'].replace(3,4).replace(1,3).replace(2,1).replace(0,2)"
   ]
  },
  {
   "cell_type": "code",
   "execution_count": 145,
   "metadata": {},
   "outputs": [
    {
     "data": {
      "text/html": [
       "<div>\n",
       "<style scoped>\n",
       "    .dataframe tbody tr th:only-of-type {\n",
       "        vertical-align: middle;\n",
       "    }\n",
       "\n",
       "    .dataframe tbody tr th {\n",
       "        vertical-align: top;\n",
       "    }\n",
       "\n",
       "    .dataframe thead th {\n",
       "        text-align: right;\n",
       "    }\n",
       "</style>\n",
       "<table border=\"1\" class=\"dataframe\">\n",
       "  <thead>\n",
       "    <tr style=\"text-align: right;\">\n",
       "      <th></th>\n",
       "      <th>Cluster Labels</th>\n",
       "      <th>Province</th>\n",
       "      <th>Autonomous community</th>\n",
       "      <th>GDP (thousands €)</th>\n",
       "      <th>GDP/capita (€)</th>\n",
       "      <th>Population</th>\n",
       "      <th>Area(km2)</th>\n",
       "      <th>Industrial States</th>\n",
       "      <th>Power Plants</th>\n",
       "      <th>Latitude</th>\n",
       "      <th>Longitude</th>\n",
       "      <th>Equivalent radius</th>\n",
       "    </tr>\n",
       "  </thead>\n",
       "  <tbody>\n",
       "    <tr>\n",
       "      <th>0</th>\n",
       "      <td>4</td>\n",
       "      <td>Madrid</td>\n",
       "      <td>Madrid</td>\n",
       "      <td>231133592.0</td>\n",
       "      <td>35913.0</td>\n",
       "      <td>6779888.0</td>\n",
       "      <td>8027.0</td>\n",
       "      <td>12</td>\n",
       "      <td>2</td>\n",
       "      <td>40.416705</td>\n",
       "      <td>-3.703582</td>\n",
       "      <td>50.547734</td>\n",
       "    </tr>\n",
       "    <tr>\n",
       "      <th>1</th>\n",
       "      <td>4</td>\n",
       "      <td>Barcelona</td>\n",
       "      <td>Cataluña</td>\n",
       "      <td>171350447.0</td>\n",
       "      <td>30947.0</td>\n",
       "      <td>5743402.0</td>\n",
       "      <td>7733.0</td>\n",
       "      <td>19</td>\n",
       "      <td>2</td>\n",
       "      <td>41.382894</td>\n",
       "      <td>2.177432</td>\n",
       "      <td>49.613409</td>\n",
       "    </tr>\n",
       "    <tr>\n",
       "      <th>2</th>\n",
       "      <td>4</td>\n",
       "      <td>Valencia</td>\n",
       "      <td>Comunidad Valenciana</td>\n",
       "      <td>59123107.0</td>\n",
       "      <td>23363.0</td>\n",
       "      <td>2591875.0</td>\n",
       "      <td>10807.0</td>\n",
       "      <td>19</td>\n",
       "      <td>2</td>\n",
       "      <td>39.469707</td>\n",
       "      <td>-0.376335</td>\n",
       "      <td>58.651300</td>\n",
       "    </tr>\n",
       "    <tr>\n",
       "      <th>3</th>\n",
       "      <td>2</td>\n",
       "      <td>Sevilla</td>\n",
       "      <td>Andalucía</td>\n",
       "      <td>39535345.0</td>\n",
       "      <td>20314.0</td>\n",
       "      <td>1950219.0</td>\n",
       "      <td>14036.0</td>\n",
       "      <td>4</td>\n",
       "      <td>1</td>\n",
       "      <td>37.388630</td>\n",
       "      <td>-5.995340</td>\n",
       "      <td>66.841586</td>\n",
       "    </tr>\n",
       "    <tr>\n",
       "      <th>4</th>\n",
       "      <td>1</td>\n",
       "      <td>Alicante</td>\n",
       "      <td>Comunidad Valenciana</td>\n",
       "      <td>36521398.0</td>\n",
       "      <td>19757.0</td>\n",
       "      <td>1879888.0</td>\n",
       "      <td>5817.0</td>\n",
       "      <td>5</td>\n",
       "      <td>1</td>\n",
       "      <td>38.353738</td>\n",
       "      <td>-0.490185</td>\n",
       "      <td>43.030322</td>\n",
       "    </tr>\n",
       "  </tbody>\n",
       "</table>\n",
       "</div>"
      ],
      "text/plain": [
       "   Cluster Labels   Province  Autonomous community  GDP (thousands €)  \\\n",
       "0               4     Madrid                Madrid        231133592.0   \n",
       "1               4  Barcelona              Cataluña        171350447.0   \n",
       "2               4   Valencia  Comunidad Valenciana         59123107.0   \n",
       "3               2    Sevilla             Andalucía         39535345.0   \n",
       "4               1   Alicante  Comunidad Valenciana         36521398.0   \n",
       "\n",
       "   GDP/capita (€)  Population  Area(km2)  Industrial States  Power Plants  \\\n",
       "0         35913.0   6779888.0     8027.0                 12             2   \n",
       "1         30947.0   5743402.0     7733.0                 19             2   \n",
       "2         23363.0   2591875.0    10807.0                 19             2   \n",
       "3         20314.0   1950219.0    14036.0                  4             1   \n",
       "4         19757.0   1879888.0     5817.0                  5             1   \n",
       "\n",
       "    Latitude  Longitude  Equivalent radius  \n",
       "0  40.416705  -3.703582          50.547734  \n",
       "1  41.382894   2.177432          49.613409  \n",
       "2  39.469707  -0.376335          58.651300  \n",
       "3  37.388630  -5.995340          66.841586  \n",
       "4  38.353738  -0.490185          43.030322  "
      ]
     },
     "execution_count": 145,
     "metadata": {},
     "output_type": "execute_result"
    }
   ],
   "source": [
    "spain_data_clusters.head()"
   ]
  },
  {
   "cell_type": "markdown",
   "metadata": {},
   "source": [
    "### 7.4 Choropleth map displaying clusters"
   ]
  },
  {
   "cell_type": "markdown",
   "metadata": {},
   "source": [
    "The following function was extracted from Stack Overflow in order to add categorical labels to choropleth maps.\n",
    "For more information check the following [link](https://stackoverflow.com/questions/65042654/how-to-add-categorical-legend-to-python-folium-map)"
   ]
  },
  {
   "cell_type": "code",
   "execution_count": null,
   "metadata": {},
   "outputs": [],
   "source": [
    "def add_categorical_legend(folium_map, title, colors, labels):\n",
    "    if len(colors) != len(labels):\n",
    "        raise ValueError(\"colors and labels must have the same length.\")\n",
    "\n",
    "    color_by_label = dict(zip(labels, colors))\n",
    "    \n",
    "    legend_categories = \"\"     \n",
    "    for label, color in color_by_label.items():\n",
    "        legend_categories += f\"<li><span style='background:{color}'></span>{label}</li>\"\n",
    "        \n",
    "    legend_html = f\"\"\"\n",
    "    <div id='maplegend' class='maplegend'>\n",
    "      <div class='legend-title'>{title}</div>\n",
    "      <div class='legend-scale'>\n",
    "        <ul class='legend-labels'>\n",
    "        {legend_categories}\n",
    "        </ul>\n",
    "      </div>\n",
    "    </div>\n",
    "    \"\"\"\n",
    "    script = f\"\"\"\n",
    "        <script type=\"text/javascript\">\n",
    "        var oneTimeExecution = (function() {{\n",
    "                    var executed = false;\n",
    "                    return function() {{\n",
    "                        if (!executed) {{\n",
    "                             var checkExist = setInterval(function() {{\n",
    "                                       if ((document.getElementsByClassName('leaflet-top leaflet-right').length) || (!executed)) {{\n",
    "                                          document.getElementsByClassName('leaflet-top leaflet-right')[0].style.display = \"flex\"\n",
    "                                          document.getElementsByClassName('leaflet-top leaflet-right')[0].style.flexDirection = \"column\"\n",
    "                                          document.getElementsByClassName('leaflet-top leaflet-right')[0].innerHTML += `{legend_html}`;\n",
    "                                          clearInterval(checkExist);\n",
    "                                          executed = true;\n",
    "                                       }}\n",
    "                                    }}, 100);\n",
    "                        }}\n",
    "                    }};\n",
    "                }})();\n",
    "        oneTimeExecution()\n",
    "        </script>\n",
    "      \"\"\"\n",
    "   \n",
    "\n",
    "    css = \"\"\"\n",
    "\n",
    "    <style type='text/css'>\n",
    "      .maplegend {\n",
    "        z-index:9999;\n",
    "        float:right;\n",
    "        background-color: rgba(255, 255, 255, 1);\n",
    "        border-radius: 5px;\n",
    "        border: 2px solid #bbb;\n",
    "        padding: 10px;\n",
    "        font-size:12px;\n",
    "        positon: relative;\n",
    "      }\n",
    "      .maplegend .legend-title {\n",
    "        text-align: left;\n",
    "        margin-bottom: 5px;\n",
    "        font-weight: bold;\n",
    "        font-size: 90%;\n",
    "        }\n",
    "      .maplegend .legend-scale ul {\n",
    "        margin: 0;\n",
    "        margin-bottom: 5px;\n",
    "        padding: 0;\n",
    "        float: left;\n",
    "        list-style: none;\n",
    "        }\n",
    "      .maplegend .legend-scale ul li {\n",
    "        font-size: 80%;\n",
    "        list-style: none;\n",
    "        margin-left: 0;\n",
    "        line-height: 18px;\n",
    "        margin-bottom: 2px;\n",
    "        }\n",
    "      .maplegend ul.legend-labels li span {\n",
    "        display: block;\n",
    "        float: left;\n",
    "        height: 16px;\n",
    "        width: 30px;\n",
    "        margin-right: 5px;\n",
    "        margin-left: 0;\n",
    "        border: 0px solid #ccc;\n",
    "        }\n",
    "      .maplegend .legend-source {\n",
    "        font-size: 80%;\n",
    "        color: #777;\n",
    "        clear: both;\n",
    "        }\n",
    "      .maplegend a {\n",
    "        color: #777;\n",
    "        }\n",
    "    </style>\n",
    "    \"\"\"\n",
    "\n",
    "    folium_map.get_root().header.add_child(folium.Element(script + css))\n",
    "\n",
    "    return folium_map"
   ]
  },
  {
   "cell_type": "code",
   "execution_count": null,
   "metadata": {},
   "outputs": [],
   "source": [
    "choromap_ = folium.Map(location=[latitude, longitude], zoom_start=6)\n",
    "#Crear el listado de regiones de Italia\n",
    "communities_geo = r'spain_provinces.geojson'\n",
    "#Representar el mapa choropleth con número de casos por provincia\n",
    "choromap_.choropleth(\n",
    "    geo_data=communities_geo,\n",
    "    data=spain_data_clusters,\n",
    "    columns=['Province', 'Cluster Labels'],\n",
    "    key_on='feature.properties.name',\n",
    "    fill_color='BuPu', \n",
    "    fill_opacity=1, \n",
    "    line_opacity=1,\n",
    "    legend_name='Cluster Label',\n",
    "    smooth_factor=0)\n",
    "for key in choromap_._children:\n",
    "    if key.startswith('color_map'):\n",
    "        del(choromap_._children[key])\n",
    "choromap_ = add_categorical_legend(choromap_, 'Cluster labels',\n",
    "                             colors = ['#adcbff','#7786ed','#975fc7','#6e0078'],\n",
    "                           labels = ['1', '2','3','4'])\n",
    "#Visualizar el mapa\n",
    "choromap_"
   ]
  },
  {
   "cell_type": "markdown",
   "metadata": {},
   "source": [
    "### 7.5 Clustering features sorted by cluster"
   ]
  },
  {
   "cell_type": "markdown",
   "metadata": {},
   "source": [
    "In this section every feature used in the previous clustering is displayed sorted by cluster, in addition to box plots, some scatter plots are used to show a most detailed distribution of the data (in order to make clear overlaped point alpha parameter is fixed at different values depending on the feature to display)."
   ]
  },
  {
   "cell_type": "code",
   "execution_count": 146,
   "metadata": {},
   "outputs": [
    {
     "data": {
      "image/png": "[encoded data removed]",
      "text/plain": [
       "<Figure size 432x288 with 2 Axes>"
      ]
     },
     "metadata": {},
     "output_type": "display_data"
    }
   ],
   "source": [
    "GDP_capita_cluster_1 = spain_data_clusters.loc[spain_data_clusters['Cluster Labels'] == 1,'GDP/capita (€)'].values\n",
    "GDP_capita_cluster_2= spain_data_clusters.loc[spain_data_clusters['Cluster Labels'] == 2,'GDP/capita (€)'].values\n",
    "GDP_capita_cluster_3= spain_data_clusters.loc[spain_data_clusters['Cluster Labels'] == 3,'GDP/capita (€)'].values\n",
    "GDP_capita_cluster_4= spain_data_clusters.loc[spain_data_clusters['Cluster Labels'] == 4,'GDP/capita (€)'].values\n",
    "GDP_capita_cluster = [GDP_capita_cluster_1, GDP_capita_cluster_2, GDP_capita_cluster_3, GDP_capita_cluster_4]\n",
    "fig, ax = plt.subplots(1,2)\n",
    "plt.rcParams[\"figure.figsize\"] = (5,5)\n",
    "ax[0].set_title('Region-related GDP per capita')\n",
    "ax[0].boxplot(GDP_capita_cluster)\n",
    "ax[1].scatter(x = spain_data_clusters['Cluster Labels'], y = spain_data_clusters['GDP/capita (€)'], alpha = 0.5)\n",
    "plt.show()"
   ]
  },
  {
   "cell_type": "code",
   "execution_count": 147,
   "metadata": {},
   "outputs": [
    {
     "data": {
      "image/png": "[encoded data removed]",
      "text/plain": [
       "<Figure size 360x360 with 2 Axes>"
      ]
     },
     "metadata": {},
     "output_type": "display_data"
    }
   ],
   "source": [
    "GDP_cluster_1 = spain_data_clusters.loc[spain_data_clusters['Cluster Labels'] == 1,'GDP (thousands €)'].values\n",
    "GDP_cluster_2= spain_data_clusters.loc[spain_data_clusters['Cluster Labels'] == 2,'GDP (thousands €)'].values\n",
    "GDP_cluster_3= spain_data_clusters.loc[spain_data_clusters['Cluster Labels'] == 3,'GDP (thousands €)'].values\n",
    "GDP_cluster_4= spain_data_clusters.loc[spain_data_clusters['Cluster Labels'] == 4,'GDP (thousands €)'].values\n",
    "GDP_cluster = [GDP_cluster_1, GDP_cluster_2, GDP_cluster_3, GDP_cluster_4]\n",
    "fig, ax = plt.subplots(1,2)\n",
    "plt.rcParams[\"figure.figsize\"] = (10,5)\n",
    "ax[0].set_title('Region-related GDP')\n",
    "ax[0].boxplot(GDP_cluster)\n",
    "ax[1].scatter(x = spain_data_clusters['Cluster Labels'], y = spain_data_clusters['GDP (thousands €)'], alpha = 0.5)\n",
    "plt.show()"
   ]
  },
  {
   "cell_type": "code",
   "execution_count": 148,
   "metadata": {},
   "outputs": [
    {
     "data": {
      "image/png": "[encoded data removed]",
      "text/plain": [
       "<Figure size 720x360 with 2 Axes>"
      ]
     },
     "metadata": {},
     "output_type": "display_data"
    }
   ],
   "source": [
    "pop_cluster_1 = spain_data_clusters.loc[spain_data_clusters['Cluster Labels'] == 1,'Population'].values\n",
    "pop_cluster_2= spain_data_clusters.loc[spain_data_clusters['Cluster Labels'] == 2,'Population'].values\n",
    "pop_cluster_3= spain_data_clusters.loc[spain_data_clusters['Cluster Labels'] == 3,'Population'].values\n",
    "pop_cluster_4= spain_data_clusters.loc[spain_data_clusters['Cluster Labels'] == 4,'Population'].values\n",
    "pop_cluster = [pop_cluster_1, pop_cluster_2, pop_cluster_3, pop_cluster_4]\n",
    "fig, ax = plt.subplots(1,2)\n",
    "plt.rcParams[\"figure.figsize\"] = (10,5)\n",
    "ax[0].set_title('Region-related Population')\n",
    "ax[0].boxplot(pop_cluster)\n",
    "ax[1].scatter(x = spain_data_clusters['Cluster Labels'], y = spain_data_clusters['Population'], alpha = 0.5)\n",
    "plt.show()"
   ]
  },
  {
   "cell_type": "code",
   "execution_count": 149,
   "metadata": {},
   "outputs": [
    {
     "data": {
      "image/png": "[encoded data removed]",
      "text/plain": [
       "<Figure size 720x360 with 2 Axes>"
      ]
     },
     "metadata": {},
     "output_type": "display_data"
    }
   ],
   "source": [
    "Area_cluster_1 = spain_data_clusters.loc[spain_data_clusters['Cluster Labels'] == 1,'Area(km2)'].values\n",
    "Area_cluster_2= spain_data_clusters.loc[spain_data_clusters['Cluster Labels'] == 2,'Area(km2)'].values\n",
    "Area_cluster_3= spain_data_clusters.loc[spain_data_clusters['Cluster Labels'] == 3,'Area(km2)'].values\n",
    "Area_cluster_4= spain_data_clusters.loc[spain_data_clusters['Cluster Labels'] == 4,'Area(km2)'].values\n",
    "Area_cluster = [Area_cluster_1, Area_cluster_2, Area_cluster_3, Area_cluster_4]\n",
    "fig, ax = plt.subplots(1,2)\n",
    "plt.rcParams[\"figure.figsize\"] = (10,5)\n",
    "ax[0].set_title('Region-related Area')\n",
    "ax[0].boxplot(Area_cluster)\n",
    "ax[1].scatter(x = spain_data_clusters['Cluster Labels'], y = spain_data_clusters['Area(km2)'], alpha = 0.5)\n",
    "plt.show()"
   ]
  },
  {
   "cell_type": "code",
   "execution_count": 150,
   "metadata": {},
   "outputs": [
    {
     "data": {
      "image/png": "[encoded data removed]",
      "text/plain": [
       "<Figure size 720x360 with 2 Axes>"
      ]
     },
     "metadata": {},
     "output_type": "display_data"
    }
   ],
   "source": [
    "is_cluster_1 = spain_data_clusters.loc[spain_data_clusters['Cluster Labels'] == 1,'Industrial States'].values\n",
    "is_cluster_2= spain_data_clusters.loc[spain_data_clusters['Cluster Labels'] == 2,'Industrial States'].values\n",
    "is_cluster_3= spain_data_clusters.loc[spain_data_clusters['Cluster Labels'] == 3,'Industrial States'].values\n",
    "is_cluster_4= spain_data_clusters.loc[spain_data_clusters['Cluster Labels'] == 4,'Industrial States'].values\n",
    "is_cluster = [is_cluster_1, is_cluster_2, is_cluster_3, is_cluster_4]\n",
    "fig, ax = plt.subplots(1,2)\n",
    "plt.rcParams[\"figure.figsize\"] = (10,5)\n",
    "ax[0].set_title('Region-related Industrial States')\n",
    "ax[0].boxplot(is_cluster)\n",
    "ax[1].scatter(x = spain_data_clusters['Cluster Labels'], y = spain_data_clusters['Industrial States'], alpha = 0.3)\n",
    "plt.show()"
   ]
  },
  {
   "cell_type": "code",
   "execution_count": 151,
   "metadata": {},
   "outputs": [
    {
     "data": {
      "image/png": "[encoded data removed]",
      "text/plain": [
       "<Figure size 720x360 with 2 Axes>"
      ]
     },
     "metadata": {},
     "output_type": "display_data"
    }
   ],
   "source": [
    "pp_cluster_1 = spain_data_clusters.loc[spain_data_clusters['Cluster Labels'] == 1,'Power Plants'].values\n",
    "pp_cluster_2= spain_data_clusters.loc[spain_data_clusters['Cluster Labels'] == 2,'Power Plants'].values\n",
    "pp_cluster_3= spain_data_clusters.loc[spain_data_clusters['Cluster Labels'] == 3,'Power Plants'].values\n",
    "pp_cluster_4= spain_data_clusters.loc[spain_data_clusters['Cluster Labels'] == 4,'Power Plants'].values\n",
    "pp_cluster = [pp_cluster_1, pp_cluster_2, pp_cluster_3, pp_cluster_4]\n",
    "fig, ax = plt.subplots(1,2)\n",
    "plt.rcParams[\"figure.figsize\"] = (10,5)\n",
    "ax[0].set_title('Region-related Power Plants')\n",
    "ax[0].boxplot(pp_cluster)\n",
    "ax[1].scatter(x = spain_data_clusters['Cluster Labels'], y = spain_data_clusters['Power Plants'], alpha = 0.1)\n",
    "plt.show()"
   ]
  }
 ],
 "metadata": {
  "kernelspec": {
   "display_name": "Python",
   "language": "python",
   "name": "conda-env-python-py"
  },
  "language_info": {
   "codemirror_mode": {
    "name": "ipython",
    "version": 3
   },
   "file_extension": ".py",
   "mimetype": "text/x-python",
   "name": "python",
   "nbconvert_exporter": "python",
   "pygments_lexer": "ipython3",
   "version": "3.6.12"
  }
 },
 "nbformat": 4,
 "nbformat_minor": 4
}
