{
 "cells": [
  {
   "cell_type": "markdown",
   "metadata": {},
   "source": [
    "# Coursera Capstone Project Final Assignment"
   ]
  },
  {
   "cell_type": "markdown",
   "metadata": {},
   "source": [
    "## Alejandro González Casal 05/03/2021"
   ]
  },
  {
   "cell_type": "markdown",
   "metadata": {},
   "source": [
    "## 1 - Prepare the enviroment installation and import"
   ]
  },
  {
   "cell_type": "markdown",
   "metadata": {},
   "source": [
    "### 1.1 - Install the BeautifulSoup and Geopy libraries"
   ]
  },
  {
   "cell_type": "code",
   "execution_count": 1,
   "metadata": {},
   "outputs": [
    {
     "name": "stdout",
     "output_type": "stream",
     "text": [
      "Requirement already satisfied: bs4 in /home/jupyterlab/conda/envs/python/lib/python3.6/site-packages (0.0.1)\n",
      "Requirement already satisfied: beautifulsoup4 in /home/jupyterlab/conda/envs/python/lib/python3.6/site-packages (from bs4) (4.9.3)\n",
      "Requirement already satisfied: soupsieve>1.2; python_version >= \"3.0\" in /home/jupyterlab/conda/envs/python/lib/python3.6/site-packages (from beautifulsoup4->bs4) (2.2)\n"
     ]
    }
   ],
   "source": [
    "!pip install bs4"
   ]
  },
  {
   "cell_type": "code",
   "execution_count": 2,
   "metadata": {},
   "outputs": [
    {
     "name": "stdout",
     "output_type": "stream",
     "text": [
      "Requirement already satisfied: geopy in /home/jupyterlab/conda/envs/python/lib/python3.6/site-packages (2.1.0)\n",
      "Requirement already satisfied: geographiclib<2,>=1.49 in /home/jupyterlab/conda/envs/python/lib/python3.6/site-packages (from geopy) (1.50)\n"
     ]
    }
   ],
   "source": [
    "!pip install geopy"
   ]
  },
  {
   "cell_type": "markdown",
   "metadata": {},
   "source": [
    "### 1.2 - Import libraries"
   ]
  },
  {
   "cell_type": "code",
   "execution_count": 3,
   "metadata": {},
   "outputs": [],
   "source": [
    "import pandas as pd\n",
    "import requests\n",
    "from bs4 import BeautifulSoup\n",
    "import numpy as np\n",
    "import math\n",
    "from geopy.geocoders import Nominatim\n",
    "import seaborn as sns\n",
    "from sklearn.cluster import KMeans\n",
    "from sklearn.preprocessing import StandardScaler\n"
   ]
  },
  {
   "cell_type": "markdown",
   "metadata": {},
   "source": [
    "## 2 - Import and preapration of datasets"
   ]
  },
  {
   "cell_type": "markdown",
   "metadata": {},
   "source": [
    "### 2.1 - Download the first web, saving text response and parsing with BeautifulSoup"
   ]
  },
  {
   "cell_type": "code",
   "execution_count": 4,
   "metadata": {},
   "outputs": [
    {
     "data": {
      "text/plain": [
       "{'Date': 'Mon, 08 Mar 2021 23:26:20 GMT', 'Vary': 'Accept-Encoding,Cookie,Authorization', 'Server': 'ATS/8.0.8', 'X-Content-Type-Options': 'nosniff', 'P3p': 'CP=\"See https://es.wikipedia.org/wiki/Special:CentralAutoLogin/P3P for more info.\"', 'Content-Language': 'es', 'X-Request-Id': 'YEEFUFw1klbNhmqlmbiluAAAAIk', 'Last-Modified': 'Tue, 02 Mar 2021 01:23:34 GMT', 'Content-Type': 'text/html; charset=UTF-8', 'Content-Encoding': 'gzip', 'Age': '1812', 'X-Cache': 'cp1089 hit, cp1089 hit/3', 'X-Cache-Status': 'hit-front', 'Server-Timing': 'cache;desc=\"hit-front\"', 'Strict-Transport-Security': 'max-age=106384710; includeSubDomains; preload', 'Report-To': '{ \"group\": \"wm_nel\", \"max_age\": 86400, \"endpoints\": [{ \"url\": \"https://intake-logging.wikimedia.org/v1/events?stream=w3c.reportingapi.network_error&schema_uri=/w3c/reportingapi/network_error/1.0.0\" }] }', 'NEL': '{ \"report_to\": \"wm_nel\", \"max_age\": 86400, \"failure_fraction\": 0.05, \"success_fraction\": 0.0}', 'Set-Cookie': 'WMF-Last-Access=08-Mar-2021;Path=/;HttpOnly;secure;Expires=Fri, 09 Apr 2021 12:00:00 GMT, WMF-Last-Access-Global=08-Mar-2021;Path=/;Domain=.wikipedia.org;HttpOnly;secure;Expires=Fri, 09 Apr 2021 12:00:00 GMT, GeoIP=US:::37.75:-97.82:v4; Path=/; secure; Domain=.wikipedia.org', 'X-Client-IP': '169.53.161.213', 'Cache-Control': 'private, s-maxage=0, max-age=0, must-revalidate', 'Accept-Ranges': 'bytes', 'Content-Length': '10807', 'Connection': 'keep-alive'}"
      ]
     },
     "execution_count": 4,
     "metadata": {},
     "output_type": "execute_result"
    }
   ],
   "source": [
    "html_data = requests.get('https://es.wikipedia.org/wiki/Anexo:Provincias_de_Espa%C3%B1a_por_PIB')\n",
    "html_data_text = html_data.text\n",
    "html_data.headers"
   ]
  },
  {
   "cell_type": "code",
   "execution_count": 5,
   "metadata": {},
   "outputs": [],
   "source": [
    "soup = BeautifulSoup(html_data_text, 'html.parser')"
   ]
  },
  {
   "cell_type": "code",
   "execution_count": 6,
   "metadata": {
    "scrolled": true
   },
   "outputs": [],
   "source": [
    "#soup.prettify()"
   ]
  },
  {
   "cell_type": "markdown",
   "metadata": {},
   "source": [
    "### 2.2 - Extract the table row by row using BeautifulSoup"
   ]
  },
  {
   "cell_type": "markdown",
   "metadata": {},
   "source": [
    "* Firstly, the canada_data dataframe is created with the required columns.\n",
    "* Then, a loop iterates through the table's rows, the first row with the headers is avoided because it has a different tag (th) and doesn't return anything in: col = row.find_all(\"td\")\n",
    "* The data of each column is saved in different variables and then appended into the dataframe.\n",
    "* After appending the line breaking token are deleted."
   ]
  },
  {
   "cell_type": "code",
   "execution_count": 7,
   "metadata": {
    "scrolled": true
   },
   "outputs": [
    {
     "data": {
      "text/plain": [
       "[<tr>\n",
       " <td class=\"ambox-image\" width=\"40\">\n",
       " <img alt=\"\" data-file-height=\"620\" data-file-width=\"620\" decoding=\"async\" height=\"40\" src=\"//upload.wikimedia.org/wikipedia/commons/thumb/8/8f/Ambox_outdated_serious.svg/40px-Ambox_outdated_serious.svg.png\" srcset=\"//upload.wikimedia.org/wikipedia/commons/thumb/8/8f/Ambox_outdated_serious.svg/60px-Ambox_outdated_serious.svg.png 1.5x, //upload.wikimedia.org/wikipedia/commons/thumb/8/8f/Ambox_outdated_serious.svg/80px-Ambox_outdated_serious.svg.png 2x\" width=\"40\"/></td>\n",
       " <td class=\"ambox-text\"><div class=\"ambox-text-div\"><strong>Este artículo o sección se encuentra desactualizado.</strong></div><div class=\"hide-when-compact\"><small>La información suministrada ha quedado obsoleta o es insuficiente.<br/><span>Este aviso fue puesto el 26 de febrero de 2020.</span></small></div></td>\n",
       " </tr>]"
      ]
     },
     "execution_count": 7,
     "metadata": {},
     "output_type": "execute_result"
    }
   ],
   "source": [
    "soup.find_all(\"tbody\")[0].find_all(\"tr\")"
   ]
  },
  {
   "cell_type": "code",
   "execution_count": 8,
   "metadata": {},
   "outputs": [
    {
     "data": {
      "text/html": [
       "<div>\n",
       "<style scoped>\n",
       "    .dataframe tbody tr th:only-of-type {\n",
       "        vertical-align: middle;\n",
       "    }\n",
       "\n",
       "    .dataframe tbody tr th {\n",
       "        vertical-align: top;\n",
       "    }\n",
       "\n",
       "    .dataframe thead th {\n",
       "        text-align: right;\n",
       "    }\n",
       "</style>\n",
       "<table border=\"1\" class=\"dataframe\">\n",
       "  <thead>\n",
       "    <tr style=\"text-align: right;\">\n",
       "      <th></th>\n",
       "      <th>Province</th>\n",
       "      <th>Autonomous community</th>\n",
       "      <th>GDP (thousands €)</th>\n",
       "      <th>GDP/capita (€)</th>\n",
       "    </tr>\n",
       "  </thead>\n",
       "  <tbody>\n",
       "    <tr>\n",
       "      <th>1</th>\n",
       "      <td>Madrid</td>\n",
       "      <td>Madrid</td>\n",
       "      <td>231133592</td>\n",
       "      <td>35913</td>\n",
       "    </tr>\n",
       "    <tr>\n",
       "      <th>2</th>\n",
       "      <td>Barcelona</td>\n",
       "      <td>Cataluña</td>\n",
       "      <td>171350447</td>\n",
       "      <td>30947</td>\n",
       "    </tr>\n",
       "    <tr>\n",
       "      <th>3</th>\n",
       "      <td>Valencia</td>\n",
       "      <td>Comunidad Valenciana</td>\n",
       "      <td>59123107</td>\n",
       "      <td>23363</td>\n",
       "    </tr>\n",
       "    <tr>\n",
       "      <th>4</th>\n",
       "      <td>Sevilla</td>\n",
       "      <td>Andalucía</td>\n",
       "      <td>39535345</td>\n",
       "      <td>20314</td>\n",
       "    </tr>\n",
       "    <tr>\n",
       "      <th>5</th>\n",
       "      <td>Alicante</td>\n",
       "      <td>Comunidad Valenciana</td>\n",
       "      <td>36521398</td>\n",
       "      <td>19757</td>\n",
       "    </tr>\n",
       "  </tbody>\n",
       "</table>\n",
       "</div>"
      ],
      "text/plain": [
       "    Province  Autonomous community GDP (thousands €) GDP/capita (€)\n",
       "1     Madrid                Madrid         231133592          35913\n",
       "2  Barcelona              Cataluña         171350447          30947\n",
       "3   Valencia  Comunidad Valenciana          59123107          23363\n",
       "4    Sevilla             Andalucía          39535345          20314\n",
       "5   Alicante  Comunidad Valenciana          36521398          19757"
      ]
     },
     "execution_count": 8,
     "metadata": {},
     "output_type": "execute_result"
    }
   ],
   "source": [
    "spain_data_1 = pd.DataFrame(columns=[\"Province\", \"Autonomous community\", \"GDP (thousands €)\", \"GDP/capita (€)\"])\n",
    "\n",
    "for row in soup.find_all(\"tbody\")[1].find_all(\"tr\"):\n",
    "    col = row.find_all(\"td\")\n",
    "    if len(col) != 0:\n",
    "        province = col[1].text.replace(\"\\n\",\"\")\n",
    "        CA = col[2].text.replace(\"\\n\",\"\").replace(\"€\",\"\")\n",
    "        GDP = col[3].text.replace(\"\\n\",\"\").replace(\".\",\"\")\n",
    "        GDPpc = col[4].text.replace(\"\\n\",\"\").replace(\".\",\"\")\n",
    "        spain_data_1 = spain_data_1.append({\"Province\":province, \"Autonomous community\":CA, \"GDP (thousands €)\": GDP, \"GDP/capita (€)\":GDPpc}, ignore_index=True)\n",
    "\n",
    "spain_data_1 = spain_data_1.drop(0,axis=0)\n",
    "spain_data_1.at[7,'Province'] = 'Baleares' #to make it match with the one in the second dataset\n",
    "spain_data_1.head()"
   ]
  },
  {
   "cell_type": "markdown",
   "metadata": {},
   "source": [
    "### 2.3 - Repeat 2.1+2.2 to the second web"
   ]
  },
  {
   "cell_type": "code",
   "execution_count": 9,
   "metadata": {},
   "outputs": [],
   "source": [
    "html_data = requests.get('https://es.wikipedia.org/wiki/Anexo:Provincias_y_ciudades_aut%C3%B3nomas_de_Espa%C3%B1a')\n",
    "html_data_text = html_data.text\n",
    "html_data.headers\n",
    "soup = BeautifulSoup(html_data_text, 'html.parser')"
   ]
  },
  {
   "cell_type": "code",
   "execution_count": 10,
   "metadata": {},
   "outputs": [],
   "source": [
    "#soup.find_all(\"tbody\")[0].find_all(\"tr\")"
   ]
  },
  {
   "cell_type": "code",
   "execution_count": 11,
   "metadata": {},
   "outputs": [
    {
     "data": {
      "text/html": [
       "<div>\n",
       "<style scoped>\n",
       "    .dataframe tbody tr th:only-of-type {\n",
       "        vertical-align: middle;\n",
       "    }\n",
       "\n",
       "    .dataframe tbody tr th {\n",
       "        vertical-align: top;\n",
       "    }\n",
       "\n",
       "    .dataframe thead th {\n",
       "        text-align: right;\n",
       "    }\n",
       "</style>\n",
       "<table border=\"1\" class=\"dataframe\">\n",
       "  <thead>\n",
       "    <tr style=\"text-align: right;\">\n",
       "      <th></th>\n",
       "      <th>Province</th>\n",
       "      <th>Population</th>\n",
       "      <th>Area(km2)</th>\n",
       "    </tr>\n",
       "  </thead>\n",
       "  <tbody>\n",
       "    <tr>\n",
       "      <th>0</th>\n",
       "      <td>Madrid</td>\n",
       "      <td>6779888</td>\n",
       "      <td>8027</td>\n",
       "    </tr>\n",
       "    <tr>\n",
       "      <th>1</th>\n",
       "      <td>Barcelona</td>\n",
       "      <td>5743402</td>\n",
       "      <td>7733</td>\n",
       "    </tr>\n",
       "    <tr>\n",
       "      <th>2</th>\n",
       "      <td>Valencia</td>\n",
       "      <td>2591875</td>\n",
       "      <td>10807</td>\n",
       "    </tr>\n",
       "    <tr>\n",
       "      <th>3</th>\n",
       "      <td>Sevilla</td>\n",
       "      <td>1950219</td>\n",
       "      <td>14036</td>\n",
       "    </tr>\n",
       "    <tr>\n",
       "      <th>4</th>\n",
       "      <td>Alicante</td>\n",
       "      <td>1879888</td>\n",
       "      <td>5817</td>\n",
       "    </tr>\n",
       "  </tbody>\n",
       "</table>\n",
       "</div>"
      ],
      "text/plain": [
       "    Province Population Area(km2)\n",
       "0     Madrid    6779888      8027\n",
       "1  Barcelona    5743402      7733\n",
       "2   Valencia    2591875     10807\n",
       "3    Sevilla    1950219     14036\n",
       "4   Alicante    1879888      5817"
      ]
     },
     "execution_count": 11,
     "metadata": {},
     "output_type": "execute_result"
    }
   ],
   "source": [
    "spain_data_2 = pd.DataFrame(columns=[\"Province\", \"Population\", \"Area(km2)\"])\n",
    "\n",
    "for row in soup.find_all(\"tbody\")[0].find_all(\"tr\"):\n",
    "    col = row.find_all(\"td\")\n",
    "    if len(col) != 0:\n",
    "        province = col[2].text.replace(\"\\n\",\"\")\n",
    "        pob = col[3].text.replace(\"\\n\",\"\").replace(\"\\xa0\",\"\")\n",
    "        sup = col[6].text.replace(\"\\n\",\"\").replace(\"&0\",\"\").replace(\"&\",\"\").split(\".\")[0]\n",
    "        spain_data_2 = spain_data_2.append({\"Province\":province, \"Population\": pob, \"Area(km2)\":sup}, ignore_index=True)\n",
    "spain_data_2.head()"
   ]
  },
  {
   "cell_type": "markdown",
   "metadata": {},
   "source": [
    "### 2.4 - Merge both datasets using the province name"
   ]
  },
  {
   "cell_type": "code",
   "execution_count": 12,
   "metadata": {},
   "outputs": [
    {
     "data": {
      "text/html": [
       "<div>\n",
       "<style scoped>\n",
       "    .dataframe tbody tr th:only-of-type {\n",
       "        vertical-align: middle;\n",
       "    }\n",
       "\n",
       "    .dataframe tbody tr th {\n",
       "        vertical-align: top;\n",
       "    }\n",
       "\n",
       "    .dataframe thead th {\n",
       "        text-align: right;\n",
       "    }\n",
       "</style>\n",
       "<table border=\"1\" class=\"dataframe\">\n",
       "  <thead>\n",
       "    <tr style=\"text-align: right;\">\n",
       "      <th></th>\n",
       "      <th>Province</th>\n",
       "      <th>Autonomous community</th>\n",
       "      <th>GDP (thousands €)</th>\n",
       "      <th>GDP/capita (€)</th>\n",
       "      <th>Population</th>\n",
       "      <th>Area(km2)</th>\n",
       "    </tr>\n",
       "  </thead>\n",
       "  <tbody>\n",
       "    <tr>\n",
       "      <th>0</th>\n",
       "      <td>Madrid</td>\n",
       "      <td>Madrid</td>\n",
       "      <td>231133592</td>\n",
       "      <td>35913</td>\n",
       "      <td>6779888</td>\n",
       "      <td>8027</td>\n",
       "    </tr>\n",
       "    <tr>\n",
       "      <th>1</th>\n",
       "      <td>Barcelona</td>\n",
       "      <td>Cataluña</td>\n",
       "      <td>171350447</td>\n",
       "      <td>30947</td>\n",
       "      <td>5743402</td>\n",
       "      <td>7733</td>\n",
       "    </tr>\n",
       "    <tr>\n",
       "      <th>2</th>\n",
       "      <td>Valencia</td>\n",
       "      <td>Comunidad Valenciana</td>\n",
       "      <td>59123107</td>\n",
       "      <td>23363</td>\n",
       "      <td>2591875</td>\n",
       "      <td>10807</td>\n",
       "    </tr>\n",
       "    <tr>\n",
       "      <th>3</th>\n",
       "      <td>Sevilla</td>\n",
       "      <td>Andalucía</td>\n",
       "      <td>39535345</td>\n",
       "      <td>20314</td>\n",
       "      <td>1950219</td>\n",
       "      <td>14036</td>\n",
       "    </tr>\n",
       "    <tr>\n",
       "      <th>4</th>\n",
       "      <td>Alicante</td>\n",
       "      <td>Comunidad Valenciana</td>\n",
       "      <td>36521398</td>\n",
       "      <td>19757</td>\n",
       "      <td>1879888</td>\n",
       "      <td>5817</td>\n",
       "    </tr>\n",
       "  </tbody>\n",
       "</table>\n",
       "</div>"
      ],
      "text/plain": [
       "    Province  Autonomous community GDP (thousands €) GDP/capita (€)  \\\n",
       "0     Madrid                Madrid         231133592          35913   \n",
       "1  Barcelona              Cataluña         171350447          30947   \n",
       "2   Valencia  Comunidad Valenciana          59123107          23363   \n",
       "3    Sevilla             Andalucía          39535345          20314   \n",
       "4   Alicante  Comunidad Valenciana          36521398          19757   \n",
       "\n",
       "  Population Area(km2)  \n",
       "0    6779888      8027  \n",
       "1    5743402      7733  \n",
       "2    2591875     10807  \n",
       "3    1950219     14036  \n",
       "4    1879888      5817  "
      ]
     },
     "execution_count": 12,
     "metadata": {},
     "output_type": "execute_result"
    }
   ],
   "source": [
    "spain_data = pd.merge(spain_data_1, spain_data_2, on='Province')\n",
    "spain_data.head()"
   ]
  },
  {
   "cell_type": "markdown",
   "metadata": {},
   "source": [
    "### 2.5 - Extract geographical coordinates and inserting them into the dataset"
   ]
  },
  {
   "cell_type": "code",
   "execution_count": 13,
   "metadata": {},
   "outputs": [
    {
     "name": "stdout",
     "output_type": "stream",
     "text": [
      "Madrid,Barcelona,Valencia,Sevilla,Alicante,Vizcaya,Baleares,Murcia,Málaga,La Coruña,Zaragoza,Tarragona,Guipúzcoa,Las Palmas,Asturias,Santa Cruz de Tenerife,Cádiz,Gerona,Pontevedra,Navarra,Granada,Castellón,Almería,Córdoba,Valladolid,Cantabria,Lérida,Toledo,Álava,Badajoz,Jaén,Ciudad Real,Huelva,Burgos,León,La Rioja,Albacete,Lugo,Cáceres,Salamanca,Orense,Huesca,Guadalajara,Cuenca,Palencia,Zamora,Segovia,Teruel,Ávila,Soria,Ceuta,Melilla,"
     ]
    },
    {
     "data": {
      "text/html": [
       "<div>\n",
       "<style scoped>\n",
       "    .dataframe tbody tr th:only-of-type {\n",
       "        vertical-align: middle;\n",
       "    }\n",
       "\n",
       "    .dataframe tbody tr th {\n",
       "        vertical-align: top;\n",
       "    }\n",
       "\n",
       "    .dataframe thead th {\n",
       "        text-align: right;\n",
       "    }\n",
       "</style>\n",
       "<table border=\"1\" class=\"dataframe\">\n",
       "  <thead>\n",
       "    <tr style=\"text-align: right;\">\n",
       "      <th></th>\n",
       "      <th>Province</th>\n",
       "      <th>Autonomous community</th>\n",
       "      <th>GDP (thousands €)</th>\n",
       "      <th>GDP/capita (€)</th>\n",
       "      <th>Population</th>\n",
       "      <th>Area(km2)</th>\n",
       "      <th>Latitude</th>\n",
       "      <th>Longitude</th>\n",
       "    </tr>\n",
       "  </thead>\n",
       "  <tbody>\n",
       "    <tr>\n",
       "      <th>0</th>\n",
       "      <td>Madrid</td>\n",
       "      <td>Madrid</td>\n",
       "      <td>231133592</td>\n",
       "      <td>35913</td>\n",
       "      <td>6779888</td>\n",
       "      <td>8027</td>\n",
       "      <td>40.416705</td>\n",
       "      <td>-3.703582</td>\n",
       "    </tr>\n",
       "    <tr>\n",
       "      <th>1</th>\n",
       "      <td>Barcelona</td>\n",
       "      <td>Cataluña</td>\n",
       "      <td>171350447</td>\n",
       "      <td>30947</td>\n",
       "      <td>5743402</td>\n",
       "      <td>7733</td>\n",
       "      <td>41.382894</td>\n",
       "      <td>2.177432</td>\n",
       "    </tr>\n",
       "    <tr>\n",
       "      <th>2</th>\n",
       "      <td>Valencia</td>\n",
       "      <td>Comunidad Valenciana</td>\n",
       "      <td>59123107</td>\n",
       "      <td>23363</td>\n",
       "      <td>2591875</td>\n",
       "      <td>10807</td>\n",
       "      <td>39.469707</td>\n",
       "      <td>-0.376335</td>\n",
       "    </tr>\n",
       "    <tr>\n",
       "      <th>3</th>\n",
       "      <td>Sevilla</td>\n",
       "      <td>Andalucía</td>\n",
       "      <td>39535345</td>\n",
       "      <td>20314</td>\n",
       "      <td>1950219</td>\n",
       "      <td>14036</td>\n",
       "      <td>37.388630</td>\n",
       "      <td>-5.995340</td>\n",
       "    </tr>\n",
       "    <tr>\n",
       "      <th>4</th>\n",
       "      <td>Alicante</td>\n",
       "      <td>Comunidad Valenciana</td>\n",
       "      <td>36521398</td>\n",
       "      <td>19757</td>\n",
       "      <td>1879888</td>\n",
       "      <td>5817</td>\n",
       "      <td>38.353738</td>\n",
       "      <td>-0.490185</td>\n",
       "    </tr>\n",
       "  </tbody>\n",
       "</table>\n",
       "</div>"
      ],
      "text/plain": [
       "    Province  Autonomous community GDP (thousands €) GDP/capita (€)  \\\n",
       "0     Madrid                Madrid         231133592          35913   \n",
       "1  Barcelona              Cataluña         171350447          30947   \n",
       "2   Valencia  Comunidad Valenciana          59123107          23363   \n",
       "3    Sevilla             Andalucía          39535345          20314   \n",
       "4   Alicante  Comunidad Valenciana          36521398          19757   \n",
       "\n",
       "  Population Area(km2)   Latitude  Longitude  \n",
       "0    6779888      8027  40.416705  -3.703582  \n",
       "1    5743402      7733  41.382894   2.177432  \n",
       "2    2591875     10807  39.469707  -0.376335  \n",
       "3    1950219     14036  37.388630  -5.995340  \n",
       "4    1879888      5817  38.353738  -0.490185  "
      ]
     },
     "execution_count": 13,
     "metadata": {},
     "output_type": "execute_result"
    }
   ],
   "source": [
    "#get the latitude and longitude coordinates of each spanish province.\n",
    "for i in spain_data.index:\n",
    "    prov = spain_data.loc[i,'Province']\n",
    "    print(f'{prov},', end='')\n",
    "    address = f'{prov}, ES'\n",
    "    geolocator = Nominatim(user_agent=\"es_explorer\")\n",
    "    location = geolocator.geocode(address)\n",
    "    spain_data.at[i,'Latitude'] = location.latitude\n",
    "    spain_data.at[i,'Longitude'] = location.longitude\n",
    "    #print('The geograpical coordinate of {} are {}, {}.'.format(prov,spain_data.at[i,'Latitude'], spain_data.at[i,'Longitude']))\n",
    "spain_data.head()"
   ]
  },
  {
   "cell_type": "markdown",
   "metadata": {},
   "source": [
    "#### Detecting some missing values in the area colunm and replacing them with the actual values."
   ]
  },
  {
   "cell_type": "code",
   "execution_count": 14,
   "metadata": {},
   "outputs": [
    {
     "data": {
      "text/html": [
       "<div>\n",
       "<style scoped>\n",
       "    .dataframe tbody tr th:only-of-type {\n",
       "        vertical-align: middle;\n",
       "    }\n",
       "\n",
       "    .dataframe tbody tr th {\n",
       "        vertical-align: top;\n",
       "    }\n",
       "\n",
       "    .dataframe thead th {\n",
       "        text-align: right;\n",
       "    }\n",
       "</style>\n",
       "<table border=\"1\" class=\"dataframe\">\n",
       "  <thead>\n",
       "    <tr style=\"text-align: right;\">\n",
       "      <th></th>\n",
       "      <th>Province</th>\n",
       "      <th>Autonomous community</th>\n",
       "      <th>GDP (thousands €)</th>\n",
       "      <th>GDP/capita (€)</th>\n",
       "      <th>Population</th>\n",
       "      <th>Area(km2)</th>\n",
       "      <th>Latitude</th>\n",
       "      <th>Longitude</th>\n",
       "    </tr>\n",
       "  </thead>\n",
       "  <tbody>\n",
       "    <tr>\n",
       "      <th>11</th>\n",
       "      <td>Tarragona</td>\n",
       "      <td>Cataluña</td>\n",
       "      <td>24567640</td>\n",
       "      <td>30810</td>\n",
       "      <td>804664</td>\n",
       "      <td>TBD</td>\n",
       "      <td>41.117236</td>\n",
       "      <td>1.254606</td>\n",
       "    </tr>\n",
       "    <tr>\n",
       "      <th>17</th>\n",
       "      <td>Gerona</td>\n",
       "      <td>Cataluña</td>\n",
       "      <td>21208782</td>\n",
       "      <td>28184</td>\n",
       "      <td>761947</td>\n",
       "      <td>TBD</td>\n",
       "      <td>41.979301</td>\n",
       "      <td>2.819944</td>\n",
       "    </tr>\n",
       "  </tbody>\n",
       "</table>\n",
       "</div>"
      ],
      "text/plain": [
       "     Province Autonomous community GDP (thousands €) GDP/capita (€)  \\\n",
       "11  Tarragona             Cataluña          24567640          30810   \n",
       "17     Gerona             Cataluña          21208782          28184   \n",
       "\n",
       "   Population Area(km2)   Latitude  Longitude  \n",
       "11     804664       TBD  41.117236   1.254606  \n",
       "17     761947       TBD  41.979301   2.819944  "
      ]
     },
     "execution_count": 14,
     "metadata": {},
     "output_type": "execute_result"
    }
   ],
   "source": [
    "# In the area column there are missing values ('TBD')\n",
    "spain_data[spain_data['Area(km2)'] == 'TBD']"
   ]
  },
  {
   "cell_type": "code",
   "execution_count": 15,
   "metadata": {},
   "outputs": [],
   "source": [
    "#In that case, as it is easy to find information we can google it and complete the dataset.\n",
    "spain_data.loc[11,'Area(km2)'] = 6303\n",
    "spain_data.loc[17,'Area(km2)'] = 5905"
   ]
  },
  {
   "cell_type": "markdown",
   "metadata": {},
   "source": [
    "### 2.6 - Change numerical values datatype from object to float."
   ]
  },
  {
   "cell_type": "code",
   "execution_count": 16,
   "metadata": {},
   "outputs": [
    {
     "data": {
      "text/plain": [
       "Province                 object\n",
       "Autonomous community     object\n",
       "GDP (thousands €)       float64\n",
       "GDP/capita (€)          float64\n",
       "Population              float64\n",
       "Area(km2)               float64\n",
       "Latitude                float64\n",
       "Longitude               float64\n",
       "dtype: object"
      ]
     },
     "execution_count": 16,
     "metadata": {},
     "output_type": "execute_result"
    }
   ],
   "source": [
    "spain_data [['GDP (thousands €)','GDP/capita (€)','Population','Area(km2)']] = spain_data[['GDP (thousands €)','GDP/capita (€)','Population','Area(km2)']].astype(float)\n",
    "spain_data.dtypes"
   ]
  },
  {
   "cell_type": "markdown",
   "metadata": {},
   "source": [
    "### 2.7 - Calculate province equivalent radius "
   ]
  },
  {
   "cell_type": "markdown",
   "metadata": {},
   "source": [
    "In order to use the radius search provided by Foursquare is needed some aproximation of whether a venue (in this case industrail states or power plants) is within a province. To do so, we will aproximate this radius assuming the provinces as circles (which is quite accurate in the case of Spain)."
   ]
  },
  {
   "cell_type": "code",
   "execution_count": 17,
   "metadata": {},
   "outputs": [
    {
     "data": {
      "text/html": [
       "<div>\n",
       "<style scoped>\n",
       "    .dataframe tbody tr th:only-of-type {\n",
       "        vertical-align: middle;\n",
       "    }\n",
       "\n",
       "    .dataframe tbody tr th {\n",
       "        vertical-align: top;\n",
       "    }\n",
       "\n",
       "    .dataframe thead th {\n",
       "        text-align: right;\n",
       "    }\n",
       "</style>\n",
       "<table border=\"1\" class=\"dataframe\">\n",
       "  <thead>\n",
       "    <tr style=\"text-align: right;\">\n",
       "      <th></th>\n",
       "      <th>Province</th>\n",
       "      <th>Autonomous community</th>\n",
       "      <th>GDP (thousands €)</th>\n",
       "      <th>GDP/capita (€)</th>\n",
       "      <th>Population</th>\n",
       "      <th>Area(km2)</th>\n",
       "      <th>Latitude</th>\n",
       "      <th>Longitude</th>\n",
       "      <th>Equivalent radius</th>\n",
       "    </tr>\n",
       "  </thead>\n",
       "  <tbody>\n",
       "    <tr>\n",
       "      <th>0</th>\n",
       "      <td>Madrid</td>\n",
       "      <td>Madrid</td>\n",
       "      <td>231133592.0</td>\n",
       "      <td>35913.0</td>\n",
       "      <td>6779888.0</td>\n",
       "      <td>8027.0</td>\n",
       "      <td>40.416705</td>\n",
       "      <td>-3.703582</td>\n",
       "      <td>50.547734</td>\n",
       "    </tr>\n",
       "    <tr>\n",
       "      <th>1</th>\n",
       "      <td>Barcelona</td>\n",
       "      <td>Cataluña</td>\n",
       "      <td>171350447.0</td>\n",
       "      <td>30947.0</td>\n",
       "      <td>5743402.0</td>\n",
       "      <td>7733.0</td>\n",
       "      <td>41.382894</td>\n",
       "      <td>2.177432</td>\n",
       "      <td>49.613409</td>\n",
       "    </tr>\n",
       "    <tr>\n",
       "      <th>2</th>\n",
       "      <td>Valencia</td>\n",
       "      <td>Comunidad Valenciana</td>\n",
       "      <td>59123107.0</td>\n",
       "      <td>23363.0</td>\n",
       "      <td>2591875.0</td>\n",
       "      <td>10807.0</td>\n",
       "      <td>39.469707</td>\n",
       "      <td>-0.376335</td>\n",
       "      <td>58.651300</td>\n",
       "    </tr>\n",
       "    <tr>\n",
       "      <th>3</th>\n",
       "      <td>Sevilla</td>\n",
       "      <td>Andalucía</td>\n",
       "      <td>39535345.0</td>\n",
       "      <td>20314.0</td>\n",
       "      <td>1950219.0</td>\n",
       "      <td>14036.0</td>\n",
       "      <td>37.388630</td>\n",
       "      <td>-5.995340</td>\n",
       "      <td>66.841586</td>\n",
       "    </tr>\n",
       "    <tr>\n",
       "      <th>4</th>\n",
       "      <td>Alicante</td>\n",
       "      <td>Comunidad Valenciana</td>\n",
       "      <td>36521398.0</td>\n",
       "      <td>19757.0</td>\n",
       "      <td>1879888.0</td>\n",
       "      <td>5817.0</td>\n",
       "      <td>38.353738</td>\n",
       "      <td>-0.490185</td>\n",
       "      <td>43.030322</td>\n",
       "    </tr>\n",
       "  </tbody>\n",
       "</table>\n",
       "</div>"
      ],
      "text/plain": [
       "    Province  Autonomous community  GDP (thousands €)  GDP/capita (€)  \\\n",
       "0     Madrid                Madrid        231133592.0         35913.0   \n",
       "1  Barcelona              Cataluña        171350447.0         30947.0   \n",
       "2   Valencia  Comunidad Valenciana         59123107.0         23363.0   \n",
       "3    Sevilla             Andalucía         39535345.0         20314.0   \n",
       "4   Alicante  Comunidad Valenciana         36521398.0         19757.0   \n",
       "\n",
       "   Population  Area(km2)   Latitude  Longitude  Equivalent radius  \n",
       "0   6779888.0     8027.0  40.416705  -3.703582          50.547734  \n",
       "1   5743402.0     7733.0  41.382894   2.177432          49.613409  \n",
       "2   2591875.0    10807.0  39.469707  -0.376335          58.651300  \n",
       "3   1950219.0    14036.0  37.388630  -5.995340          66.841586  \n",
       "4   1879888.0     5817.0  38.353738  -0.490185          43.030322  "
      ]
     },
     "execution_count": 17,
     "metadata": {},
     "output_type": "execute_result"
    }
   ],
   "source": [
    "spain_data['Equivalent radius'] = spain_data['Area(km2)']/math.pi\n",
    "spain_data['Equivalent radius'] = spain_data['Equivalent radius'].apply(np.sqrt)\n",
    "spain_data.head()"
   ]
  },
  {
   "cell_type": "markdown",
   "metadata": {},
   "source": [
    "## 3 - Use Foursquare to extract industrial states and powerplants within a province"
   ]
  },
  {
   "cell_type": "markdown",
   "metadata": {},
   "source": [
    "### 3.1 Declare FourSquare credentials"
   ]
  },
  {
   "cell_type": "code",
   "execution_count": 18,
   "metadata": {},
   "outputs": [
    {
     "name": "stdout",
     "output_type": "stream",
     "text": [
      "Your credentails:\n",
      "CLIENT_ID: RDDJKPLXN3F2Z3LVPMIIHN044HZAANGR0IU20Z3IQMRIDQBN\n",
      "CLIENT_SECRET:Z5UKFZCR5LCCGNBFT5YII22T3IEN0FX1WKTRJNJ0P1COKBY2\n"
     ]
    }
   ],
   "source": [
    "CLIENT_ID = 'RDDJKPLXN3F2Z3LVPMIIHN044HZAANGR0IU20Z3IQMRIDQBN' # your Foursquare ID\n",
    "CLIENT_SECRET = 'Z5UKFZCR5LCCGNBFT5YII22T3IEN0FX1WKTRJNJ0P1COKBY2' # your Foursquare Secret\n",
    "VERSION = '20180605' # Foursquare API version\n",
    "LIMIT = 100 # A default Foursquare API limit value\n",
    "\n",
    "print('Your credentails:')\n",
    "print('CLIENT_ID: ' + CLIENT_ID)\n",
    "print('CLIENT_SECRET:' + CLIENT_SECRET)"
   ]
  },
  {
   "cell_type": "code",
   "execution_count": 19,
   "metadata": {},
   "outputs": [
    {
     "data": {
      "text/plain": [
       "'https://api.foursquare.com/v2/venues/explore?&client_id=RDDJKPLXN3F2Z3LVPMIIHN044HZAANGR0IU20Z3IQMRIDQBN&client_secret=Z5UKFZCR5LCCGNBFT5YII22T3IEN0FX1WKTRJNJ0P1COKBY2&v=20180605&ll=40.4167047,-3.7035825&radius=100000&limit=100&categoryId=56aa371be4b08b9a8d5734d7'"
      ]
     },
     "execution_count": 19,
     "metadata": {},
     "output_type": "execute_result"
    }
   ],
   "source": [
    "radius = 100000\n",
    "LIMIT = 100\n",
    "\n",
    "# type your answer here\n",
    "url = 'https://api.foursquare.com/v2/venues/explore?&client_id={}&client_secret={}&v={}&ll={},{}&radius={}&limit={}&categoryId={}'.format(\n",
    "    CLIENT_ID, \n",
    "    CLIENT_SECRET, \n",
    "    VERSION,\n",
    "    spain_data.loc[0,'Latitude'],\n",
    "    spain_data.loc[0,'Longitude'],\n",
    "    radius, \n",
    "    LIMIT,\n",
    "    '56aa371be4b08b9a8d5734d7')\n",
    "url"
   ]
  },
  {
   "cell_type": "code",
   "execution_count": 20,
   "metadata": {
    "scrolled": true
   },
   "outputs": [
    {
     "data": {
      "text/plain": [
       "[{'reasons': {'count': 0,\n",
       "   'items': [{'summary': 'This spot is popular',\n",
       "     'type': 'general',\n",
       "     'reasonName': 'globalInteractionReason'}]},\n",
       "  'venue': {'id': '51eb2ae7498e7623c04613a5',\n",
       "   'name': 'Poligono Cardenal Herrera Oria',\n",
       "   'location': {'address': 'Calle Cardenal Herrera Oria 3',\n",
       "    'lat': 40.488331426767026,\n",
       "    'lng': -3.6927059875980976,\n",
       "    'labeledLatLngs': [{'label': 'display',\n",
       "      'lat': 40.488331426767026,\n",
       "      'lng': -3.6927059875980976}],\n",
       "    'distance': 8026,\n",
       "    'postalCode': '28034',\n",
       "    'cc': 'ES',\n",
       "    'city': 'Madrid',\n",
       "    'state': 'Madrid',\n",
       "    'country': 'España',\n",
       "    'formattedAddress': ['Calle Cardenal Herrera Oria 3',\n",
       "     '28034 Madrid Madrid',\n",
       "     'España']},\n",
       "   'categories': [{'id': '56aa371be4b08b9a8d5734d7',\n",
       "     'name': 'Industrial Estate',\n",
       "     'pluralName': 'Industrial Estates',\n",
       "     'shortName': 'Industrial Estate',\n",
       "     'icon': {'prefix': 'https://ss3.4sqi.net/img/categories_v2/building/default_',\n",
       "      'suffix': '.png'},\n",
       "     'primary': True}],\n",
       "   'photos': {'count': 0, 'groups': []}},\n",
       "  'referralId': 'e-0-51eb2ae7498e7623c04613a5-0'},\n",
       " {'reasons': {'count': 0,\n",
       "   'items': [{'summary': 'This spot is popular',\n",
       "     'type': 'general',\n",
       "     'reasonName': 'globalInteractionReason'}]},\n",
       "  'venue': {'id': '5b6b9f13286fda002c2d0006',\n",
       "   'name': 'MAFRI SL',\n",
       "   'location': {'address': 'Calle de Eduardo Marquina 27',\n",
       "    'lat': 40.3926765,\n",
       "    'lng': -3.7108717,\n",
       "    'labeledLatLngs': [{'label': 'display',\n",
       "      'lat': 40.3926765,\n",
       "      'lng': -3.7108717}],\n",
       "    'distance': 2745,\n",
       "    'postalCode': '28019',\n",
       "    'cc': 'ES',\n",
       "    'city': 'Madrid',\n",
       "    'state': 'Madrid',\n",
       "    'country': 'España',\n",
       "    'formattedAddress': ['Calle de Eduardo Marquina 27',\n",
       "     '28019 Madrid Madrid',\n",
       "     'España']},\n",
       "   'categories': [{'id': '56aa371be4b08b9a8d5734d7',\n",
       "     'name': 'Industrial Estate',\n",
       "     'pluralName': 'Industrial Estates',\n",
       "     'shortName': 'Industrial Estate',\n",
       "     'icon': {'prefix': 'https://ss3.4sqi.net/img/categories_v2/building/default_',\n",
       "      'suffix': '.png'},\n",
       "     'primary': True}],\n",
       "   'photos': {'count': 0, 'groups': []},\n",
       "   'venuePage': {'id': '508487668'}},\n",
       "  'referralId': 'e-0-5b6b9f13286fda002c2d0006-1'},\n",
       " {'reasons': {'count': 0,\n",
       "   'items': [{'summary': 'This spot is popular',\n",
       "     'type': 'general',\n",
       "     'reasonName': 'globalInteractionReason'}]},\n",
       "  'venue': {'id': '58987485266c1156196abf6a',\n",
       "   'name': 'Acciona Industrial',\n",
       "   'location': {'address': 'calle Anabel Segura 11',\n",
       "    'lat': 40.533073,\n",
       "    'lng': -3.6261263,\n",
       "    'labeledLatLngs': [{'label': 'display',\n",
       "      'lat': 40.533073,\n",
       "      'lng': -3.6261263}],\n",
       "    'distance': 14519,\n",
       "    'postalCode': '28108',\n",
       "    'cc': 'ES',\n",
       "    'city': 'Alcobendas',\n",
       "    'state': 'Madrid',\n",
       "    'country': 'España',\n",
       "    'formattedAddress': ['calle Anabel Segura 11',\n",
       "     '28108 Alcobendas Madrid',\n",
       "     'España']},\n",
       "   'categories': [{'id': '56aa371be4b08b9a8d5734d7',\n",
       "     'name': 'Industrial Estate',\n",
       "     'pluralName': 'Industrial Estates',\n",
       "     'shortName': 'Industrial Estate',\n",
       "     'icon': {'prefix': 'https://ss3.4sqi.net/img/categories_v2/building/default_',\n",
       "      'suffix': '.png'},\n",
       "     'primary': True}],\n",
       "   'photos': {'count': 0, 'groups': []}},\n",
       "  'referralId': 'e-0-58987485266c1156196abf6a-2'},\n",
       " {'reasons': {'count': 0,\n",
       "   'items': [{'summary': 'This spot is popular',\n",
       "     'type': 'general',\n",
       "     'reasonName': 'globalInteractionReason'}]},\n",
       "  'venue': {'id': '4ee88efb0e019eee5e2898f5',\n",
       "   'name': 'Poligono Industrial Las Nieves',\n",
       "   'location': {'lat': 40.349618566879876,\n",
       "    'lng': -3.878602981567383,\n",
       "    'labeledLatLngs': [{'label': 'display',\n",
       "      'lat': 40.349618566879876,\n",
       "      'lng': -3.878602981567383}],\n",
       "    'distance': 16613,\n",
       "    'cc': 'ES',\n",
       "    'city': 'Villaviciosa de Odón',\n",
       "    'state': 'Madrid',\n",
       "    'country': 'España',\n",
       "    'formattedAddress': ['Villaviciosa de Odón Madrid', 'España']},\n",
       "   'categories': [{'id': '56aa371be4b08b9a8d5734d7',\n",
       "     'name': 'Industrial Estate',\n",
       "     'pluralName': 'Industrial Estates',\n",
       "     'shortName': 'Industrial Estate',\n",
       "     'icon': {'prefix': 'https://ss3.4sqi.net/img/categories_v2/building/default_',\n",
       "      'suffix': '.png'},\n",
       "     'primary': True}],\n",
       "   'photos': {'count': 0, 'groups': []}},\n",
       "  'referralId': 'e-0-4ee88efb0e019eee5e2898f5-3'},\n",
       " {'reasons': {'count': 0,\n",
       "   'items': [{'summary': 'This spot is popular',\n",
       "     'type': 'general',\n",
       "     'reasonName': 'globalInteractionReason'}]},\n",
       "  'venue': {'id': '57dfd7c7498e779b85f9e031',\n",
       "   'name': 'TNT HUB Madrid',\n",
       "   'location': {'lat': 40.443494,\n",
       "    'lng': -3.50544,\n",
       "    'labeledLatLngs': [{'label': 'display',\n",
       "      'lat': 40.443494,\n",
       "      'lng': -3.50544}],\n",
       "    'distance': 17052,\n",
       "    'cc': 'ES',\n",
       "    'country': 'España',\n",
       "    'formattedAddress': ['España']},\n",
       "   'categories': [{'id': '56aa371be4b08b9a8d5734d7',\n",
       "     'name': 'Industrial Estate',\n",
       "     'pluralName': 'Industrial Estates',\n",
       "     'shortName': 'Industrial Estate',\n",
       "     'icon': {'prefix': 'https://ss3.4sqi.net/img/categories_v2/building/default_',\n",
       "      'suffix': '.png'},\n",
       "     'primary': True}],\n",
       "   'photos': {'count': 0, 'groups': []}},\n",
       "  'referralId': 'e-0-57dfd7c7498e779b85f9e031-4'},\n",
       " {'reasons': {'count': 0,\n",
       "   'items': [{'summary': 'This spot is popular',\n",
       "     'type': 'general',\n",
       "     'reasonName': 'globalInteractionReason'}]},\n",
       "  'venue': {'id': '4c4ef775d667d13aa73f45a1',\n",
       "   'name': 'Poligono Industrial Cobo Calleja',\n",
       "   'location': {'lat': 40.26577343239632,\n",
       "    'lng': -3.750200271606445,\n",
       "    'labeledLatLngs': [{'label': 'display',\n",
       "      'lat': 40.26577343239632,\n",
       "      'lng': -3.750200271606445}],\n",
       "    'distance': 17260,\n",
       "    'cc': 'ES',\n",
       "    'city': 'Fuenlabrada',\n",
       "    'state': 'Madrid',\n",
       "    'country': 'España',\n",
       "    'formattedAddress': ['Fuenlabrada Madrid', 'España']},\n",
       "   'categories': [{'id': '56aa371be4b08b9a8d5734d7',\n",
       "     'name': 'Industrial Estate',\n",
       "     'pluralName': 'Industrial Estates',\n",
       "     'shortName': 'Industrial Estate',\n",
       "     'icon': {'prefix': 'https://ss3.4sqi.net/img/categories_v2/building/default_',\n",
       "      'suffix': '.png'},\n",
       "     'primary': True}],\n",
       "   'photos': {'count': 0, 'groups': []}},\n",
       "  'referralId': 'e-0-4c4ef775d667d13aa73f45a1-5'},\n",
       " {'reasons': {'count': 0,\n",
       "   'items': [{'summary': 'This spot is popular',\n",
       "     'type': 'general',\n",
       "     'reasonName': 'globalInteractionReason'}]},\n",
       "  'venue': {'id': '5ab24c865455b220acc56c3e',\n",
       "   'name': 'Aitec',\n",
       "   'location': {'address': 'Avenida de los Rosales 42',\n",
       "    'lat': 40.3601118,\n",
       "    'lng': -3.6823121,\n",
       "    'labeledLatLngs': [{'label': 'display',\n",
       "      'lat': 40.3601118,\n",
       "      'lng': -3.6823121}],\n",
       "    'distance': 6552,\n",
       "    'postalCode': '28021',\n",
       "    'cc': 'ES',\n",
       "    'city': 'Madrid',\n",
       "    'state': 'Madrid',\n",
       "    'country': 'España',\n",
       "    'formattedAddress': ['Avenida de los Rosales 42',\n",
       "     '28021 Madrid Madrid',\n",
       "     'España']},\n",
       "   'categories': [{'id': '545419b1498ea6ccd0202f58',\n",
       "     'name': 'Home Service',\n",
       "     'pluralName': 'Home Services & Repairs',\n",
       "     'shortName': 'Home Services',\n",
       "     'icon': {'prefix': 'https://ss3.4sqi.net/img/categories_v2/shops/hardware_',\n",
       "      'suffix': '.png'},\n",
       "     'primary': True}],\n",
       "   'photos': {'count': 0, 'groups': []}},\n",
       "  'referralId': 'e-0-5ab24c865455b220acc56c3e-6'},\n",
       " {'reasons': {'count': 0,\n",
       "   'items': [{'summary': 'This spot is popular',\n",
       "     'type': 'general',\n",
       "     'reasonName': 'globalInteractionReason'}]},\n",
       "  'venue': {'id': '56c32beccd10d65c77610976',\n",
       "   'name': 'SIMACOD PROJECTS',\n",
       "   'location': {'address': 'Calle Moraleja 5',\n",
       "    'lat': 40.26964725,\n",
       "    'lng': -3.92003639,\n",
       "    'labeledLatLngs': [{'label': 'display',\n",
       "      'lat': 40.26964725,\n",
       "      'lng': -3.92003639}],\n",
       "    'distance': 24602,\n",
       "    'postalCode': '28939',\n",
       "    'cc': 'ES',\n",
       "    'city': 'Arroyomolinos',\n",
       "    'state': 'Madrid',\n",
       "    'country': 'España',\n",
       "    'formattedAddress': ['Calle Moraleja 5',\n",
       "     '28939 Arroyomolinos Madrid',\n",
       "     'España']},\n",
       "   'categories': [{'id': '56aa371be4b08b9a8d5734d7',\n",
       "     'name': 'Industrial Estate',\n",
       "     'pluralName': 'Industrial Estates',\n",
       "     'shortName': 'Industrial Estate',\n",
       "     'icon': {'prefix': 'https://ss3.4sqi.net/img/categories_v2/building/default_',\n",
       "      'suffix': '.png'},\n",
       "     'primary': True}],\n",
       "   'photos': {'count': 0, 'groups': []},\n",
       "   'venuePage': {'id': '158456020'}},\n",
       "  'referralId': 'e-0-56c32beccd10d65c77610976-7'},\n",
       " {'reasons': {'count': 0,\n",
       "   'items': [{'summary': 'This spot is popular',\n",
       "     'type': 'general',\n",
       "     'reasonName': 'globalInteractionReason'}]},\n",
       "  'venue': {'id': '57505e01498ee997a1ff4203',\n",
       "   'name': 'Dasilux Electricidad C.B.',\n",
       "   'location': {'address': 'Calle de Getafe 17',\n",
       "    'lat': 40.24496,\n",
       "    'lng': -3.7710799999999836,\n",
       "    'labeledLatLngs': [{'label': 'display',\n",
       "      'lat': 40.24496,\n",
       "      'lng': -3.7710799999999836}],\n",
       "    'distance': 19958,\n",
       "    'postalCode': '28981',\n",
       "    'cc': 'ES',\n",
       "    'city': 'Parla',\n",
       "    'state': 'Madrid',\n",
       "    'country': 'España',\n",
       "    'formattedAddress': ['Calle de Getafe 17',\n",
       "     '28981 Parla Madrid',\n",
       "     'España']},\n",
       "   'categories': [{'id': '56aa371be4b08b9a8d5734d7',\n",
       "     'name': 'Industrial Estate',\n",
       "     'pluralName': 'Industrial Estates',\n",
       "     'shortName': 'Industrial Estate',\n",
       "     'icon': {'prefix': 'https://ss3.4sqi.net/img/categories_v2/building/default_',\n",
       "      'suffix': '.png'},\n",
       "     'primary': True}],\n",
       "   'photos': {'count': 0, 'groups': []},\n",
       "   'venuePage': {'id': '197651039'}},\n",
       "  'referralId': 'e-0-57505e01498ee997a1ff4203-8'},\n",
       " {'reasons': {'count': 0,\n",
       "   'items': [{'summary': 'This spot is popular',\n",
       "     'type': 'general',\n",
       "     'reasonName': 'globalInteractionReason'}]},\n",
       "  'venue': {'id': '55f9f35d498e8dfc7f60d7d0',\n",
       "   'name': 'CMS Montajes Eléctricos SL',\n",
       "   'location': {'address': 'Calle Dublín 3',\n",
       "    'lat': 40.2125959,\n",
       "    'lng': -3.685958199999959,\n",
       "    'labeledLatLngs': [{'label': 'display',\n",
       "      'lat': 40.2125959,\n",
       "      'lng': -3.685958199999959}],\n",
       "    'distance': 22770,\n",
       "    'postalCode': '28342',\n",
       "    'cc': 'ES',\n",
       "    'city': 'Valdemoro',\n",
       "    'state': 'Madrid',\n",
       "    'country': 'España',\n",
       "    'formattedAddress': ['Calle Dublín 3',\n",
       "     '28342 Valdemoro (Madrid) Madrid',\n",
       "     'España']},\n",
       "   'categories': [{'id': '545419b1498ea6ccd0202f58',\n",
       "     'name': 'Home Service',\n",
       "     'pluralName': 'Home Services & Repairs',\n",
       "     'shortName': 'Home Services',\n",
       "     'icon': {'prefix': 'https://ss3.4sqi.net/img/categories_v2/shops/hardware_',\n",
       "      'suffix': '.png'},\n",
       "     'primary': True}],\n",
       "   'photos': {'count': 0, 'groups': []},\n",
       "   'venuePage': {'id': '142003735'}},\n",
       "  'referralId': 'e-0-55f9f35d498e8dfc7f60d7d0-9'},\n",
       " {'reasons': {'count': 0,\n",
       "   'items': [{'summary': 'This spot is popular',\n",
       "     'type': 'general',\n",
       "     'reasonName': 'globalInteractionReason'}]},\n",
       "  'venue': {'id': '5acf6d3d01235804da57b02f',\n",
       "   'name': 'GRUPO MARC S.L.',\n",
       "   'location': {'address': 'Calle Balcón del Cura 4',\n",
       "    'lat': 40.5443078,\n",
       "    'lng': -3.4527943,\n",
       "    'labeledLatLngs': [{'label': 'display',\n",
       "      'lat': 40.5443078,\n",
       "      'lng': -3.4527943}],\n",
       "    'distance': 25547,\n",
       "    'postalCode': '28814',\n",
       "    'cc': 'ES',\n",
       "    'city': 'Daganzo de Arriba',\n",
       "    'state': 'Madrid',\n",
       "    'country': 'España',\n",
       "    'formattedAddress': ['Calle Balcón del Cura 4',\n",
       "     '28814 Daganzo de Arriba Madrid',\n",
       "     'España']},\n",
       "   'categories': [{'id': '4bf58dd8d48988d1ff941735',\n",
       "     'name': 'Miscellaneous Shop',\n",
       "     'pluralName': 'Miscellaneous Shops',\n",
       "     'shortName': 'Shop',\n",
       "     'icon': {'prefix': 'https://ss3.4sqi.net/img/categories_v2/shops/default_',\n",
       "      'suffix': '.png'},\n",
       "     'primary': True}],\n",
       "   'photos': {'count': 0, 'groups': []}},\n",
       "  'referralId': 'e-0-5acf6d3d01235804da57b02f-10'},\n",
       " {'reasons': {'count': 0,\n",
       "   'items': [{'summary': 'This spot is popular',\n",
       "     'type': 'general',\n",
       "     'reasonName': 'globalInteractionReason'}]},\n",
       "  'venue': {'id': '5ab553281ffe973b04c7460b',\n",
       "   'name': 'FRISAN',\n",
       "   'location': {'address': 'Calle Lavadero 10',\n",
       "    'lat': 40.10531270000001,\n",
       "    'lng': -3.653300599999999,\n",
       "    'labeledLatLngs': [{'label': 'display',\n",
       "      'lat': 40.10531270000001,\n",
       "      'lng': -3.653300599999999}],\n",
       "    'distance': 34925,\n",
       "    'postalCode': '45224',\n",
       "    'cc': 'ES',\n",
       "    'city': 'Seseña Nuevo',\n",
       "    'state': 'Castilla-La Mancha',\n",
       "    'country': 'España',\n",
       "    'formattedAddress': ['Calle Lavadero 10',\n",
       "     '45224 Seseña Nuevo Castilla-La Mancha',\n",
       "     'España']},\n",
       "   'categories': [{'id': '56aa371be4b08b9a8d5734d7',\n",
       "     'name': 'Industrial Estate',\n",
       "     'pluralName': 'Industrial Estates',\n",
       "     'shortName': 'Industrial Estate',\n",
       "     'icon': {'prefix': 'https://ss3.4sqi.net/img/categories_v2/building/default_',\n",
       "      'suffix': '.png'},\n",
       "     'primary': True}],\n",
       "   'photos': {'count': 0, 'groups': []}},\n",
       "  'referralId': 'e-0-5ab553281ffe973b04c7460b-11'},\n",
       " {'reasons': {'count': 0,\n",
       "   'items': [{'summary': 'This spot is popular',\n",
       "     'type': 'general',\n",
       "     'reasonName': 'globalInteractionReason'}]},\n",
       "  'venue': {'id': '5acc88f53b4e00595af8f5b7',\n",
       "   'name': 'CLIFRISER',\n",
       "   'location': {'address': 'Avenida Castilla 18',\n",
       "    'lat': 40.6252381,\n",
       "    'lng': -3.1640991,\n",
       "    'labeledLatLngs': [{'label': 'display',\n",
       "      'lat': 40.6252381,\n",
       "      'lng': -3.1640991}],\n",
       "    'distance': 51214,\n",
       "    'postalCode': '19002',\n",
       "    'cc': 'ES',\n",
       "    'city': 'Guadalajara',\n",
       "    'state': 'Castilla-La Mancha',\n",
       "    'country': 'España',\n",
       "    'formattedAddress': ['Avenida Castilla 18',\n",
       "     '19002 Guadalajara Castilla-La Mancha',\n",
       "     'España']},\n",
       "   'categories': [{'id': '56aa371be4b08b9a8d5734d7',\n",
       "     'name': 'Industrial Estate',\n",
       "     'pluralName': 'Industrial Estates',\n",
       "     'shortName': 'Industrial Estate',\n",
       "     'icon': {'prefix': 'https://ss3.4sqi.net/img/categories_v2/building/default_',\n",
       "      'suffix': '.png'},\n",
       "     'primary': True}],\n",
       "   'photos': {'count': 0, 'groups': []},\n",
       "   'venuePage': {'id': '508146290'}},\n",
       "  'referralId': 'e-0-5acc88f53b4e00595af8f5b7-12'},\n",
       " {'reasons': {'count': 0,\n",
       "   'items': [{'summary': 'This spot is popular',\n",
       "     'type': 'general',\n",
       "     'reasonName': 'globalInteractionReason'}]},\n",
       "  'venue': {'id': '5e4556e59ed4790008c9644f',\n",
       "   'name': 'INSTALACIONES ELECTRICAS FELUS',\n",
       "   'location': {'address': 'Calle Teniente Ochoa 15',\n",
       "    'lat': 40.94636739,\n",
       "    'lng': -4.1228787,\n",
       "    'labeledLatLngs': [{'label': 'display',\n",
       "      'lat': 40.94636739,\n",
       "      'lng': -4.1228787}],\n",
       "    'distance': 68769,\n",
       "    'postalCode': '40002',\n",
       "    'cc': 'ES',\n",
       "    'city': 'Segovia',\n",
       "    'state': 'Castilla y León',\n",
       "    'country': 'España',\n",
       "    'formattedAddress': ['Calle Teniente Ochoa 15',\n",
       "     '40002 Segovia Castilla y León',\n",
       "     'España']},\n",
       "   'categories': [{'id': '56aa371be4b08b9a8d5734d7',\n",
       "     'name': 'Industrial Estate',\n",
       "     'pluralName': 'Industrial Estates',\n",
       "     'shortName': 'Industrial Estate',\n",
       "     'icon': {'prefix': 'https://ss3.4sqi.net/img/categories_v2/building/default_',\n",
       "      'suffix': '.png'},\n",
       "     'primary': True}],\n",
       "   'photos': {'count': 0, 'groups': []},\n",
       "   'venuePage': {'id': '579048746'}},\n",
       "  'referralId': 'e-0-5e4556e59ed4790008c9644f-13'},\n",
       " {'reasons': {'count': 0,\n",
       "   'items': [{'summary': 'This spot is popular',\n",
       "     'type': 'general',\n",
       "     'reasonName': 'globalInteractionReason'}]},\n",
       "  'venue': {'id': '5e46d11908024e0008d6cccf',\n",
       "   'name': 'RWI',\n",
       "   'location': {'address': 'Avenida Unión Europea 17',\n",
       "    'lat': 40.65339541,\n",
       "    'lng': -4.677567,\n",
       "    'labeledLatLngs': [{'label': 'display',\n",
       "      'lat': 40.65339541,\n",
       "      'lng': -4.677567}],\n",
       "    'distance': 86511,\n",
       "    'postalCode': '05004',\n",
       "    'cc': 'ES',\n",
       "    'city': 'Ávila',\n",
       "    'state': 'Castilla y León',\n",
       "    'country': 'España',\n",
       "    'formattedAddress': ['Avenida Unión Europea 17',\n",
       "     '05004 Ávila Castilla y León',\n",
       "     'España']},\n",
       "   'categories': [{'id': '56aa371be4b08b9a8d5734d7',\n",
       "     'name': 'Industrial Estate',\n",
       "     'pluralName': 'Industrial Estates',\n",
       "     'shortName': 'Industrial Estate',\n",
       "     'icon': {'prefix': 'https://ss3.4sqi.net/img/categories_v2/building/default_',\n",
       "      'suffix': '.png'},\n",
       "     'primary': True}],\n",
       "   'photos': {'count': 0, 'groups': []},\n",
       "   'venuePage': {'id': '579303662'}},\n",
       "  'referralId': 'e-0-5e46d11908024e0008d6cccf-14'}]"
      ]
     },
     "execution_count": 20,
     "metadata": {},
     "output_type": "execute_result"
    }
   ],
   "source": [
    "results = requests.get(url).json()\n",
    "results['response']['groups'][0]['items']"
   ]
  },
  {
   "cell_type": "markdown",
   "metadata": {},
   "source": [
    "### 3.2 Function to iteratively extract the venues of a given type within the equivalent radius of a province."
   ]
  },
  {
   "cell_type": "code",
   "execution_count": 21,
   "metadata": {},
   "outputs": [],
   "source": [
    "def getNearbyVenues(names, latitudes, longitudes, radius, category):\n",
    "    \n",
    "    venues_list=[]\n",
    "    for name, lat, lng, rad in zip(names, latitudes, longitudes, radius):\n",
    "        print(name, lat, lng, rad)\n",
    "            \n",
    "        # create the API request URL\n",
    "        url = 'https://api.foursquare.com/v2/venues/explore?&client_id={}&client_secret={}&v={}&ll={},{}&radius={}&limit={}&categoryId={}'.format(\n",
    "            CLIENT_ID, \n",
    "            CLIENT_SECRET, \n",
    "            VERSION, \n",
    "            lat, \n",
    "            lng, \n",
    "            rad, \n",
    "            LIMIT,\n",
    "            category)\n",
    "        \n",
    "        # make the GET request\n",
    "        results = requests.get(url).json()['response']['groups'][0]['items']\n",
    "        \n",
    "        \n",
    "        # return only relevant information for each nearby venue\n",
    "        venues_list.append([(\n",
    "            name, \n",
    "            lat, \n",
    "            lng, \n",
    "            v['venue']['name'], \n",
    "            v['venue']['location']['lat'], \n",
    "            v['venue']['location']['lng'],  \n",
    "            v['venue']['categories'][0]['name']) for v in results])\n",
    "\n",
    "    nearby_venues = pd.DataFrame([item for venue_list in venues_list for item in venue_list])\n",
    "    nearby_venues.columns = ['Province', \n",
    "                  'Province Latitude', \n",
    "                  'Province Longitude', \n",
    "                  'Venue', \n",
    "                  'Venue Latitude', \n",
    "                  'Venue Longitude', \n",
    "                  'Venue Category']\n",
    "    \n",
    "    return(nearby_venues)"
   ]
  },
  {
   "cell_type": "markdown",
   "metadata": {},
   "source": [
    "### 3.2 - Extract Industrial States"
   ]
  },
  {
   "cell_type": "markdown",
   "metadata": {},
   "source": [
    "As Foursquare only allows the search within a given radius, we will use the equivalent radius of the province (that has been obteined previously by the area of each of them). Firstly we will extract the Industrial states within the provinces using the categoryId = '56aa371be4b08b9a8d5734d7'."
   ]
  },
  {
   "cell_type": "code",
   "execution_count": 22,
   "metadata": {},
   "outputs": [
    {
     "name": "stdout",
     "output_type": "stream",
     "text": [
      "Madrid 40.4167047 -3.7035825 50547.734433872385\n",
      "Barcelona 41.3828939 2.1774322 49613.408972366065\n",
      "Valencia 39.4697065 -0.3763353 58651.29955924443\n",
      "Sevilla 37.3886303 -5.9953403 66841.58557721149\n",
      "Alicante 38.353738 -0.4901846 43030.32195941729\n",
      "Vizcaya 43.238482000000005 -2.85163163999482 26564.883166870208\n",
      "Baleares 39.6134018 2.8804305326400756 39858.307063186956\n",
      "Murcia 37.9923795 -1.1305431 60008.66389445131\n",
      "Málaga 36.7213028 -4.4216366 48224.185098960195\n",
      "La Coruña 43.3712091 -8.3958768 50304.707485096624\n",
      "Zaragoza 41.6521342 -0.8809428 74151.76986383265\n",
      "Tarragona 41.1172364 1.2546057 44791.820822739865\n",
      "Guipúzcoa 43.144527800000006 -2.2037955488327494 25212.394624649005\n",
      "Las Palmas 28.128874 -15.4349448 36187.385533637476\n",
      "Asturias 43.271087800000004 -5.854145744587305 58095.09207503447\n",
      "Santa Cruz de Tenerife 28.469648 -16.2540884 32805.57460535322\n",
      "Cádiz 36.5297438 -6.2928976 48664.41773213158\n",
      "Gerona 41.9793006 2.8199439 43354.58312468573\n",
      "Pontevedra 42.6075172 -8.4714942 37821.74808902882\n",
      "Navarra 42.61254875 -1.830787673361753 57511.37302600042\n",
      "Granada 37.183054 -3.6021928 63445.620973241465\n",
      "Castellón 40.25185675 -0.061505110105748245 45959.81293168669\n",
      "Almería 36.8414197 -2.4628135 52850.44229959446\n",
      "Córdoba 37.8845813 -4.7760138 66207.593542108\n",
      "Valladolid 41.6521328 -4.728562 50808.3967169851\n",
      "Cantabria 43.1595664 -4.0878382 41154.91349017697\n",
      "Lérida 41.6147605 0.6267842 62245.22419133134\n",
      "Toledo 39.8560679 -4.0239568 69943.58184107159\n",
      "Álava 42.844072249999996 -2.6820829322126283 31091.914131171987\n",
      "Badajoz 38.8780585 -6.9702048 83236.60842848169\n",
      "Jaén 37.9557275 -3.492055612037218 65543.19357443944\n",
      "Ciudad Real 38.95975095 -3.88284645910809 79414.5690346516\n",
      "Huelva 37.2575874 -6.9484945 56776.08842975402\n",
      "Burgos 42.343926 -3.696977 66808.24218664276\n",
      "León 42.63414505 -5.971415104539984 70422.07059397969\n",
      "La Rioja 42.2814642 -2.482804975070473 40073.3499447853\n",
      "Albacete 38.9950921 -1.8559154 68928.17537973322\n",
      "Lugo 43.0462247 -7.4739921 56011.268850361186\n",
      "Cáceres 39.4745175 -6.3716761 79524.71828745797\n",
      "Salamanca 40.9651572 -5.6640182 62696.1624382516\n",
      "Orense 42.1968459 -7.6114105 48115.151482819936\n",
      "Huesca 42.13606145 -0.029802662719165485 70548.51791759874\n",
      "Guadalajara 40.7399963 -2.505930025884726 62352.521599762265\n",
      "Cuenca 40.0681156 -2.1348241 73863.60029940438\n",
      "Palencia 42.409632200000004 -4.616100410293067 50626.38841110319\n",
      "Zamora 41.6857693 -5.942315018340977 57979.91641928275\n",
      "Segovia 40.9502159 -4.1241494 46932.97787688133\n",
      "Teruel 40.6005259 -0.9229281754890265 68657.49124819343\n",
      "Ávila 40.656478 -4.7002172 50620.10059037333\n",
      "Soria 41.60125045 -2.721938035449954 57275.66400322346\n",
      "Ceuta 35.888361 -5.304138 2393.653682408596\n",
      "Melilla 35.292906 -2.9507198551536247 1954.4100476116796\n"
     ]
    }
   ],
   "source": [
    "LIMIT = 100\n",
    "spain_industrial_states = getNearbyVenues(names=spain_data['Province'],\n",
    "                                   latitudes=spain_data['Latitude'],\n",
    "                                   longitudes=spain_data['Longitude'],\n",
    "                                   radius=spain_data['Equivalent radius']*1000,\n",
    "                                   category = '56aa371be4b08b9a8d5734d7'\n",
    "                                  )"
   ]
  },
  {
   "cell_type": "code",
   "execution_count": 23,
   "metadata": {},
   "outputs": [
    {
     "data": {
      "text/html": [
       "<div>\n",
       "<style scoped>\n",
       "    .dataframe tbody tr th:only-of-type {\n",
       "        vertical-align: middle;\n",
       "    }\n",
       "\n",
       "    .dataframe tbody tr th {\n",
       "        vertical-align: top;\n",
       "    }\n",
       "\n",
       "    .dataframe thead th {\n",
       "        text-align: right;\n",
       "    }\n",
       "</style>\n",
       "<table border=\"1\" class=\"dataframe\">\n",
       "  <thead>\n",
       "    <tr style=\"text-align: right;\">\n",
       "      <th></th>\n",
       "      <th>Province</th>\n",
       "      <th>Province Latitude</th>\n",
       "      <th>Province Longitude</th>\n",
       "      <th>Venue</th>\n",
       "      <th>Latitude</th>\n",
       "      <th>Longitude</th>\n",
       "      <th>Category</th>\n",
       "    </tr>\n",
       "  </thead>\n",
       "  <tbody>\n",
       "    <tr>\n",
       "      <th>0</th>\n",
       "      <td>Madrid</td>\n",
       "      <td>40.416705</td>\n",
       "      <td>-3.703582</td>\n",
       "      <td>Poligono Cardenal Herrera Oria</td>\n",
       "      <td>40.488331</td>\n",
       "      <td>-3.692706</td>\n",
       "      <td>Industrial Estate</td>\n",
       "    </tr>\n",
       "    <tr>\n",
       "      <th>1</th>\n",
       "      <td>Madrid</td>\n",
       "      <td>40.416705</td>\n",
       "      <td>-3.703582</td>\n",
       "      <td>MAFRI SL</td>\n",
       "      <td>40.392677</td>\n",
       "      <td>-3.710872</td>\n",
       "      <td>Industrial Estate</td>\n",
       "    </tr>\n",
       "    <tr>\n",
       "      <th>2</th>\n",
       "      <td>Madrid</td>\n",
       "      <td>40.416705</td>\n",
       "      <td>-3.703582</td>\n",
       "      <td>Aitec</td>\n",
       "      <td>40.360112</td>\n",
       "      <td>-3.682312</td>\n",
       "      <td>Home Service</td>\n",
       "    </tr>\n",
       "    <tr>\n",
       "      <th>3</th>\n",
       "      <td>Madrid</td>\n",
       "      <td>40.416705</td>\n",
       "      <td>-3.703582</td>\n",
       "      <td>Acciona Industrial</td>\n",
       "      <td>40.533073</td>\n",
       "      <td>-3.626126</td>\n",
       "      <td>Industrial Estate</td>\n",
       "    </tr>\n",
       "    <tr>\n",
       "      <th>4</th>\n",
       "      <td>Madrid</td>\n",
       "      <td>40.416705</td>\n",
       "      <td>-3.703582</td>\n",
       "      <td>Poligono Industrial Las Nieves</td>\n",
       "      <td>40.349619</td>\n",
       "      <td>-3.878603</td>\n",
       "      <td>Industrial Estate</td>\n",
       "    </tr>\n",
       "  </tbody>\n",
       "</table>\n",
       "</div>"
      ],
      "text/plain": [
       "  Province  Province Latitude  Province Longitude  \\\n",
       "0   Madrid          40.416705           -3.703582   \n",
       "1   Madrid          40.416705           -3.703582   \n",
       "2   Madrid          40.416705           -3.703582   \n",
       "3   Madrid          40.416705           -3.703582   \n",
       "4   Madrid          40.416705           -3.703582   \n",
       "\n",
       "                            Venue   Latitude  Longitude           Category  \n",
       "0  Poligono Cardenal Herrera Oria  40.488331  -3.692706  Industrial Estate  \n",
       "1                        MAFRI SL  40.392677  -3.710872  Industrial Estate  \n",
       "2                           Aitec  40.360112  -3.682312       Home Service  \n",
       "3              Acciona Industrial  40.533073  -3.626126  Industrial Estate  \n",
       "4  Poligono Industrial Las Nieves  40.349619  -3.878603  Industrial Estate  "
      ]
     },
     "execution_count": 23,
     "metadata": {},
     "output_type": "execute_result"
    }
   ],
   "source": [
    "spain_industrial_states = spain_industrial_states.rename(columns = {'Venue Latitude':'Latitude','Venue Longitude':'Longitude','Venue Category':'Category'})\n",
    "spain_industrial_states.head()"
   ]
  },
  {
   "cell_type": "markdown",
   "metadata": {},
   "source": [
    "Count the number of industrail states within each province"
   ]
  },
  {
   "cell_type": "code",
   "execution_count": 24,
   "metadata": {},
   "outputs": [],
   "source": [
    "spain_industrial_states_edit = spain_industrial_states.groupby('Province').count()"
   ]
  },
  {
   "cell_type": "markdown",
   "metadata": {},
   "source": [
    "As every column displays the same value we can retrieve only one and change its name to 'Industrial States'"
   ]
  },
  {
   "cell_type": "code",
   "execution_count": 25,
   "metadata": {},
   "outputs": [],
   "source": [
    "spain_industrial_states_edit = spain_industrial_states_edit['Venue'].to_frame().rename(columns = {'Venue':'Industrial States'})"
   ]
  },
  {
   "cell_type": "code",
   "execution_count": 26,
   "metadata": {},
   "outputs": [
    {
     "data": {
      "text/html": [
       "<div>\n",
       "<style scoped>\n",
       "    .dataframe tbody tr th:only-of-type {\n",
       "        vertical-align: middle;\n",
       "    }\n",
       "\n",
       "    .dataframe tbody tr th {\n",
       "        vertical-align: top;\n",
       "    }\n",
       "\n",
       "    .dataframe thead th {\n",
       "        text-align: right;\n",
       "    }\n",
       "</style>\n",
       "<table border=\"1\" class=\"dataframe\">\n",
       "  <thead>\n",
       "    <tr style=\"text-align: right;\">\n",
       "      <th></th>\n",
       "      <th>Industrial States</th>\n",
       "    </tr>\n",
       "    <tr>\n",
       "      <th>Province</th>\n",
       "      <th></th>\n",
       "    </tr>\n",
       "  </thead>\n",
       "  <tbody>\n",
       "    <tr>\n",
       "      <th>Albacete</th>\n",
       "      <td>2</td>\n",
       "    </tr>\n",
       "    <tr>\n",
       "      <th>Alicante</th>\n",
       "      <td>5</td>\n",
       "    </tr>\n",
       "    <tr>\n",
       "      <th>Almería</th>\n",
       "      <td>5</td>\n",
       "    </tr>\n",
       "    <tr>\n",
       "      <th>Asturias</th>\n",
       "      <td>7</td>\n",
       "    </tr>\n",
       "    <tr>\n",
       "      <th>Baleares</th>\n",
       "      <td>3</td>\n",
       "    </tr>\n",
       "  </tbody>\n",
       "</table>\n",
       "</div>"
      ],
      "text/plain": [
       "          Industrial States\n",
       "Province                   \n",
       "Albacete                  2\n",
       "Alicante                  5\n",
       "Almería                   5\n",
       "Asturias                  7\n",
       "Baleares                  3"
      ]
     },
     "execution_count": 26,
     "metadata": {},
     "output_type": "execute_result"
    }
   ],
   "source": [
    "spain_industrial_states_edit.head()"
   ]
  },
  {
   "cell_type": "markdown",
   "metadata": {},
   "source": [
    "### 3.3 - Merge the new data with the previous dataset"
   ]
  },
  {
   "cell_type": "markdown",
   "metadata": {},
   "source": [
    "Outer merge is needed to avoid losing entries without venues of a given type"
   ]
  },
  {
   "cell_type": "code",
   "execution_count": 27,
   "metadata": {},
   "outputs": [
    {
     "data": {
      "text/html": [
       "<div>\n",
       "<style scoped>\n",
       "    .dataframe tbody tr th:only-of-type {\n",
       "        vertical-align: middle;\n",
       "    }\n",
       "\n",
       "    .dataframe tbody tr th {\n",
       "        vertical-align: top;\n",
       "    }\n",
       "\n",
       "    .dataframe thead th {\n",
       "        text-align: right;\n",
       "    }\n",
       "</style>\n",
       "<table border=\"1\" class=\"dataframe\">\n",
       "  <thead>\n",
       "    <tr style=\"text-align: right;\">\n",
       "      <th></th>\n",
       "      <th>Province</th>\n",
       "      <th>Autonomous community</th>\n",
       "      <th>GDP (thousands €)</th>\n",
       "      <th>GDP/capita (€)</th>\n",
       "      <th>Population</th>\n",
       "      <th>Area(km2)</th>\n",
       "      <th>Latitude</th>\n",
       "      <th>Longitude</th>\n",
       "      <th>Equivalent radius</th>\n",
       "      <th>Industrial States</th>\n",
       "    </tr>\n",
       "  </thead>\n",
       "  <tbody>\n",
       "    <tr>\n",
       "      <th>0</th>\n",
       "      <td>Madrid</td>\n",
       "      <td>Madrid</td>\n",
       "      <td>231133592.0</td>\n",
       "      <td>35913.0</td>\n",
       "      <td>6779888.0</td>\n",
       "      <td>8027.0</td>\n",
       "      <td>40.416705</td>\n",
       "      <td>-3.703582</td>\n",
       "      <td>50.547734</td>\n",
       "      <td>12.0</td>\n",
       "    </tr>\n",
       "    <tr>\n",
       "      <th>1</th>\n",
       "      <td>Barcelona</td>\n",
       "      <td>Cataluña</td>\n",
       "      <td>171350447.0</td>\n",
       "      <td>30947.0</td>\n",
       "      <td>5743402.0</td>\n",
       "      <td>7733.0</td>\n",
       "      <td>41.382894</td>\n",
       "      <td>2.177432</td>\n",
       "      <td>49.613409</td>\n",
       "      <td>19.0</td>\n",
       "    </tr>\n",
       "    <tr>\n",
       "      <th>2</th>\n",
       "      <td>Valencia</td>\n",
       "      <td>Comunidad Valenciana</td>\n",
       "      <td>59123107.0</td>\n",
       "      <td>23363.0</td>\n",
       "      <td>2591875.0</td>\n",
       "      <td>10807.0</td>\n",
       "      <td>39.469707</td>\n",
       "      <td>-0.376335</td>\n",
       "      <td>58.651300</td>\n",
       "      <td>19.0</td>\n",
       "    </tr>\n",
       "    <tr>\n",
       "      <th>3</th>\n",
       "      <td>Sevilla</td>\n",
       "      <td>Andalucía</td>\n",
       "      <td>39535345.0</td>\n",
       "      <td>20314.0</td>\n",
       "      <td>1950219.0</td>\n",
       "      <td>14036.0</td>\n",
       "      <td>37.388630</td>\n",
       "      <td>-5.995340</td>\n",
       "      <td>66.841586</td>\n",
       "      <td>4.0</td>\n",
       "    </tr>\n",
       "    <tr>\n",
       "      <th>4</th>\n",
       "      <td>Alicante</td>\n",
       "      <td>Comunidad Valenciana</td>\n",
       "      <td>36521398.0</td>\n",
       "      <td>19757.0</td>\n",
       "      <td>1879888.0</td>\n",
       "      <td>5817.0</td>\n",
       "      <td>38.353738</td>\n",
       "      <td>-0.490185</td>\n",
       "      <td>43.030322</td>\n",
       "      <td>5.0</td>\n",
       "    </tr>\n",
       "  </tbody>\n",
       "</table>\n",
       "</div>"
      ],
      "text/plain": [
       "    Province  Autonomous community  GDP (thousands €)  GDP/capita (€)  \\\n",
       "0     Madrid                Madrid        231133592.0         35913.0   \n",
       "1  Barcelona              Cataluña        171350447.0         30947.0   \n",
       "2   Valencia  Comunidad Valenciana         59123107.0         23363.0   \n",
       "3    Sevilla             Andalucía         39535345.0         20314.0   \n",
       "4   Alicante  Comunidad Valenciana         36521398.0         19757.0   \n",
       "\n",
       "   Population  Area(km2)   Latitude  Longitude  Equivalent radius  \\\n",
       "0   6779888.0     8027.0  40.416705  -3.703582          50.547734   \n",
       "1   5743402.0     7733.0  41.382894   2.177432          49.613409   \n",
       "2   2591875.0    10807.0  39.469707  -0.376335          58.651300   \n",
       "3   1950219.0    14036.0  37.388630  -5.995340          66.841586   \n",
       "4   1879888.0     5817.0  38.353738  -0.490185          43.030322   \n",
       "\n",
       "   Industrial States  \n",
       "0               12.0  \n",
       "1               19.0  \n",
       "2               19.0  \n",
       "3                4.0  \n",
       "4                5.0  "
      ]
     },
     "execution_count": 27,
     "metadata": {},
     "output_type": "execute_result"
    }
   ],
   "source": [
    "spain_data = pd.merge(spain_data, spain_industrial_states_edit, on='Province', how = 'outer')\n",
    "spain_data.head()"
   ]
  },
  {
   "cell_type": "markdown",
   "metadata": {},
   "source": [
    "### 3.4 - Extract Power Plants"
   ]
  },
  {
   "cell_type": "markdown",
   "metadata": {},
   "source": [
    "In that case the proccess is exactly the same excepting the categoryId = '58daa1548bbb0b01f18ec1a9'"
   ]
  },
  {
   "cell_type": "code",
   "execution_count": 28,
   "metadata": {},
   "outputs": [
    {
     "name": "stdout",
     "output_type": "stream",
     "text": [
      "Madrid 40.4167047 -3.7035825 50547.734433872385\n",
      "Barcelona 41.3828939 2.1774322 49613.408972366065\n",
      "Valencia 39.4697065 -0.3763353 58651.29955924443\n",
      "Sevilla 37.3886303 -5.9953403 66841.58557721149\n",
      "Alicante 38.353738 -0.4901846 43030.32195941729\n",
      "Vizcaya 43.238482000000005 -2.85163163999482 26564.883166870208\n",
      "Baleares 39.6134018 2.8804305326400756 39858.307063186956\n",
      "Murcia 37.9923795 -1.1305431 60008.66389445131\n",
      "Málaga 36.7213028 -4.4216366 48224.185098960195\n",
      "La Coruña 43.3712091 -8.3958768 50304.707485096624\n",
      "Zaragoza 41.6521342 -0.8809428 74151.76986383265\n",
      "Tarragona 41.1172364 1.2546057 44791.820822739865\n",
      "Guipúzcoa 43.144527800000006 -2.2037955488327494 25212.394624649005\n",
      "Las Palmas 28.128874 -15.4349448 36187.385533637476\n",
      "Asturias 43.271087800000004 -5.854145744587305 58095.09207503447\n",
      "Santa Cruz de Tenerife 28.469648 -16.2540884 32805.57460535322\n",
      "Cádiz 36.5297438 -6.2928976 48664.41773213158\n",
      "Gerona 41.9793006 2.8199439 43354.58312468573\n",
      "Pontevedra 42.6075172 -8.4714942 37821.74808902882\n",
      "Navarra 42.61254875 -1.830787673361753 57511.37302600042\n",
      "Granada 37.183054 -3.6021928 63445.620973241465\n",
      "Castellón 40.25185675 -0.061505110105748245 45959.81293168669\n",
      "Almería 36.8414197 -2.4628135 52850.44229959446\n",
      "Córdoba 37.8845813 -4.7760138 66207.593542108\n",
      "Valladolid 41.6521328 -4.728562 50808.3967169851\n",
      "Cantabria 43.1595664 -4.0878382 41154.91349017697\n",
      "Lérida 41.6147605 0.6267842 62245.22419133134\n",
      "Toledo 39.8560679 -4.0239568 69943.58184107159\n",
      "Álava 42.844072249999996 -2.6820829322126283 31091.914131171987\n",
      "Badajoz 38.8780585 -6.9702048 83236.60842848169\n",
      "Jaén 37.9557275 -3.492055612037218 65543.19357443944\n",
      "Ciudad Real 38.95975095 -3.88284645910809 79414.5690346516\n",
      "Huelva 37.2575874 -6.9484945 56776.08842975402\n",
      "Burgos 42.343926 -3.696977 66808.24218664276\n",
      "León 42.63414505 -5.971415104539984 70422.07059397969\n",
      "La Rioja 42.2814642 -2.482804975070473 40073.3499447853\n",
      "Albacete 38.9950921 -1.8559154 68928.17537973322\n",
      "Lugo 43.0462247 -7.4739921 56011.268850361186\n",
      "Cáceres 39.4745175 -6.3716761 79524.71828745797\n",
      "Salamanca 40.9651572 -5.6640182 62696.1624382516\n",
      "Orense 42.1968459 -7.6114105 48115.151482819936\n",
      "Huesca 42.13606145 -0.029802662719165485 70548.51791759874\n",
      "Guadalajara 40.7399963 -2.505930025884726 62352.521599762265\n",
      "Cuenca 40.0681156 -2.1348241 73863.60029940438\n",
      "Palencia 42.409632200000004 -4.616100410293067 50626.38841110319\n",
      "Zamora 41.6857693 -5.942315018340977 57979.91641928275\n",
      "Segovia 40.9502159 -4.1241494 46932.97787688133\n",
      "Teruel 40.6005259 -0.9229281754890265 68657.49124819343\n",
      "Ávila 40.656478 -4.7002172 50620.10059037333\n",
      "Soria 41.60125045 -2.721938035449954 57275.66400322346\n",
      "Ceuta 35.888361 -5.304138 2393.653682408596\n",
      "Melilla 35.292906 -2.9507198551536247 1954.4100476116796\n"
     ]
    }
   ],
   "source": [
    "LIMIT = 100\n",
    "spain_powerplants = getNearbyVenues(names=spain_data['Province'],\n",
    "                                   latitudes=spain_data['Latitude'],\n",
    "                                   longitudes=spain_data['Longitude'],\n",
    "                                   radius=spain_data['Equivalent radius']*1000,\n",
    "                                   category = '58daa1548bbb0b01f18ec1a9')"
   ]
  },
  {
   "cell_type": "code",
   "execution_count": 29,
   "metadata": {},
   "outputs": [
    {
     "data": {
      "text/html": [
       "<div>\n",
       "<style scoped>\n",
       "    .dataframe tbody tr th:only-of-type {\n",
       "        vertical-align: middle;\n",
       "    }\n",
       "\n",
       "    .dataframe tbody tr th {\n",
       "        vertical-align: top;\n",
       "    }\n",
       "\n",
       "    .dataframe thead th {\n",
       "        text-align: right;\n",
       "    }\n",
       "</style>\n",
       "<table border=\"1\" class=\"dataframe\">\n",
       "  <thead>\n",
       "    <tr style=\"text-align: right;\">\n",
       "      <th></th>\n",
       "      <th>Province</th>\n",
       "      <th>Province Latitude</th>\n",
       "      <th>Province Longitude</th>\n",
       "      <th>Venue</th>\n",
       "      <th>Latitude</th>\n",
       "      <th>Longitude</th>\n",
       "      <th>Category</th>\n",
       "    </tr>\n",
       "  </thead>\n",
       "  <tbody>\n",
       "    <tr>\n",
       "      <th>0</th>\n",
       "      <td>Madrid</td>\n",
       "      <td>40.416705</td>\n",
       "      <td>-3.703582</td>\n",
       "      <td>Hygienic Alcalá</td>\n",
       "      <td>40.491812</td>\n",
       "      <td>-3.351614</td>\n",
       "      <td>Power Plant</td>\n",
       "    </tr>\n",
       "    <tr>\n",
       "      <th>1</th>\n",
       "      <td>Madrid</td>\n",
       "      <td>40.416705</td>\n",
       "      <td>-3.703582</td>\n",
       "      <td>Deceuninck Spain</td>\n",
       "      <td>40.023607</td>\n",
       "      <td>-3.650286</td>\n",
       "      <td>Power Plant</td>\n",
       "    </tr>\n",
       "    <tr>\n",
       "      <th>2</th>\n",
       "      <td>Barcelona</td>\n",
       "      <td>41.382894</td>\n",
       "      <td>2.177432</td>\n",
       "      <td>IM-14</td>\n",
       "      <td>41.548061</td>\n",
       "      <td>2.202726</td>\n",
       "      <td>Home Service</td>\n",
       "    </tr>\n",
       "    <tr>\n",
       "      <th>3</th>\n",
       "      <td>Barcelona</td>\n",
       "      <td>41.382894</td>\n",
       "      <td>2.177432</td>\n",
       "      <td>Transformador De Llum</td>\n",
       "      <td>41.682818</td>\n",
       "      <td>2.252723</td>\n",
       "      <td>Power Plant</td>\n",
       "    </tr>\n",
       "    <tr>\n",
       "      <th>4</th>\n",
       "      <td>Valencia</td>\n",
       "      <td>39.469707</td>\n",
       "      <td>-0.376335</td>\n",
       "      <td>Quimfor Systems</td>\n",
       "      <td>39.486348</td>\n",
       "      <td>-0.393083</td>\n",
       "      <td>Power Plant</td>\n",
       "    </tr>\n",
       "  </tbody>\n",
       "</table>\n",
       "</div>"
      ],
      "text/plain": [
       "    Province  Province Latitude  Province Longitude                  Venue  \\\n",
       "0     Madrid          40.416705           -3.703582        Hygienic Alcalá   \n",
       "1     Madrid          40.416705           -3.703582       Deceuninck Spain   \n",
       "2  Barcelona          41.382894            2.177432                  IM-14   \n",
       "3  Barcelona          41.382894            2.177432  Transformador De Llum   \n",
       "4   Valencia          39.469707           -0.376335        Quimfor Systems   \n",
       "\n",
       "    Latitude  Longitude      Category  \n",
       "0  40.491812  -3.351614   Power Plant  \n",
       "1  40.023607  -3.650286   Power Plant  \n",
       "2  41.548061   2.202726  Home Service  \n",
       "3  41.682818   2.252723   Power Plant  \n",
       "4  39.486348  -0.393083   Power Plant  "
      ]
     },
     "execution_count": 29,
     "metadata": {},
     "output_type": "execute_result"
    }
   ],
   "source": [
    "spain_powerplants = spain_powerplants.rename(columns = {'Venue Latitude':'Latitude','Venue Longitude':'Longitude','Venue Category':'Category'})\n",
    "spain_powerplants.head()"
   ]
  },
  {
   "cell_type": "code",
   "execution_count": 30,
   "metadata": {},
   "outputs": [],
   "source": [
    "spain_powerplants_edit = spain_powerplants.groupby('Province').count()"
   ]
  },
  {
   "cell_type": "code",
   "execution_count": 31,
   "metadata": {},
   "outputs": [],
   "source": [
    "spain_powerplants_edit = spain_powerplants_edit['Venue'].to_frame().rename(columns = {'Venue':'Power Plants'})"
   ]
  },
  {
   "cell_type": "code",
   "execution_count": 32,
   "metadata": {},
   "outputs": [
    {
     "data": {
      "text/html": [
       "<div>\n",
       "<style scoped>\n",
       "    .dataframe tbody tr th:only-of-type {\n",
       "        vertical-align: middle;\n",
       "    }\n",
       "\n",
       "    .dataframe tbody tr th {\n",
       "        vertical-align: top;\n",
       "    }\n",
       "\n",
       "    .dataframe thead th {\n",
       "        text-align: right;\n",
       "    }\n",
       "</style>\n",
       "<table border=\"1\" class=\"dataframe\">\n",
       "  <thead>\n",
       "    <tr style=\"text-align: right;\">\n",
       "      <th></th>\n",
       "      <th>Province</th>\n",
       "      <th>Autonomous community</th>\n",
       "      <th>GDP (thousands €)</th>\n",
       "      <th>GDP/capita (€)</th>\n",
       "      <th>Population</th>\n",
       "      <th>Area(km2)</th>\n",
       "      <th>Latitude</th>\n",
       "      <th>Longitude</th>\n",
       "      <th>Equivalent radius</th>\n",
       "      <th>Industrial States</th>\n",
       "      <th>Power Plants</th>\n",
       "    </tr>\n",
       "  </thead>\n",
       "  <tbody>\n",
       "    <tr>\n",
       "      <th>0</th>\n",
       "      <td>Madrid</td>\n",
       "      <td>Madrid</td>\n",
       "      <td>231133592.0</td>\n",
       "      <td>35913.0</td>\n",
       "      <td>6779888.0</td>\n",
       "      <td>8027.0</td>\n",
       "      <td>40.416705</td>\n",
       "      <td>-3.703582</td>\n",
       "      <td>50.547734</td>\n",
       "      <td>12.0</td>\n",
       "      <td>2.0</td>\n",
       "    </tr>\n",
       "    <tr>\n",
       "      <th>1</th>\n",
       "      <td>Barcelona</td>\n",
       "      <td>Cataluña</td>\n",
       "      <td>171350447.0</td>\n",
       "      <td>30947.0</td>\n",
       "      <td>5743402.0</td>\n",
       "      <td>7733.0</td>\n",
       "      <td>41.382894</td>\n",
       "      <td>2.177432</td>\n",
       "      <td>49.613409</td>\n",
       "      <td>19.0</td>\n",
       "      <td>2.0</td>\n",
       "    </tr>\n",
       "    <tr>\n",
       "      <th>2</th>\n",
       "      <td>Valencia</td>\n",
       "      <td>Comunidad Valenciana</td>\n",
       "      <td>59123107.0</td>\n",
       "      <td>23363.0</td>\n",
       "      <td>2591875.0</td>\n",
       "      <td>10807.0</td>\n",
       "      <td>39.469707</td>\n",
       "      <td>-0.376335</td>\n",
       "      <td>58.651300</td>\n",
       "      <td>19.0</td>\n",
       "      <td>2.0</td>\n",
       "    </tr>\n",
       "    <tr>\n",
       "      <th>3</th>\n",
       "      <td>Sevilla</td>\n",
       "      <td>Andalucía</td>\n",
       "      <td>39535345.0</td>\n",
       "      <td>20314.0</td>\n",
       "      <td>1950219.0</td>\n",
       "      <td>14036.0</td>\n",
       "      <td>37.388630</td>\n",
       "      <td>-5.995340</td>\n",
       "      <td>66.841586</td>\n",
       "      <td>4.0</td>\n",
       "      <td>1.0</td>\n",
       "    </tr>\n",
       "    <tr>\n",
       "      <th>4</th>\n",
       "      <td>Alicante</td>\n",
       "      <td>Comunidad Valenciana</td>\n",
       "      <td>36521398.0</td>\n",
       "      <td>19757.0</td>\n",
       "      <td>1879888.0</td>\n",
       "      <td>5817.0</td>\n",
       "      <td>38.353738</td>\n",
       "      <td>-0.490185</td>\n",
       "      <td>43.030322</td>\n",
       "      <td>5.0</td>\n",
       "      <td>1.0</td>\n",
       "    </tr>\n",
       "  </tbody>\n",
       "</table>\n",
       "</div>"
      ],
      "text/plain": [
       "    Province  Autonomous community  GDP (thousands €)  GDP/capita (€)  \\\n",
       "0     Madrid                Madrid        231133592.0         35913.0   \n",
       "1  Barcelona              Cataluña        171350447.0         30947.0   \n",
       "2   Valencia  Comunidad Valenciana         59123107.0         23363.0   \n",
       "3    Sevilla             Andalucía         39535345.0         20314.0   \n",
       "4   Alicante  Comunidad Valenciana         36521398.0         19757.0   \n",
       "\n",
       "   Population  Area(km2)   Latitude  Longitude  Equivalent radius  \\\n",
       "0   6779888.0     8027.0  40.416705  -3.703582          50.547734   \n",
       "1   5743402.0     7733.0  41.382894   2.177432          49.613409   \n",
       "2   2591875.0    10807.0  39.469707  -0.376335          58.651300   \n",
       "3   1950219.0    14036.0  37.388630  -5.995340          66.841586   \n",
       "4   1879888.0     5817.0  38.353738  -0.490185          43.030322   \n",
       "\n",
       "   Industrial States  Power Plants  \n",
       "0               12.0           2.0  \n",
       "1               19.0           2.0  \n",
       "2               19.0           2.0  \n",
       "3                4.0           1.0  \n",
       "4                5.0           1.0  "
      ]
     },
     "execution_count": 32,
     "metadata": {},
     "output_type": "execute_result"
    }
   ],
   "source": [
    "spain_data = pd.merge(spain_data, spain_powerplants_edit, on='Province', how = 'outer')\n",
    "spain_data.head()"
   ]
  },
  {
   "cell_type": "markdown",
   "metadata": {},
   "source": [
    "We will save a backup dataframe to avoid repeat the previous procedure in case to make a mistake"
   ]
  },
  {
   "cell_type": "code",
   "execution_count": 33,
   "metadata": {},
   "outputs": [],
   "source": [
    "spain_data_backup = spain_data.copy()"
   ]
  },
  {
   "cell_type": "code",
   "execution_count": 34,
   "metadata": {},
   "outputs": [
    {
     "data": {
      "text/html": [
       "<div>\n",
       "<style scoped>\n",
       "    .dataframe tbody tr th:only-of-type {\n",
       "        vertical-align: middle;\n",
       "    }\n",
       "\n",
       "    .dataframe tbody tr th {\n",
       "        vertical-align: top;\n",
       "    }\n",
       "\n",
       "    .dataframe thead th {\n",
       "        text-align: right;\n",
       "    }\n",
       "</style>\n",
       "<table border=\"1\" class=\"dataframe\">\n",
       "  <thead>\n",
       "    <tr style=\"text-align: right;\">\n",
       "      <th></th>\n",
       "      <th>Province</th>\n",
       "      <th>Autonomous community</th>\n",
       "      <th>GDP (thousands €)</th>\n",
       "      <th>GDP/capita (€)</th>\n",
       "      <th>Population</th>\n",
       "      <th>Area(km2)</th>\n",
       "      <th>Latitude</th>\n",
       "      <th>Longitude</th>\n",
       "      <th>Equivalent radius</th>\n",
       "      <th>Industrial States</th>\n",
       "      <th>Power Plants</th>\n",
       "    </tr>\n",
       "  </thead>\n",
       "  <tbody>\n",
       "    <tr>\n",
       "      <th>0</th>\n",
       "      <td>Madrid</td>\n",
       "      <td>Madrid</td>\n",
       "      <td>231133592.0</td>\n",
       "      <td>35913.0</td>\n",
       "      <td>6779888.0</td>\n",
       "      <td>8027.0</td>\n",
       "      <td>40.416705</td>\n",
       "      <td>-3.703582</td>\n",
       "      <td>50.547734</td>\n",
       "      <td>12.0</td>\n",
       "      <td>2.0</td>\n",
       "    </tr>\n",
       "    <tr>\n",
       "      <th>1</th>\n",
       "      <td>Barcelona</td>\n",
       "      <td>Cataluña</td>\n",
       "      <td>171350447.0</td>\n",
       "      <td>30947.0</td>\n",
       "      <td>5743402.0</td>\n",
       "      <td>7733.0</td>\n",
       "      <td>41.382894</td>\n",
       "      <td>2.177432</td>\n",
       "      <td>49.613409</td>\n",
       "      <td>19.0</td>\n",
       "      <td>2.0</td>\n",
       "    </tr>\n",
       "    <tr>\n",
       "      <th>2</th>\n",
       "      <td>Valencia</td>\n",
       "      <td>Comunidad Valenciana</td>\n",
       "      <td>59123107.0</td>\n",
       "      <td>23363.0</td>\n",
       "      <td>2591875.0</td>\n",
       "      <td>10807.0</td>\n",
       "      <td>39.469707</td>\n",
       "      <td>-0.376335</td>\n",
       "      <td>58.651300</td>\n",
       "      <td>19.0</td>\n",
       "      <td>2.0</td>\n",
       "    </tr>\n",
       "    <tr>\n",
       "      <th>3</th>\n",
       "      <td>Sevilla</td>\n",
       "      <td>Andalucía</td>\n",
       "      <td>39535345.0</td>\n",
       "      <td>20314.0</td>\n",
       "      <td>1950219.0</td>\n",
       "      <td>14036.0</td>\n",
       "      <td>37.388630</td>\n",
       "      <td>-5.995340</td>\n",
       "      <td>66.841586</td>\n",
       "      <td>4.0</td>\n",
       "      <td>1.0</td>\n",
       "    </tr>\n",
       "    <tr>\n",
       "      <th>4</th>\n",
       "      <td>Alicante</td>\n",
       "      <td>Comunidad Valenciana</td>\n",
       "      <td>36521398.0</td>\n",
       "      <td>19757.0</td>\n",
       "      <td>1879888.0</td>\n",
       "      <td>5817.0</td>\n",
       "      <td>38.353738</td>\n",
       "      <td>-0.490185</td>\n",
       "      <td>43.030322</td>\n",
       "      <td>5.0</td>\n",
       "      <td>1.0</td>\n",
       "    </tr>\n",
       "  </tbody>\n",
       "</table>\n",
       "</div>"
      ],
      "text/plain": [
       "    Province  Autonomous community  GDP (thousands €)  GDP/capita (€)  \\\n",
       "0     Madrid                Madrid        231133592.0         35913.0   \n",
       "1  Barcelona              Cataluña        171350447.0         30947.0   \n",
       "2   Valencia  Comunidad Valenciana         59123107.0         23363.0   \n",
       "3    Sevilla             Andalucía         39535345.0         20314.0   \n",
       "4   Alicante  Comunidad Valenciana         36521398.0         19757.0   \n",
       "\n",
       "   Population  Area(km2)   Latitude  Longitude  Equivalent radius  \\\n",
       "0   6779888.0     8027.0  40.416705  -3.703582          50.547734   \n",
       "1   5743402.0     7733.0  41.382894   2.177432          49.613409   \n",
       "2   2591875.0    10807.0  39.469707  -0.376335          58.651300   \n",
       "3   1950219.0    14036.0  37.388630  -5.995340          66.841586   \n",
       "4   1879888.0     5817.0  38.353738  -0.490185          43.030322   \n",
       "\n",
       "   Industrial States  Power Plants  \n",
       "0               12.0           2.0  \n",
       "1               19.0           2.0  \n",
       "2               19.0           2.0  \n",
       "3                4.0           1.0  \n",
       "4                5.0           1.0  "
      ]
     },
     "execution_count": 34,
     "metadata": {},
     "output_type": "execute_result"
    }
   ],
   "source": [
    "spain_data_backup.head()"
   ]
  },
  {
   "cell_type": "markdown",
   "metadata": {},
   "source": [
    "We also have to fill tha NaN values with 0 in the provinces without any power plant or any industrial state"
   ]
  },
  {
   "cell_type": "code",
   "execution_count": 35,
   "metadata": {},
   "outputs": [],
   "source": [
    "spain_data = spain_data.fillna(0)"
   ]
  },
  {
   "cell_type": "code",
   "execution_count": 36,
   "metadata": {},
   "outputs": [],
   "source": [
    "spain_data['Industrial States'] = spain_data['Industrial States'].astype(int)\n",
    "spain_data['Power Plants'] = spain_data['Power Plants'].astype(int)"
   ]
  },
  {
   "cell_type": "markdown",
   "metadata": {},
   "source": [
    "### 3.5 - Rearrange columns"
   ]
  },
  {
   "cell_type": "code",
   "execution_count": 37,
   "metadata": {},
   "outputs": [],
   "source": [
    "spain_data_final = spain_data[['Province','Autonomous community','GDP (thousands €)','GDP/capita (€)','Population','Area(km2)','Industrial States','Power Plants','Latitude','Longitude','Equivalent radius']]"
   ]
  },
  {
   "cell_type": "code",
   "execution_count": 38,
   "metadata": {},
   "outputs": [],
   "source": [
    "spain_data_final.loc[9,'Province'] ='A Coruña'\n",
    "spain_data_final.loc[40,'Province'] ='Ourense'\n",
    "spain_data_final.loc[26,'Province'] ='Girona'\n",
    "spain_data_final.loc[17,'Province'] ='Lleida'"
   ]
  },
  {
   "cell_type": "code",
   "execution_count": 39,
   "metadata": {},
   "outputs": [
    {
     "data": {
      "text/html": [
       "<div>\n",
       "<style scoped>\n",
       "    .dataframe tbody tr th:only-of-type {\n",
       "        vertical-align: middle;\n",
       "    }\n",
       "\n",
       "    .dataframe tbody tr th {\n",
       "        vertical-align: top;\n",
       "    }\n",
       "\n",
       "    .dataframe thead th {\n",
       "        text-align: right;\n",
       "    }\n",
       "</style>\n",
       "<table border=\"1\" class=\"dataframe\">\n",
       "  <thead>\n",
       "    <tr style=\"text-align: right;\">\n",
       "      <th></th>\n",
       "      <th>Province</th>\n",
       "      <th>Autonomous community</th>\n",
       "      <th>GDP (thousands €)</th>\n",
       "      <th>GDP/capita (€)</th>\n",
       "      <th>Population</th>\n",
       "      <th>Area(km2)</th>\n",
       "      <th>Industrial States</th>\n",
       "      <th>Power Plants</th>\n",
       "      <th>Latitude</th>\n",
       "      <th>Longitude</th>\n",
       "      <th>Equivalent radius</th>\n",
       "    </tr>\n",
       "  </thead>\n",
       "  <tbody>\n",
       "    <tr>\n",
       "      <th>0</th>\n",
       "      <td>Madrid</td>\n",
       "      <td>Madrid</td>\n",
       "      <td>231133592.0</td>\n",
       "      <td>35913.0</td>\n",
       "      <td>6779888.0</td>\n",
       "      <td>8027.0</td>\n",
       "      <td>12</td>\n",
       "      <td>2</td>\n",
       "      <td>40.416705</td>\n",
       "      <td>-3.703582</td>\n",
       "      <td>50.547734</td>\n",
       "    </tr>\n",
       "    <tr>\n",
       "      <th>1</th>\n",
       "      <td>Barcelona</td>\n",
       "      <td>Cataluña</td>\n",
       "      <td>171350447.0</td>\n",
       "      <td>30947.0</td>\n",
       "      <td>5743402.0</td>\n",
       "      <td>7733.0</td>\n",
       "      <td>19</td>\n",
       "      <td>2</td>\n",
       "      <td>41.382894</td>\n",
       "      <td>2.177432</td>\n",
       "      <td>49.613409</td>\n",
       "    </tr>\n",
       "    <tr>\n",
       "      <th>2</th>\n",
       "      <td>Valencia</td>\n",
       "      <td>Comunidad Valenciana</td>\n",
       "      <td>59123107.0</td>\n",
       "      <td>23363.0</td>\n",
       "      <td>2591875.0</td>\n",
       "      <td>10807.0</td>\n",
       "      <td>19</td>\n",
       "      <td>2</td>\n",
       "      <td>39.469707</td>\n",
       "      <td>-0.376335</td>\n",
       "      <td>58.651300</td>\n",
       "    </tr>\n",
       "    <tr>\n",
       "      <th>3</th>\n",
       "      <td>Sevilla</td>\n",
       "      <td>Andalucía</td>\n",
       "      <td>39535345.0</td>\n",
       "      <td>20314.0</td>\n",
       "      <td>1950219.0</td>\n",
       "      <td>14036.0</td>\n",
       "      <td>4</td>\n",
       "      <td>1</td>\n",
       "      <td>37.388630</td>\n",
       "      <td>-5.995340</td>\n",
       "      <td>66.841586</td>\n",
       "    </tr>\n",
       "    <tr>\n",
       "      <th>4</th>\n",
       "      <td>Alicante</td>\n",
       "      <td>Comunidad Valenciana</td>\n",
       "      <td>36521398.0</td>\n",
       "      <td>19757.0</td>\n",
       "      <td>1879888.0</td>\n",
       "      <td>5817.0</td>\n",
       "      <td>5</td>\n",
       "      <td>1</td>\n",
       "      <td>38.353738</td>\n",
       "      <td>-0.490185</td>\n",
       "      <td>43.030322</td>\n",
       "    </tr>\n",
       "  </tbody>\n",
       "</table>\n",
       "</div>"
      ],
      "text/plain": [
       "    Province  Autonomous community  GDP (thousands €)  GDP/capita (€)  \\\n",
       "0     Madrid                Madrid        231133592.0         35913.0   \n",
       "1  Barcelona              Cataluña        171350447.0         30947.0   \n",
       "2   Valencia  Comunidad Valenciana         59123107.0         23363.0   \n",
       "3    Sevilla             Andalucía         39535345.0         20314.0   \n",
       "4   Alicante  Comunidad Valenciana         36521398.0         19757.0   \n",
       "\n",
       "   Population  Area(km2)  Industrial States  Power Plants   Latitude  \\\n",
       "0   6779888.0     8027.0                 12             2  40.416705   \n",
       "1   5743402.0     7733.0                 19             2  41.382894   \n",
       "2   2591875.0    10807.0                 19             2  39.469707   \n",
       "3   1950219.0    14036.0                  4             1  37.388630   \n",
       "4   1879888.0     5817.0                  5             1  38.353738   \n",
       "\n",
       "   Longitude  Equivalent radius  \n",
       "0  -3.703582          50.547734  \n",
       "1   2.177432          49.613409  \n",
       "2  -0.376335          58.651300  \n",
       "3  -5.995340          66.841586  \n",
       "4  -0.490185          43.030322  "
      ]
     },
     "execution_count": 39,
     "metadata": {},
     "output_type": "execute_result"
    }
   ],
   "source": [
    "spain_data_final.head()"
   ]
  },
  {
   "cell_type": "markdown",
   "metadata": {},
   "source": [
    "## 4 - Export a copy of the prepared data"
   ]
  },
  {
   "cell_type": "markdown",
   "metadata": {},
   "source": [
    "Once tha data import and preparation is done, it can be exported to avoid repeating the previous process everytime that an analysis is performed in the data."
   ]
  },
  {
   "cell_type": "code",
   "execution_count": 40,
   "metadata": {},
   "outputs": [],
   "source": [
    "spain_data_final[['Province','Autonomous community','GDP (thousands €)','GDP/capita (€)','Population','Area(km2)','Industrial States','Power Plants','Latitude','Longitude','Equivalent radius']].to_csv('spain_data_final.csv')\n",
    "spain_industrial_states[['Venue','Latitude','Longitude','Category']].to_csv('spain_industrial_states.csv')\n",
    "spain_powerplants[['Venue','Latitude','Longitude','Category']].to_csv('spain_powerplants.csv')"
   ]
  },
  {
   "cell_type": "markdown",
   "metadata": {},
   "source": [
    "## 5 - Import a copy of the prepared data"
   ]
  },
  {
   "cell_type": "markdown",
   "metadata": {},
   "source": [
    "### Warning: even if the data import and preparation is skipped, the first point with installation and importation of libraries is mandatory."
   ]
  },
  {
   "cell_type": "markdown",
   "metadata": {},
   "source": [
    "The next cell only need to be run in case that the previous code was skipped previously."
   ]
  },
  {
   "cell_type": "code",
   "execution_count": 41,
   "metadata": {},
   "outputs": [],
   "source": [
    "spain_data_final = pd.read_csv('spain_data_final.csv', index_col=0)\n",
    "spain_industrial_states = pd.read_csv('spain_industrial_states.csv', index_col=0)\n",
    "spain_powerplants = pd.read_csv('spain_powerplants.csv', index_col=0)"
   ]
  },
  {
   "cell_type": "code",
   "execution_count": 42,
   "metadata": {},
   "outputs": [
    {
     "data": {
      "text/html": [
       "<div>\n",
       "<style scoped>\n",
       "    .dataframe tbody tr th:only-of-type {\n",
       "        vertical-align: middle;\n",
       "    }\n",
       "\n",
       "    .dataframe tbody tr th {\n",
       "        vertical-align: top;\n",
       "    }\n",
       "\n",
       "    .dataframe thead th {\n",
       "        text-align: right;\n",
       "    }\n",
       "</style>\n",
       "<table border=\"1\" class=\"dataframe\">\n",
       "  <thead>\n",
       "    <tr style=\"text-align: right;\">\n",
       "      <th></th>\n",
       "      <th>Province</th>\n",
       "      <th>Autonomous community</th>\n",
       "      <th>GDP (thousands €)</th>\n",
       "      <th>GDP/capita (€)</th>\n",
       "      <th>Population</th>\n",
       "      <th>Area(km2)</th>\n",
       "      <th>Industrial States</th>\n",
       "      <th>Power Plants</th>\n",
       "      <th>Latitude</th>\n",
       "      <th>Longitude</th>\n",
       "      <th>Equivalent radius</th>\n",
       "    </tr>\n",
       "  </thead>\n",
       "  <tbody>\n",
       "    <tr>\n",
       "      <th>0</th>\n",
       "      <td>Madrid</td>\n",
       "      <td>Madrid</td>\n",
       "      <td>231133592.0</td>\n",
       "      <td>35913.0</td>\n",
       "      <td>6779888.0</td>\n",
       "      <td>8027.0</td>\n",
       "      <td>12</td>\n",
       "      <td>2</td>\n",
       "      <td>40.416705</td>\n",
       "      <td>-3.703582</td>\n",
       "      <td>50.547734</td>\n",
       "    </tr>\n",
       "    <tr>\n",
       "      <th>1</th>\n",
       "      <td>Barcelona</td>\n",
       "      <td>Cataluña</td>\n",
       "      <td>171350447.0</td>\n",
       "      <td>30947.0</td>\n",
       "      <td>5743402.0</td>\n",
       "      <td>7733.0</td>\n",
       "      <td>19</td>\n",
       "      <td>2</td>\n",
       "      <td>41.382894</td>\n",
       "      <td>2.177432</td>\n",
       "      <td>49.613409</td>\n",
       "    </tr>\n",
       "    <tr>\n",
       "      <th>2</th>\n",
       "      <td>Valencia</td>\n",
       "      <td>Comunidad Valenciana</td>\n",
       "      <td>59123107.0</td>\n",
       "      <td>23363.0</td>\n",
       "      <td>2591875.0</td>\n",
       "      <td>10807.0</td>\n",
       "      <td>19</td>\n",
       "      <td>2</td>\n",
       "      <td>39.469707</td>\n",
       "      <td>-0.376335</td>\n",
       "      <td>58.651300</td>\n",
       "    </tr>\n",
       "    <tr>\n",
       "      <th>3</th>\n",
       "      <td>Sevilla</td>\n",
       "      <td>Andalucía</td>\n",
       "      <td>39535345.0</td>\n",
       "      <td>20314.0</td>\n",
       "      <td>1950219.0</td>\n",
       "      <td>14036.0</td>\n",
       "      <td>4</td>\n",
       "      <td>1</td>\n",
       "      <td>37.388630</td>\n",
       "      <td>-5.995340</td>\n",
       "      <td>66.841586</td>\n",
       "    </tr>\n",
       "    <tr>\n",
       "      <th>4</th>\n",
       "      <td>Alicante</td>\n",
       "      <td>Comunidad Valenciana</td>\n",
       "      <td>36521398.0</td>\n",
       "      <td>19757.0</td>\n",
       "      <td>1879888.0</td>\n",
       "      <td>5817.0</td>\n",
       "      <td>5</td>\n",
       "      <td>1</td>\n",
       "      <td>38.353738</td>\n",
       "      <td>-0.490185</td>\n",
       "      <td>43.030322</td>\n",
       "    </tr>\n",
       "  </tbody>\n",
       "</table>\n",
       "</div>"
      ],
      "text/plain": [
       "    Province  Autonomous community  GDP (thousands €)  GDP/capita (€)  \\\n",
       "0     Madrid                Madrid        231133592.0         35913.0   \n",
       "1  Barcelona              Cataluña        171350447.0         30947.0   \n",
       "2   Valencia  Comunidad Valenciana         59123107.0         23363.0   \n",
       "3    Sevilla             Andalucía         39535345.0         20314.0   \n",
       "4   Alicante  Comunidad Valenciana         36521398.0         19757.0   \n",
       "\n",
       "   Population  Area(km2)  Industrial States  Power Plants   Latitude  \\\n",
       "0   6779888.0     8027.0                 12             2  40.416705   \n",
       "1   5743402.0     7733.0                 19             2  41.382894   \n",
       "2   2591875.0    10807.0                 19             2  39.469707   \n",
       "3   1950219.0    14036.0                  4             1  37.388630   \n",
       "4   1879888.0     5817.0                  5             1  38.353738   \n",
       "\n",
       "   Longitude  Equivalent radius  \n",
       "0  -3.703582          50.547734  \n",
       "1   2.177432          49.613409  \n",
       "2  -0.376335          58.651300  \n",
       "3  -5.995340          66.841586  \n",
       "4  -0.490185          43.030322  "
      ]
     },
     "execution_count": 42,
     "metadata": {},
     "output_type": "execute_result"
    }
   ],
   "source": [
    "spain_data_final.head()"
   ]
  },
  {
   "cell_type": "code",
   "execution_count": 43,
   "metadata": {},
   "outputs": [
    {
     "data": {
      "text/html": [
       "<div>\n",
       "<style scoped>\n",
       "    .dataframe tbody tr th:only-of-type {\n",
       "        vertical-align: middle;\n",
       "    }\n",
       "\n",
       "    .dataframe tbody tr th {\n",
       "        vertical-align: top;\n",
       "    }\n",
       "\n",
       "    .dataframe thead th {\n",
       "        text-align: right;\n",
       "    }\n",
       "</style>\n",
       "<table border=\"1\" class=\"dataframe\">\n",
       "  <thead>\n",
       "    <tr style=\"text-align: right;\">\n",
       "      <th></th>\n",
       "      <th>Venue</th>\n",
       "      <th>Latitude</th>\n",
       "      <th>Longitude</th>\n",
       "      <th>Category</th>\n",
       "    </tr>\n",
       "  </thead>\n",
       "  <tbody>\n",
       "    <tr>\n",
       "      <th>0</th>\n",
       "      <td>Poligono Cardenal Herrera Oria</td>\n",
       "      <td>40.488331</td>\n",
       "      <td>-3.692706</td>\n",
       "      <td>Industrial Estate</td>\n",
       "    </tr>\n",
       "    <tr>\n",
       "      <th>1</th>\n",
       "      <td>MAFRI SL</td>\n",
       "      <td>40.392677</td>\n",
       "      <td>-3.710872</td>\n",
       "      <td>Industrial Estate</td>\n",
       "    </tr>\n",
       "    <tr>\n",
       "      <th>2</th>\n",
       "      <td>Aitec</td>\n",
       "      <td>40.360112</td>\n",
       "      <td>-3.682312</td>\n",
       "      <td>Home Service</td>\n",
       "    </tr>\n",
       "    <tr>\n",
       "      <th>3</th>\n",
       "      <td>Acciona Industrial</td>\n",
       "      <td>40.533073</td>\n",
       "      <td>-3.626126</td>\n",
       "      <td>Industrial Estate</td>\n",
       "    </tr>\n",
       "    <tr>\n",
       "      <th>4</th>\n",
       "      <td>Poligono Industrial Las Nieves</td>\n",
       "      <td>40.349619</td>\n",
       "      <td>-3.878603</td>\n",
       "      <td>Industrial Estate</td>\n",
       "    </tr>\n",
       "  </tbody>\n",
       "</table>\n",
       "</div>"
      ],
      "text/plain": [
       "                            Venue   Latitude  Longitude           Category\n",
       "0  Poligono Cardenal Herrera Oria  40.488331  -3.692706  Industrial Estate\n",
       "1                        MAFRI SL  40.392677  -3.710872  Industrial Estate\n",
       "2                           Aitec  40.360112  -3.682312       Home Service\n",
       "3              Acciona Industrial  40.533073  -3.626126  Industrial Estate\n",
       "4  Poligono Industrial Las Nieves  40.349619  -3.878603  Industrial Estate"
      ]
     },
     "execution_count": 43,
     "metadata": {},
     "output_type": "execute_result"
    }
   ],
   "source": [
    "spain_industrial_states.head()"
   ]
  },
  {
   "cell_type": "code",
   "execution_count": 44,
   "metadata": {},
   "outputs": [
    {
     "data": {
      "text/html": [
       "<div>\n",
       "<style scoped>\n",
       "    .dataframe tbody tr th:only-of-type {\n",
       "        vertical-align: middle;\n",
       "    }\n",
       "\n",
       "    .dataframe tbody tr th {\n",
       "        vertical-align: top;\n",
       "    }\n",
       "\n",
       "    .dataframe thead th {\n",
       "        text-align: right;\n",
       "    }\n",
       "</style>\n",
       "<table border=\"1\" class=\"dataframe\">\n",
       "  <thead>\n",
       "    <tr style=\"text-align: right;\">\n",
       "      <th></th>\n",
       "      <th>Venue</th>\n",
       "      <th>Latitude</th>\n",
       "      <th>Longitude</th>\n",
       "      <th>Category</th>\n",
       "    </tr>\n",
       "  </thead>\n",
       "  <tbody>\n",
       "    <tr>\n",
       "      <th>0</th>\n",
       "      <td>Hygienic Alcalá</td>\n",
       "      <td>40.491812</td>\n",
       "      <td>-3.351614</td>\n",
       "      <td>Power Plant</td>\n",
       "    </tr>\n",
       "    <tr>\n",
       "      <th>1</th>\n",
       "      <td>Deceuninck Spain</td>\n",
       "      <td>40.023607</td>\n",
       "      <td>-3.650286</td>\n",
       "      <td>Power Plant</td>\n",
       "    </tr>\n",
       "    <tr>\n",
       "      <th>2</th>\n",
       "      <td>IM-14</td>\n",
       "      <td>41.548061</td>\n",
       "      <td>2.202726</td>\n",
       "      <td>Home Service</td>\n",
       "    </tr>\n",
       "    <tr>\n",
       "      <th>3</th>\n",
       "      <td>Transformador De Llum</td>\n",
       "      <td>41.682818</td>\n",
       "      <td>2.252723</td>\n",
       "      <td>Power Plant</td>\n",
       "    </tr>\n",
       "    <tr>\n",
       "      <th>4</th>\n",
       "      <td>Quimfor Systems</td>\n",
       "      <td>39.486348</td>\n",
       "      <td>-0.393083</td>\n",
       "      <td>Power Plant</td>\n",
       "    </tr>\n",
       "  </tbody>\n",
       "</table>\n",
       "</div>"
      ],
      "text/plain": [
       "                   Venue   Latitude  Longitude      Category\n",
       "0        Hygienic Alcalá  40.491812  -3.351614   Power Plant\n",
       "1       Deceuninck Spain  40.023607  -3.650286   Power Plant\n",
       "2                  IM-14  41.548061   2.202726  Home Service\n",
       "3  Transformador De Llum  41.682818   2.252723   Power Plant\n",
       "4        Quimfor Systems  39.486348  -0.393083   Power Plant"
      ]
     },
     "execution_count": 44,
     "metadata": {},
     "output_type": "execute_result"
    }
   ],
   "source": [
    "spain_powerplants.head()"
   ]
  },
  {
   "cell_type": "markdown",
   "metadata": {},
   "source": [
    "## 6 - Exploratory Data Analysis"
   ]
  },
  {
   "cell_type": "markdown",
   "metadata": {},
   "source": [
    "### 6.1 - Import some useful libraries"
   ]
  },
  {
   "cell_type": "code",
   "execution_count": 45,
   "metadata": {},
   "outputs": [],
   "source": [
    "%matplotlib inline \n",
    "import matplotlib as mpl\n",
    "import matplotlib.pyplot as plt\n",
    "import folium"
   ]
  },
  {
   "cell_type": "markdown",
   "metadata": {},
   "source": [
    "Also apply ggpolt style"
   ]
  },
  {
   "cell_type": "code",
   "execution_count": 46,
   "metadata": {},
   "outputs": [],
   "source": [
    "mpl.style.use(['ggplot'])"
   ]
  },
  {
   "cell_type": "markdown",
   "metadata": {},
   "source": [
    "### 6.2 - Spain's maps with some usefull data"
   ]
  },
  {
   "cell_type": "markdown",
   "metadata": {},
   "source": [
    "Firstly, the geographical coordinates of Spain are needed"
   ]
  },
  {
   "cell_type": "code",
   "execution_count": 47,
   "metadata": {},
   "outputs": [
    {
     "name": "stdout",
     "output_type": "stream",
     "text": [
      "Spain coordinates are 39.3260685,-4.8379791\n"
     ]
    }
   ],
   "source": [
    "geolocator = Nominatim(user_agent=\"es_explorer\")\n",
    "location = geolocator.geocode('Spain')\n",
    "latitude = location.latitude\n",
    "longitude = location.longitude\n",
    "print(f'Spain coordinates are {latitude},{longitude}')"
   ]
  },
  {
   "cell_type": "markdown",
   "metadata": {},
   "source": [
    "#### 6.2.1 - Per capita income in Spain (Bubble Graph)"
   ]
  },
  {
   "cell_type": "markdown",
   "metadata": {},
   "source": [
    "A Stamen Toner map is used to avoid the overload of information and make clearer the data dispalyed in it"
   ]
  },
  {
   "cell_type": "code",
   "execution_count": 48,
   "metadata": {},
   "outputs": [
    {
     "data": {
      "text/html": [
       "<div style=\"width:100%;\"><div style=\"position:relative;width:100%;height:0;padding-bottom:60%;\"><span style=\"color:#565656\">Make this Notebook Trusted to load map: File -> Trust Notebook</span><iframe src=\"about:blank\" style=\"position:absolute;width:100%;height:100%;left:0;top:0;border:none !important;\" data-html=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 onload=\"this.contentDocument.open();this.contentDocument.write(atob(this.getAttribute('data-html')));this.contentDocument.close();\" allowfullscreen webkitallowfullscreen mozallowfullscreen></iframe></div></div>"
      ],
      "text/plain": [
       "<folium.folium.Map at 0x7fe175449160>"
      ]
     },
     "execution_count": 48,
     "metadata": {},
     "output_type": "execute_result"
    }
   ],
   "source": [
    "spain_map_income = folium.Map(location=[latitude, longitude], zoom_start=6, tiles = 'Stamen Toner')\n",
    "# instantiate a feature group for the provinces in the dataframe\n",
    "capita_income = folium.map.FeatureGroup()\n",
    "\n",
    "# loop through the provinces and add each to the province feature group\n",
    "for lat, lng, inc in zip(spain_data_final.Latitude, spain_data_final.Longitude, spain_data_final['GDP/capita (€)']/1000):\n",
    "    capita_income.add_child(\n",
    "        folium.features.CircleMarker(\n",
    "            [lat, lng],\n",
    "            radius=inc, # define circle size equal to per capita income (thousands euros)\n",
    "            fill=True,\n",
    "            fill_color='blue',\n",
    "            fill_opacity=0.6\n",
    "        )\n",
    "    )\n",
    "\n",
    "# add pop-up text to each marker on the map\n",
    "latitudes = list(spain_data_final.Latitude)\n",
    "longitudes = list(spain_data_final.Longitude)\n",
    "labels = list(spain_data_final['Province'] + ': ' +spain_data_final['GDP/capita (€)'].astype(int).astype(str) + ' euros')\n",
    "\n",
    "for lat, lng, label in zip(latitudes, longitudes, labels):\n",
    "    folium.Marker([lat, lng], popup=label).add_to(spain_map_income)    \n",
    "    \n",
    "# add provinces to map\n",
    "spain_map_income.add_child(capita_income)"
   ]
  },
  {
   "cell_type": "markdown",
   "metadata": {},
   "source": [
    "#### 6.2.2 - Alternative visualization for the same data based on choropleth representation"
   ]
  },
  {
   "cell_type": "code",
   "execution_count": null,
   "metadata": {},
   "outputs": [],
   "source": [
    "choromap_ = folium.Map(location=[latitude, longitude], zoom_start=6)\n",
    "#Crear el listado de regiones de Italia\n",
    "communities_geo = r'spain_provinces.geojson'\n",
    "#Representar el mapa choropleth con número de casos por provincia\n",
    "choromap_.choropleth(\n",
    "    geo_data=communities_geo,\n",
    "    data=spain_data_final,\n",
    "    columns=['Province', 'GDP/capita (€)'],\n",
    "    key_on='feature.properties.name',\n",
    "    fill_color='BuPu', \n",
    "    fill_opacity=1, \n",
    "    line_opacity=1,\n",
    "    legend_name='GDP/capita (euros)',\n",
    "    smooth_factor=0)\n",
    "#Visualizar el mapa\n",
    "choromap_"
   ]
  },
  {
   "cell_type": "markdown",
   "metadata": {},
   "source": [
    "#### 6.2.3 Industrial states location"
   ]
  },
  {
   "cell_type": "code",
   "execution_count": null,
   "metadata": {},
   "outputs": [],
   "source": [
    "spain_map_facilities = folium.Map(location=[latitude, longitude], zoom_start=6, tiles = 'Stamen Toner')\n",
    "\n",
    "# instantiate a feature group for the industrial states in the dataframe\n",
    "industrial_states = folium.map.FeatureGroup()\n",
    "\n",
    "# loop through the industrial states and add each to the feature group\n",
    "for lat, lng in zip(spain_industrial_states.Latitude, spain_industrial_states.Longitude):\n",
    "    industrial_states.add_child(\n",
    "        folium.features.CircleMarker(\n",
    "            [lat, lng],\n",
    "            radius= 1, \n",
    "            fill=True,\n",
    "            fill_color='blue',\n",
    "            fill_opacity= 0.8\n",
    "        )\n",
    "    )\n",
    "\n",
    "\n",
    "# add industrial states to map\n",
    "spain_map_facilities.add_child(industrial_states)"
   ]
  },
  {
   "cell_type": "markdown",
   "metadata": {},
   "source": [
    "#### 6.2.4 Power plants location"
   ]
  },
  {
   "cell_type": "code",
   "execution_count": null,
   "metadata": {},
   "outputs": [],
   "source": [
    "spain_map_powerplants = folium.Map(location=[latitude, longitude], zoom_start=6, tiles = 'Stamen Toner')\n",
    "\n",
    "# instantiate a feature group for the power plants in the dataframe\n",
    "power_plants = folium.map.FeatureGroup()\n",
    "\n",
    "# loop through the power plants and add each to the feature group\n",
    "for lat, lng, label in zip(spain_powerplants.Latitude, spain_powerplants.Longitude, spain_powerplants.Venue):\n",
    "    power_plants.add_child(\n",
    "        folium.features.CircleMarker(\n",
    "            [lat, lng],\n",
    "            radius= 5,\n",
    "            color = None,\n",
    "            fill=True,\n",
    "            fill_color='red',\n",
    "            fill_opacity= 0.8,\n",
    "            popup = label\n",
    "        )\n",
    "    )\n",
    "# add power plants to map\n",
    "spain_map_powerplants.add_child(power_plants)    \n"
   ]
  },
  {
   "cell_type": "markdown",
   "metadata": {},
   "source": [
    "### 6.3 - Correlation analysis by regression "
   ]
  },
  {
   "cell_type": "markdown",
   "metadata": {},
   "source": [
    "#### 6.3.1 Correlation between GDP and number of industrial states"
   ]
  },
  {
   "cell_type": "code",
   "execution_count": null,
   "metadata": {},
   "outputs": [],
   "source": [
    "ax = sns.regplot(y='GDP (thousands €)', x='Industrial States', data=spain_data_final[spain_data_final['GDP (thousands €)'] < 1.5e8])"
   ]
  },
  {
   "cell_type": "markdown",
   "metadata": {},
   "source": [
    "#### 6.3.2 Correlation between GDP and number of power plants"
   ]
  },
  {
   "cell_type": "code",
   "execution_count": null,
   "metadata": {},
   "outputs": [],
   "source": [
    "ax = sns.regplot(y='GDP (thousands €)', x='Power Plants', data=spain_data_final[spain_data_final['GDP (thousands €)'] < 1.5e8])"
   ]
  },
  {
   "cell_type": "markdown",
   "metadata": {},
   "source": [
    "#### 6.3.3 Correlation between GDP per capita and the area of the province"
   ]
  },
  {
   "cell_type": "code",
   "execution_count": null,
   "metadata": {},
   "outputs": [],
   "source": [
    "ax = sns.regplot(y='GDP/capita (€)', x='Area(km2)', data=spain_data_final[spain_data_final['GDP (thousands €)'] < 1.5e8])"
   ]
  },
  {
   "cell_type": "markdown",
   "metadata": {},
   "source": [
    "#### 6.3.4 Correlation between GDP and population"
   ]
  },
  {
   "cell_type": "code",
   "execution_count": null,
   "metadata": {},
   "outputs": [],
   "source": [
    "ax = sns.regplot(y='GDP (thousands €)', x='Population', data=spain_data_final[spain_data_final['GDP (thousands €)'] < 1.5e8])"
   ]
  },
  {
   "cell_type": "markdown",
   "metadata": {},
   "source": [
    "## 7 - Clustering"
   ]
  },
  {
   "cell_type": "markdown",
   "metadata": {},
   "source": [
    "### 7.1 - Prepare data for clustering (feature selection and data normalization)"
   ]
  },
  {
   "cell_type": "code",
   "execution_count": null,
   "metadata": {},
   "outputs": [],
   "source": [
    "spain_data_clustering = spain_data_final[['Province','GDP/capita (€)','GDP (thousands €)','Population','Area(km2)','Industrial States','Power Plants']]\n",
    "#,"
   ]
  },
  {
   "cell_type": "code",
   "execution_count": null,
   "metadata": {},
   "outputs": [],
   "source": [
    "spain_data_clustering = spain_data_clustering.set_index(spain_data_final['Province'])"
   ]
  },
  {
   "cell_type": "code",
   "execution_count": null,
   "metadata": {},
   "outputs": [],
   "source": [
    "spain_data_clustering = spain_data_clustering.drop(['Province'], axis = 1)\n",
    "spain_data_clustering = StandardScaler().fit_transform(spain_data_clustering)\n",
    "spain_data_clustering[0:5]"
   ]
  },
  {
   "cell_type": "markdown",
   "metadata": {},
   "source": [
    "### 7.2 Create and fit kmeans model"
   ]
  },
  {
   "cell_type": "code",
   "execution_count": null,
   "metadata": {},
   "outputs": [],
   "source": [
    "nclusters = 4\n",
    "kmeans = KMeans(n_clusters=nclusters, random_state=0).fit(spain_data_clustering)"
   ]
  },
  {
   "cell_type": "markdown",
   "metadata": {},
   "source": [
    "### 7.3 Insert labels into dataframe."
   ]
  },
  {
   "cell_type": "code",
   "execution_count": null,
   "metadata": {},
   "outputs": [],
   "source": [
    "spain_data_clusters = spain_data_final.copy()\n",
    "spain_data_clusters.insert(0, 'Cluster Labels', kmeans.labels_)"
   ]
  },
  {
   "cell_type": "markdown",
   "metadata": {},
   "source": [
    "#### This change in the number of labels is used to make clearer the following map by putting the clusters in a most understandable order."
   ]
  },
  {
   "cell_type": "code",
   "execution_count": null,
   "metadata": {},
   "outputs": [],
   "source": [
    "spain_data_clusters['Cluster Labels'] = spain_data_clusters['Cluster Labels'].replace(3,4).replace(1,3).replace(2,1).replace(0,2)"
   ]
  },
  {
   "cell_type": "code",
   "execution_count": null,
   "metadata": {},
   "outputs": [],
   "source": [
    "spain_data_clusters.head()"
   ]
  },
  {
   "cell_type": "markdown",
   "metadata": {},
   "source": [
    "### 7.4 Choropleth map displaying clusters"
   ]
  },
  {
   "cell_type": "markdown",
   "metadata": {},
   "source": [
    "The following function was extracted from Stack Overflow in order to add categorical labels to choropleth maps.\n",
    "For more information check the following [link](https://stackoverflow.com/questions/65042654/how-to-add-categorical-legend-to-python-folium-map)"
   ]
  },
  {
   "cell_type": "code",
   "execution_count": null,
   "metadata": {},
   "outputs": [],
   "source": [
    "def add_categorical_legend(folium_map, title, colors, labels):\n",
    "    if len(colors) != len(labels):\n",
    "        raise ValueError(\"colors and labels must have the same length.\")\n",
    "\n",
    "    color_by_label = dict(zip(labels, colors))\n",
    "    \n",
    "    legend_categories = \"\"     \n",
    "    for label, color in color_by_label.items():\n",
    "        legend_categories += f\"<li><span style='background:{color}'></span>{label}</li>\"\n",
    "        \n",
    "    legend_html = f\"\"\"\n",
    "    <div id='maplegend' class='maplegend'>\n",
    "      <div class='legend-title'>{title}</div>\n",
    "      <div class='legend-scale'>\n",
    "        <ul class='legend-labels'>\n",
    "        {legend_categories}\n",
    "        </ul>\n",
    "      </div>\n",
    "    </div>\n",
    "    \"\"\"\n",
    "    script = f\"\"\"\n",
    "        <script type=\"text/javascript\">\n",
    "        var oneTimeExecution = (function() {{\n",
    "                    var executed = false;\n",
    "                    return function() {{\n",
    "                        if (!executed) {{\n",
    "                             var checkExist = setInterval(function() {{\n",
    "                                       if ((document.getElementsByClassName('leaflet-top leaflet-right').length) || (!executed)) {{\n",
    "                                          document.getElementsByClassName('leaflet-top leaflet-right')[0].style.display = \"flex\"\n",
    "                                          document.getElementsByClassName('leaflet-top leaflet-right')[0].style.flexDirection = \"column\"\n",
    "                                          document.getElementsByClassName('leaflet-top leaflet-right')[0].innerHTML += `{legend_html}`;\n",
    "                                          clearInterval(checkExist);\n",
    "                                          executed = true;\n",
    "                                       }}\n",
    "                                    }}, 100);\n",
    "                        }}\n",
    "                    }};\n",
    "                }})();\n",
    "        oneTimeExecution()\n",
    "        </script>\n",
    "      \"\"\"\n",
    "   \n",
    "\n",
    "    css = \"\"\"\n",
    "\n",
    "    <style type='text/css'>\n",
    "      .maplegend {\n",
    "        z-index:9999;\n",
    "        float:right;\n",
    "        background-color: rgba(255, 255, 255, 1);\n",
    "        border-radius: 5px;\n",
    "        border: 2px solid #bbb;\n",
    "        padding: 10px;\n",
    "        font-size:12px;\n",
    "        positon: relative;\n",
    "      }\n",
    "      .maplegend .legend-title {\n",
    "        text-align: left;\n",
    "        margin-bottom: 5px;\n",
    "        font-weight: bold;\n",
    "        font-size: 90%;\n",
    "        }\n",
    "      .maplegend .legend-scale ul {\n",
    "        margin: 0;\n",
    "        margin-bottom: 5px;\n",
    "        padding: 0;\n",
    "        float: left;\n",
    "        list-style: none;\n",
    "        }\n",
    "      .maplegend .legend-scale ul li {\n",
    "        font-size: 80%;\n",
    "        list-style: none;\n",
    "        margin-left: 0;\n",
    "        line-height: 18px;\n",
    "        margin-bottom: 2px;\n",
    "        }\n",
    "      .maplegend ul.legend-labels li span {\n",
    "        display: block;\n",
    "        float: left;\n",
    "        height: 16px;\n",
    "        width: 30px;\n",
    "        margin-right: 5px;\n",
    "        margin-left: 0;\n",
    "        border: 0px solid #ccc;\n",
    "        }\n",
    "      .maplegend .legend-source {\n",
    "        font-size: 80%;\n",
    "        color: #777;\n",
    "        clear: both;\n",
    "        }\n",
    "      .maplegend a {\n",
    "        color: #777;\n",
    "        }\n",
    "    </style>\n",
    "    \"\"\"\n",
    "\n",
    "    folium_map.get_root().header.add_child(folium.Element(script + css))\n",
    "\n",
    "    return folium_map"
   ]
  },
  {
   "cell_type": "code",
   "execution_count": null,
   "metadata": {},
   "outputs": [],
   "source": [
    "choromap_ = folium.Map(location=[latitude, longitude], zoom_start=6)\n",
    "#Crear el listado de regiones de Italia\n",
    "communities_geo = r'spain_provinces.geojson'\n",
    "#Representar el mapa choropleth con número de casos por provincia\n",
    "choromap_.choropleth(\n",
    "    geo_data=communities_geo,\n",
    "    data=spain_data_clusters,\n",
    "    columns=['Province', 'Cluster Labels'],\n",
    "    key_on='feature.properties.name',\n",
    "    fill_color='BuPu', \n",
    "    fill_opacity=1, \n",
    "    line_opacity=1,\n",
    "    legend_name='Cluster Label',\n",
    "    smooth_factor=0)\n",
    "for key in choromap_._children:\n",
    "    if key.startswith('color_map'):\n",
    "        del(choromap_._children[key])\n",
    "choromap_ = add_categorical_legend(choromap_, 'Cluster labels',\n",
    "                             colors = ['#adcbff','#7786ed','#975fc7','#6e0078'],\n",
    "                           labels = ['1', '2','3','4'])\n",
    "#Visualizar el mapa\n",
    "choromap_"
   ]
  },
  {
   "cell_type": "markdown",
   "metadata": {},
   "source": [
    "### 7.5 Clustering features sorted by cluster"
   ]
  },
  {
   "cell_type": "markdown",
   "metadata": {},
   "source": [
    "In this section every feature used in the previous clustering is displayed sorted by cluster, in addition to box plots, some scatter plots are used to show a most detailed distribution of the data (in order to make clear overlaped point alpha parameter is fixed at different values depending on the feature to display)."
   ]
  },
  {
   "cell_type": "code",
   "execution_count": null,
   "metadata": {},
   "outputs": [],
   "source": [
    "GDP_capita_cluster_1 = spain_data_clusters.loc[spain_data_clusters['Cluster Labels'] == 1,'GDP/capita (€)'].values\n",
    "GDP_capita_cluster_2= spain_data_clusters.loc[spain_data_clusters['Cluster Labels'] == 2,'GDP/capita (€)'].values\n",
    "GDP_capita_cluster_3= spain_data_clusters.loc[spain_data_clusters['Cluster Labels'] == 3,'GDP/capita (€)'].values\n",
    "GDP_capita_cluster_4= spain_data_clusters.loc[spain_data_clusters['Cluster Labels'] == 4,'GDP/capita (€)'].values\n",
    "GDP_capita_cluster = [GDP_capita_cluster_1, GDP_capita_cluster_2, GDP_capita_cluster_3, GDP_capita_cluster_4]\n",
    "fig, ax = plt.subplots(1,2)\n",
    "plt.rcParams[\"figure.figsize\"] = (10,5)\n",
    "ax[0].set_title('Region-related GDP per capita')\n",
    "ax[0].boxplot(GDP_capita_cluster)\n",
    "ax[1].scatter(x = spain_data_clusters['Cluster Labels'], y = spain_data_clusters['GDP/capita (€)'], alpha = 0.5)\n",
    "plt.show()"
   ]
  },
  {
   "cell_type": "code",
   "execution_count": null,
   "metadata": {},
   "outputs": [],
   "source": [
    "GDP_cluster_1 = spain_data_clusters.loc[spain_data_clusters['Cluster Labels'] == 1,'GDP (thousands €)'].values\n",
    "GDP_cluster_2= spain_data_clusters.loc[spain_data_clusters['Cluster Labels'] == 2,'GDP (thousands €)'].values\n",
    "GDP_cluster_3= spain_data_clusters.loc[spain_data_clusters['Cluster Labels'] == 3,'GDP (thousands €)'].values\n",
    "GDP_cluster_4= spain_data_clusters.loc[spain_data_clusters['Cluster Labels'] == 4,'GDP (thousands €)'].values\n",
    "GDP_cluster = [GDP_cluster_1, GDP_cluster_2, GDP_cluster_3, GDP_cluster_4]\n",
    "fig, ax = plt.subplots(1,2)\n",
    "plt.rcParams[\"figure.figsize\"] = (10,5)\n",
    "ax[0].set_title('Region-related GDP')\n",
    "ax[0].boxplot(GDP_cluster)\n",
    "ax[1].scatter(x = spain_data_clusters['Cluster Labels'], y = spain_data_clusters['GDP (thousands €)'], alpha = 0.5)\n",
    "plt.show()"
   ]
  },
  {
   "cell_type": "code",
   "execution_count": null,
   "metadata": {},
   "outputs": [],
   "source": [
    "pop_cluster_1 = spain_data_clusters.loc[spain_data_clusters['Cluster Labels'] == 1,'Population'].values\n",
    "pop_cluster_2= spain_data_clusters.loc[spain_data_clusters['Cluster Labels'] == 2,'Population'].values\n",
    "pop_cluster_3= spain_data_clusters.loc[spain_data_clusters['Cluster Labels'] == 3,'Population'].values\n",
    "pop_cluster_4= spain_data_clusters.loc[spain_data_clusters['Cluster Labels'] == 4,'Population'].values\n",
    "pop_cluster = [pop_cluster_1, pop_cluster_2, pop_cluster_3, pop_cluster_4]\n",
    "fig, ax = plt.subplots(1,2)\n",
    "plt.rcParams[\"figure.figsize\"] = (10,5)\n",
    "ax[0].set_title('Region-related Population')\n",
    "ax[0].boxplot(pop_cluster)\n",
    "ax[1].scatter(x = spain_data_clusters['Cluster Labels'], y = spain_data_clusters['Population'], alpha = 0.5)\n",
    "plt.show()"
   ]
  },
  {
   "cell_type": "code",
   "execution_count": null,
   "metadata": {},
   "outputs": [],
   "source": [
    "Area_cluster_1 = spain_data_clusters.loc[spain_data_clusters['Cluster Labels'] == 1,'Area(km2)'].values\n",
    "Area_cluster_2= spain_data_clusters.loc[spain_data_clusters['Cluster Labels'] == 2,'Area(km2)'].values\n",
    "Area_cluster_3= spain_data_clusters.loc[spain_data_clusters['Cluster Labels'] == 3,'Area(km2)'].values\n",
    "Area_cluster_4= spain_data_clusters.loc[spain_data_clusters['Cluster Labels'] == 4,'Area(km2)'].values\n",
    "Area_cluster = [Area_cluster_1, Area_cluster_2, Area_cluster_3, Area_cluster_4]\n",
    "fig, ax = plt.subplots(1,2)\n",
    "plt.rcParams[\"figure.figsize\"] = (10,5)\n",
    "ax[0].set_title('Region-related Area')\n",
    "ax[0].boxplot(Area_cluster)\n",
    "ax[1].scatter(x = spain_data_clusters['Cluster Labels'], y = spain_data_clusters['Area(km2)'], alpha = 0.5)\n",
    "plt.show()"
   ]
  },
  {
   "cell_type": "code",
   "execution_count": null,
   "metadata": {},
   "outputs": [],
   "source": [
    "is_cluster_1 = spain_data_clusters.loc[spain_data_clusters['Cluster Labels'] == 1,'Industrial States'].values\n",
    "is_cluster_2= spain_data_clusters.loc[spain_data_clusters['Cluster Labels'] == 2,'Industrial States'].values\n",
    "is_cluster_3= spain_data_clusters.loc[spain_data_clusters['Cluster Labels'] == 3,'Industrial States'].values\n",
    "is_cluster_4= spain_data_clusters.loc[spain_data_clusters['Cluster Labels'] == 4,'Industrial States'].values\n",
    "is_cluster = [is_cluster_1, is_cluster_2, is_cluster_3, is_cluster_4]\n",
    "fig, ax = plt.subplots(1,2)\n",
    "plt.rcParams[\"figure.figsize\"] = (10,5)\n",
    "ax[0].set_title('Region-related Industrial States')\n",
    "ax[0].boxplot(is_cluster)\n",
    "ax[1].scatter(x = spain_data_clusters['Cluster Labels'], y = spain_data_clusters['Industrial States'], alpha = 0.3)\n",
    "plt.show()"
   ]
  },
  {
   "cell_type": "code",
   "execution_count": null,
   "metadata": {},
   "outputs": [],
   "source": [
    "pp_cluster_1 = spain_data_clusters.loc[spain_data_clusters['Cluster Labels'] == 1,'Power Plants'].values\n",
    "pp_cluster_2= spain_data_clusters.loc[spain_data_clusters['Cluster Labels'] == 2,'Power Plants'].values\n",
    "pp_cluster_3= spain_data_clusters.loc[spain_data_clusters['Cluster Labels'] == 3,'Power Plants'].values\n",
    "pp_cluster_4= spain_data_clusters.loc[spain_data_clusters['Cluster Labels'] == 4,'Power Plants'].values\n",
    "pp_cluster = [pp_cluster_1, pp_cluster_2, pp_cluster_3, pp_cluster_4]\n",
    "fig, ax = plt.subplots(1,2)\n",
    "plt.rcParams[\"figure.figsize\"] = (10,5)\n",
    "ax[0].set_title('Region-related Power Plants')\n",
    "ax[0].boxplot(pp_cluster)\n",
    "ax[1].scatter(x = spain_data_clusters['Cluster Labels'], y = spain_data_clusters['Power Plants'], alpha = 0.1)\n",
    "plt.show()"
   ]
  }
 ],
 "metadata": {
  "kernelspec": {
   "display_name": "Python",
   "language": "python",
   "name": "conda-env-python-py"
  },
  "language_info": {
   "codemirror_mode": {
    "name": "ipython",
    "version": 3
   },
   "file_extension": ".py",
   "mimetype": "text/x-python",
   "name": "python",
   "nbconvert_exporter": "python",
   "pygments_lexer": "ipython3",
   "version": "3.6.12"
  }
 },
 "nbformat": 4,
 "nbformat_minor": 4
}
